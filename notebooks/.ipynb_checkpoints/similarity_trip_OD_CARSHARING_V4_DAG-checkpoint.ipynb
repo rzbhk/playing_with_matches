{
 "cells": [
  {
   "cell_type": "code",
   "execution_count": 142,
   "metadata": {},
   "outputs": [],
   "source": [
    "import pandas as pd\n",
    "import numpy as np\n",
    "import matplotlib.pyplot as plt\n",
    "import matplotlib as mpl\n",
    "import os\n",
    "from tqdm.notebook import trange, tqdm\n",
    "from numba import jit\n",
    "from mpl_toolkits.mplot3d import Axes3D\n",
    "from collections import Counter\n",
    "from sklearn.preprocessing import MinMaxScaler\n",
    "import seaborn as sns\n",
    "from sklearn.cluster import SpectralClustering"
   ]
  },
  {
   "cell_type": "code",
   "execution_count": 1,
   "metadata": {
    "scrolled": true
   },
   "outputs": [],
   "source": [
    "import networkx as nx"
   ]
  },
  {
   "cell_type": "code",
   "execution_count": 68,
   "metadata": {},
   "outputs": [
    {
     "name": "stderr",
     "output_type": "stream",
     "text": [
      "C:\\Users\\Roozbeh\\Anaconda3\\envs\\similarity_matching\\lib\\site-packages\\tqdm\\std.py:658: FutureWarning: The Panel class is removed from pandas. Accessing it from the top-level namespace will also be removed in the next version\n",
      "  from pandas import Panel\n"
     ]
    }
   ],
   "source": [
    "tqdm.pandas()"
   ]
  },
  {
   "cell_type": "code",
   "execution_count": 4,
   "metadata": {},
   "outputs": [],
   "source": [
    "# os.chdir(r\"/raid6/roozbeh/trip_similarity/\""
   ]
  },
  {
   "cell_type": "code",
   "execution_count": 3,
   "metadata": {},
   "outputs": [],
   "source": [
    "data_path_base = r\"../data/\""
   ]
  },
  {
   "cell_type": "code",
   "execution_count": null,
   "metadata": {},
   "outputs": [],
   "source": [
    "# ODdf = pd.read_parquet(os.path.join(data_path_base,'morning_ODdf.parquet'))\n",
    "# ODdf.columns = ['orig time','orig x','orig y','orig spd','dest time','dest x','dest y','dest spd']"
   ]
  },
  {
   "cell_type": "code",
   "execution_count": 6,
   "metadata": {},
   "outputs": [],
   "source": [
    "morningdf_no_nan = pd.read_parquet(os.path.join(data_path_base, r\"koln_morning_dataframe.parquet\"))"
   ]
  },
  {
   "cell_type": "code",
   "execution_count": 9,
   "metadata": {},
   "outputs": [],
   "source": [
    "xmax = morningdf_no_nan.x.max()\n",
    "xmin = morningdf_no_nan.x.min()\n",
    "ymax = morningdf_no_nan.y.max()\n",
    "ymin = morningdf_no_nan.y.min()\n",
    "tmax = morningdf_no_nan.time.max()\n",
    "tmin = morningdf_no_nan.time.min()"
   ]
  },
  {
   "cell_type": "code",
   "execution_count": 16,
   "metadata": {},
   "outputs": [],
   "source": [
    "morningODdf = pd.read_parquet('ODdf_forcarpoolv2')"
   ]
  },
  {
   "cell_type": "code",
   "execution_count": 916,
   "metadata": {},
   "outputs": [],
   "source": [
    "ODdf = morningODdf[morningODdf['displacement(km)']<=3]"
   ]
  },
  {
   "cell_type": "code",
   "execution_count": 917,
   "metadata": {},
   "outputs": [
    {
     "data": {
      "text/html": [
       "<div>\n",
       "<style scoped>\n",
       "    .dataframe tbody tr th:only-of-type {\n",
       "        vertical-align: middle;\n",
       "    }\n",
       "\n",
       "    .dataframe tbody tr th {\n",
       "        vertical-align: top;\n",
       "    }\n",
       "\n",
       "    .dataframe thead th {\n",
       "        text-align: right;\n",
       "    }\n",
       "</style>\n",
       "<table border=\"1\" class=\"dataframe\">\n",
       "  <thead>\n",
       "    <tr style=\"text-align: right;\">\n",
       "      <th></th>\n",
       "      <th>orig time</th>\n",
       "      <th>orig x</th>\n",
       "      <th>orig y</th>\n",
       "      <th>dest time</th>\n",
       "      <th>dest x</th>\n",
       "      <th>dest y</th>\n",
       "      <th>timediff(h)</th>\n",
       "      <th>displacement(km)</th>\n",
       "    </tr>\n",
       "    <tr>\n",
       "      <th>trip_id</th>\n",
       "      <th></th>\n",
       "      <th></th>\n",
       "      <th></th>\n",
       "      <th></th>\n",
       "      <th></th>\n",
       "      <th></th>\n",
       "      <th></th>\n",
       "      <th></th>\n",
       "    </tr>\n",
       "  </thead>\n",
       "  <tbody>\n",
       "    <tr>\n",
       "      <th>1000024</th>\n",
       "      <td>0.263453</td>\n",
       "      <td>0.420249</td>\n",
       "      <td>0.567624</td>\n",
       "      <td>0.280675</td>\n",
       "      <td>0.368769</td>\n",
       "      <td>0.561977</td>\n",
       "      <td>0.069167</td>\n",
       "      <td>1.035769</td>\n",
       "    </tr>\n",
       "    <tr>\n",
       "      <th>1000057</th>\n",
       "      <td>0.748997</td>\n",
       "      <td>0.356375</td>\n",
       "      <td>0.383800</td>\n",
       "      <td>0.769470</td>\n",
       "      <td>0.280688</td>\n",
       "      <td>0.424197</td>\n",
       "      <td>0.082222</td>\n",
       "      <td>1.715862</td>\n",
       "    </tr>\n",
       "    <tr>\n",
       "      <th>1000063</th>\n",
       "      <td>0.329229</td>\n",
       "      <td>0.352618</td>\n",
       "      <td>0.364284</td>\n",
       "      <td>0.359732</td>\n",
       "      <td>0.310505</td>\n",
       "      <td>0.425931</td>\n",
       "      <td>0.122500</td>\n",
       "      <td>1.493158</td>\n",
       "    </tr>\n",
       "    <tr>\n",
       "      <th>1000074</th>\n",
       "      <td>0.466455</td>\n",
       "      <td>0.070212</td>\n",
       "      <td>0.539355</td>\n",
       "      <td>0.497303</td>\n",
       "      <td>0.130520</td>\n",
       "      <td>0.442940</td>\n",
       "      <td>0.123889</td>\n",
       "      <td>2.274464</td>\n",
       "    </tr>\n",
       "    <tr>\n",
       "      <th>1000075</th>\n",
       "      <td>0.547240</td>\n",
       "      <td>0.134015</td>\n",
       "      <td>0.449135</td>\n",
       "      <td>0.571656</td>\n",
       "      <td>0.070481</td>\n",
       "      <td>0.539422</td>\n",
       "      <td>0.098056</td>\n",
       "      <td>2.208023</td>\n",
       "    </tr>\n",
       "    <tr>\n",
       "      <th>...</th>\n",
       "      <td>...</td>\n",
       "      <td>...</td>\n",
       "      <td>...</td>\n",
       "      <td>...</td>\n",
       "      <td>...</td>\n",
       "      <td>...</td>\n",
       "      <td>...</td>\n",
       "      <td>...</td>\n",
       "    </tr>\n",
       "    <tr>\n",
       "      <th>727160</th>\n",
       "      <td>0.573039</td>\n",
       "      <td>0.268764</td>\n",
       "      <td>0.443596</td>\n",
       "      <td>0.599599</td>\n",
       "      <td>0.406969</td>\n",
       "      <td>0.441212</td>\n",
       "      <td>0.106667</td>\n",
       "      <td>2.764520</td>\n",
       "    </tr>\n",
       "    <tr>\n",
       "      <th>727729</th>\n",
       "      <td>0.650228</td>\n",
       "      <td>0.340033</td>\n",
       "      <td>0.535905</td>\n",
       "      <td>0.677203</td>\n",
       "      <td>0.348349</td>\n",
       "      <td>0.425459</td>\n",
       "      <td>0.108333</td>\n",
       "      <td>2.215168</td>\n",
       "    </tr>\n",
       "    <tr>\n",
       "      <th>73013</th>\n",
       "      <td>0.576221</td>\n",
       "      <td>0.804917</td>\n",
       "      <td>0.152156</td>\n",
       "      <td>0.585143</td>\n",
       "      <td>0.841304</td>\n",
       "      <td>0.147509</td>\n",
       "      <td>0.035833</td>\n",
       "      <td>0.733637</td>\n",
       "    </tr>\n",
       "    <tr>\n",
       "      <th>732987</th>\n",
       "      <td>0.983331</td>\n",
       "      <td>0.368885</td>\n",
       "      <td>0.342547</td>\n",
       "      <td>0.995643</td>\n",
       "      <td>0.334712</td>\n",
       "      <td>0.333610</td>\n",
       "      <td>0.049444</td>\n",
       "      <td>0.706460</td>\n",
       "    </tr>\n",
       "    <tr>\n",
       "      <th>734746</th>\n",
       "      <td>0.438996</td>\n",
       "      <td>0.353437</td>\n",
       "      <td>0.634457</td>\n",
       "      <td>0.451100</td>\n",
       "      <td>0.295640</td>\n",
       "      <td>0.637322</td>\n",
       "      <td>0.048611</td>\n",
       "      <td>1.157371</td>\n",
       "    </tr>\n",
       "  </tbody>\n",
       "</table>\n",
       "<p>88419 rows × 8 columns</p>\n",
       "</div>"
      ],
      "text/plain": [
       "         orig time    orig x    orig y  dest time    dest x    dest y  \\\n",
       "trip_id                                                                 \n",
       "1000024   0.263453  0.420249  0.567624   0.280675  0.368769  0.561977   \n",
       "1000057   0.748997  0.356375  0.383800   0.769470  0.280688  0.424197   \n",
       "1000063   0.329229  0.352618  0.364284   0.359732  0.310505  0.425931   \n",
       "1000074   0.466455  0.070212  0.539355   0.497303  0.130520  0.442940   \n",
       "1000075   0.547240  0.134015  0.449135   0.571656  0.070481  0.539422   \n",
       "...            ...       ...       ...        ...       ...       ...   \n",
       "727160    0.573039  0.268764  0.443596   0.599599  0.406969  0.441212   \n",
       "727729    0.650228  0.340033  0.535905   0.677203  0.348349  0.425459   \n",
       "73013     0.576221  0.804917  0.152156   0.585143  0.841304  0.147509   \n",
       "732987    0.983331  0.368885  0.342547   0.995643  0.334712  0.333610   \n",
       "734746    0.438996  0.353437  0.634457   0.451100  0.295640  0.637322   \n",
       "\n",
       "         timediff(h)  displacement(km)  \n",
       "trip_id                                 \n",
       "1000024     0.069167          1.035769  \n",
       "1000057     0.082222          1.715862  \n",
       "1000063     0.122500          1.493158  \n",
       "1000074     0.123889          2.274464  \n",
       "1000075     0.098056          2.208023  \n",
       "...              ...               ...  \n",
       "727160      0.106667          2.764520  \n",
       "727729      0.108333          2.215168  \n",
       "73013       0.035833          0.733637  \n",
       "732987      0.049444          0.706460  \n",
       "734746      0.048611          1.157371  \n",
       "\n",
       "[88419 rows x 8 columns]"
      ]
     },
     "execution_count": 917,
     "metadata": {},
     "output_type": "execute_result"
    }
   ],
   "source": [
    "\n",
    "ODdf"
   ]
  },
  {
   "cell_type": "markdown",
   "metadata": {},
   "source": [
    "#### Parameters"
   ]
  },
  {
   "cell_type": "code",
   "execution_count": 918,
   "metadata": {},
   "outputs": [],
   "source": [
    "spatial_threshold = 0.05*4 #area is roughly 20x20km so let's say distance 1 = 20km => 0.05 = 1km\n",
    "\n",
    "time_threshold = 1800/(tmax - tmin) #600 seconds\n",
    "\n",
    "w_t = 0.34\n",
    "w_x = 1 - w_t"
   ]
  },
  {
   "cell_type": "code",
   "execution_count": 919,
   "metadata": {},
   "outputs": [],
   "source": [
    "mpl.rc('text', usetex=True)\n",
    "mpl.rcParams['font.monospace'] = ['Computer Modern Typewriter','DejaVu Sans Mono','Bitstream Vera Sans Mono','Courier']\n",
    "sns.set(style = 'darkgrid', context = 'paper', font_scale=4)\n",
    "sns.set_palette(\"bright\")\n",
    "mpl.rcParams['font.family'] = ['monospace']"
   ]
  },
  {
   "cell_type": "markdown",
   "metadata": {},
   "source": [
    "##### We get a sample of trips to schedule"
   ]
  },
  {
   "cell_type": "code",
   "execution_count": null,
   "metadata": {},
   "outputs": [],
   "source": []
  },
  {
   "cell_type": "code",
   "execution_count": 920,
   "metadata": {},
   "outputs": [],
   "source": [
    "reqDF = ODdf[ (ODdf['orig time'] >= 0.30) & (ODdf['dest time'] <= 0.70) ].sample(n=2000, random_state=12345)\n",
    "\n",
    "# ridesDF = ODdf[~ ODdf.index.isin(ridersDF.index)]"
   ]
  },
  {
   "cell_type": "code",
   "execution_count": 921,
   "metadata": {},
   "outputs": [
    {
     "data": {
      "text/html": [
       "<div>\n",
       "<style scoped>\n",
       "    .dataframe tbody tr th:only-of-type {\n",
       "        vertical-align: middle;\n",
       "    }\n",
       "\n",
       "    .dataframe tbody tr th {\n",
       "        vertical-align: top;\n",
       "    }\n",
       "\n",
       "    .dataframe thead th {\n",
       "        text-align: right;\n",
       "    }\n",
       "</style>\n",
       "<table border=\"1\" class=\"dataframe\">\n",
       "  <thead>\n",
       "    <tr style=\"text-align: right;\">\n",
       "      <th></th>\n",
       "      <th>orig time</th>\n",
       "      <th>orig x</th>\n",
       "      <th>orig y</th>\n",
       "      <th>dest time</th>\n",
       "      <th>dest x</th>\n",
       "      <th>dest y</th>\n",
       "      <th>timediff(h)</th>\n",
       "      <th>displacement(km)</th>\n",
       "    </tr>\n",
       "    <tr>\n",
       "      <th>trip_id</th>\n",
       "      <th></th>\n",
       "      <th></th>\n",
       "      <th></th>\n",
       "      <th></th>\n",
       "      <th></th>\n",
       "      <th></th>\n",
       "      <th></th>\n",
       "      <th></th>\n",
       "    </tr>\n",
       "  </thead>\n",
       "  <tbody>\n",
       "    <tr>\n",
       "      <th>385900</th>\n",
       "      <td>0.395560</td>\n",
       "      <td>0.455275</td>\n",
       "      <td>0.410986</td>\n",
       "      <td>0.420943</td>\n",
       "      <td>0.395868</td>\n",
       "      <td>0.397153</td>\n",
       "      <td>0.101944</td>\n",
       "      <td>1.219940</td>\n",
       "    </tr>\n",
       "    <tr>\n",
       "      <th>1115530</th>\n",
       "      <td>0.346106</td>\n",
       "      <td>0.374238</td>\n",
       "      <td>0.556402</td>\n",
       "      <td>0.368654</td>\n",
       "      <td>0.421749</td>\n",
       "      <td>0.562872</td>\n",
       "      <td>0.090556</td>\n",
       "      <td>0.958983</td>\n",
       "    </tr>\n",
       "    <tr>\n",
       "      <th>1416564</th>\n",
       "      <td>0.599461</td>\n",
       "      <td>0.445365</td>\n",
       "      <td>0.522782</td>\n",
       "      <td>0.613985</td>\n",
       "      <td>0.501049</td>\n",
       "      <td>0.524044</td>\n",
       "      <td>0.058333</td>\n",
       "      <td>1.113963</td>\n",
       "    </tr>\n",
       "    <tr>\n",
       "      <th>114514</th>\n",
       "      <td>0.379651</td>\n",
       "      <td>0.603492</td>\n",
       "      <td>0.310894</td>\n",
       "      <td>0.528635</td>\n",
       "      <td>0.600986</td>\n",
       "      <td>0.169768</td>\n",
       "      <td>0.598333</td>\n",
       "      <td>2.822973</td>\n",
       "    </tr>\n",
       "    <tr>\n",
       "      <th>1191561</th>\n",
       "      <td>0.484714</td>\n",
       "      <td>0.564873</td>\n",
       "      <td>0.603116</td>\n",
       "      <td>0.494536</td>\n",
       "      <td>0.521957</td>\n",
       "      <td>0.650210</td>\n",
       "      <td>0.039444</td>\n",
       "      <td>1.274305</td>\n",
       "    </tr>\n",
       "    <tr>\n",
       "      <th>...</th>\n",
       "      <td>...</td>\n",
       "      <td>...</td>\n",
       "      <td>...</td>\n",
       "      <td>...</td>\n",
       "      <td>...</td>\n",
       "      <td>...</td>\n",
       "      <td>...</td>\n",
       "      <td>...</td>\n",
       "    </tr>\n",
       "    <tr>\n",
       "      <th>1339535</th>\n",
       "      <td>0.332411</td>\n",
       "      <td>0.400968</td>\n",
       "      <td>0.336187</td>\n",
       "      <td>0.342786</td>\n",
       "      <td>0.418654</td>\n",
       "      <td>0.361539</td>\n",
       "      <td>0.041667</td>\n",
       "      <td>0.618235</td>\n",
       "    </tr>\n",
       "    <tr>\n",
       "      <th>1194314</th>\n",
       "      <td>0.405381</td>\n",
       "      <td>0.492322</td>\n",
       "      <td>0.528160</td>\n",
       "      <td>0.426823</td>\n",
       "      <td>0.579904</td>\n",
       "      <td>0.462936</td>\n",
       "      <td>0.086111</td>\n",
       "      <td>2.184020</td>\n",
       "    </tr>\n",
       "    <tr>\n",
       "      <th>244835</th>\n",
       "      <td>0.328607</td>\n",
       "      <td>0.340966</td>\n",
       "      <td>0.500812</td>\n",
       "      <td>0.352746</td>\n",
       "      <td>0.336025</td>\n",
       "      <td>0.609513</td>\n",
       "      <td>0.096944</td>\n",
       "      <td>2.176276</td>\n",
       "    </tr>\n",
       "    <tr>\n",
       "      <th>1328504</th>\n",
       "      <td>0.420805</td>\n",
       "      <td>0.456461</td>\n",
       "      <td>0.514115</td>\n",
       "      <td>0.469982</td>\n",
       "      <td>0.385386</td>\n",
       "      <td>0.423118</td>\n",
       "      <td>0.197500</td>\n",
       "      <td>2.309296</td>\n",
       "    </tr>\n",
       "    <tr>\n",
       "      <th>1032643</th>\n",
       "      <td>0.321898</td>\n",
       "      <td>0.583855</td>\n",
       "      <td>0.385654</td>\n",
       "      <td>0.347489</td>\n",
       "      <td>0.694339</td>\n",
       "      <td>0.436976</td>\n",
       "      <td>0.102778</td>\n",
       "      <td>2.436460</td>\n",
       "    </tr>\n",
       "  </tbody>\n",
       "</table>\n",
       "<p>2000 rows × 8 columns</p>\n",
       "</div>"
      ],
      "text/plain": [
       "         orig time    orig x    orig y  dest time    dest x    dest y  \\\n",
       "trip_id                                                                 \n",
       "385900    0.395560  0.455275  0.410986   0.420943  0.395868  0.397153   \n",
       "1115530   0.346106  0.374238  0.556402   0.368654  0.421749  0.562872   \n",
       "1416564   0.599461  0.445365  0.522782   0.613985  0.501049  0.524044   \n",
       "114514    0.379651  0.603492  0.310894   0.528635  0.600986  0.169768   \n",
       "1191561   0.484714  0.564873  0.603116   0.494536  0.521957  0.650210   \n",
       "...            ...       ...       ...        ...       ...       ...   \n",
       "1339535   0.332411  0.400968  0.336187   0.342786  0.418654  0.361539   \n",
       "1194314   0.405381  0.492322  0.528160   0.426823  0.579904  0.462936   \n",
       "244835    0.328607  0.340966  0.500812   0.352746  0.336025  0.609513   \n",
       "1328504   0.420805  0.456461  0.514115   0.469982  0.385386  0.423118   \n",
       "1032643   0.321898  0.583855  0.385654   0.347489  0.694339  0.436976   \n",
       "\n",
       "         timediff(h)  displacement(km)  \n",
       "trip_id                                 \n",
       "385900      0.101944          1.219940  \n",
       "1115530     0.090556          0.958983  \n",
       "1416564     0.058333          1.113963  \n",
       "114514      0.598333          2.822973  \n",
       "1191561     0.039444          1.274305  \n",
       "...              ...               ...  \n",
       "1339535     0.041667          0.618235  \n",
       "1194314     0.086111          2.184020  \n",
       "244835      0.096944          2.176276  \n",
       "1328504     0.197500          2.309296  \n",
       "1032643     0.102778          2.436460  \n",
       "\n",
       "[2000 rows x 8 columns]"
      ]
     },
     "execution_count": 921,
     "metadata": {},
     "output_type": "execute_result"
    }
   ],
   "source": [
    "reqDF"
   ]
  },
  {
   "cell_type": "code",
   "execution_count": 861,
   "metadata": {},
   "outputs": [],
   "source": [
    "# reqDF.reset_index(inplace=True)"
   ]
  },
  {
   "cell_type": "markdown",
   "metadata": {},
   "source": [
    "#### We want to service all nodes of REQDF with minimum number of cars."
   ]
  },
  {
   "cell_type": "markdown",
   "metadata": {},
   "source": [
    "Hence minimum path partitioning of a graph is neeed. The graph is a DAG based on drop off times being less than pick up times. Hence, it has a polynomial time algorithm that works by constructing a bi partitie graph with n nodes on each part where an edge only exists between nodes from left to right if in the DAG a->b then here a in left part and b in right part would have an edge (not directed though). We use this bipartite graph to do maximum weight matching which correponds to the path partitioning in the original DAG."
   ]
  },
  {
   "cell_type": "code",
   "execution_count": 1030,
   "metadata": {},
   "outputs": [],
   "source": [
    "del G\n",
    "G = nx.Graph()"
   ]
  },
  {
   "cell_type": "code",
   "execution_count": 1031,
   "metadata": {},
   "outputs": [],
   "source": [
    "# G.add_nodes_from([i for i in range(2*len(reqDF))])\n",
    "G.add_nodes_from(reqDF.index, bipartite=0)\n",
    "G.add_nodes_from([i+'_x' for i in reqDF.index], bipartite=1) #everything is added twice to make it bipartate!"
   ]
  },
  {
   "cell_type": "code",
   "execution_count": 1032,
   "metadata": {},
   "outputs": [],
   "source": [
    "import numba \n",
    "from numba import jit\n",
    "import numpy as np\n",
    "\n",
    "#weighted geometric mean between time and space. arithmetic mean between origin and dest (/2).\n",
    "@numba.jit(nopython=False)\n",
    "def get_trip_similarity_wgm(t1, t2, w_x = 0.5, w_t = 0.5):\n",
    "#     if w_x + w_t != 1:\n",
    "#         raise Exception(\"sum of w_x and w_t must be 1\")\n",
    "    odist = np.sqrt( (t1[1] - t2[1]) ** 2 + (t1[2] - t2[2])**2 )\n",
    "    ddist = np.sqrt( (t1[4] - t2[4]) ** 2 + (t1[5] - t2[5])**2 )\n",
    "    ot = np.absolute(t1[0]-t2[0])\n",
    "    dt = np.absolute(t1[3]-t2[3])\n",
    "    sim = np.exp(w_x * np.log(1./(1+odist)) + w_t * np.log(1./(1+ot)) )\n",
    "    sim += np.exp(w_x * np.log(1./(1+ddist)) + w_t * np.log(1./(1+dt)) )\n",
    "    return(sim/2)"
   ]
  },
  {
   "cell_type": "code",
   "execution_count": 1033,
   "metadata": {},
   "outputs": [
    {
     "data": {
      "application/vnd.jupyter.widget-view+json": {
       "model_id": "0805d2c143234e22a76d1eef09442c24",
       "version_major": 2,
       "version_minor": 0
      },
      "text/plain": [
       "HBox(children=(FloatProgress(value=0.0, max=2000.0), HTML(value='')))"
      ]
     },
     "metadata": {},
     "output_type": "display_data"
    },
    {
     "name": "stdout",
     "output_type": "stream",
     "text": [
      "\n"
     ]
    }
   ],
   "source": [
    "count_no_potential = 0\n",
    "for row_idx, req in tqdm(reqDF.iterrows(),total=len(reqDF)):\n",
    "    t_diff = reqDF['orig time'] - req['dest time']\n",
    "    potential = reqDF[(0 <= t_diff) & (t_diff <= time_threshold)]\n",
    "    d_diff = np.sqrt( (potential['orig x'] - req['dest x']) ** 2 + (potential['orig y'] - req['dest y'])**2 )\n",
    "    potential = potential[d_diff <=  spatial_threshold]\n",
    "    if not potential.empty and len(potential) > 1:\n",
    "        potential[\"similarity\"] = potential.apply(lambda x : get_trip_similarity_wgm(req.values,x.values),axis=1)\n",
    "#         G.add_node(req.name, bipartite=0)\n",
    "#         G.add_node(req.name+'_x', bipartite=1)\n",
    "        \n",
    "#         G.add_nodes_from(potential.index.values, bipartitle=0)\n",
    "#         G.add_nodes_from([i+'_x' for i in potential.index], bipartite=1)\n",
    "        potential = potential.sort_values('similarity')\n",
    "        potential[:75].apply(lambda row: G.add_edge(req.name, row.name+'_x', weight=int(row.similarity * 10000)) ,axis=1)\n",
    "        \n",
    "    else:\n",
    "        count_no_potential += 1\n",
    "\n",
    "    "
   ]
  },
  {
   "cell_type": "code",
   "execution_count": 1034,
   "metadata": {},
   "outputs": [
    {
     "name": "stdout",
     "output_type": "stream",
     "text": [
      "62\n"
     ]
    }
   ],
   "source": [
    "print(count_no_potential)"
   ]
  },
  {
   "cell_type": "code",
   "execution_count": 1035,
   "metadata": {},
   "outputs": [
    {
     "data": {
      "text/plain": [
       "(132764, 4000)"
      ]
     },
     "execution_count": 1035,
     "metadata": {},
     "output_type": "execute_result"
    }
   ],
   "source": [
    "len(G.edges), len(G.nodes)"
   ]
  },
  {
   "cell_type": "code",
   "execution_count": 1036,
   "metadata": {},
   "outputs": [
    {
     "data": {
      "text/plain": [
       "2000"
      ]
     },
     "execution_count": 1036,
     "metadata": {},
     "output_type": "execute_result"
    }
   ],
   "source": [
    "len([n for n in G.nodes if n.endswith('_x')])"
   ]
  },
  {
   "cell_type": "code",
   "execution_count": 1037,
   "metadata": {},
   "outputs": [],
   "source": [
    "max_matching = nx.max_weight_matching(G, maxcardinality=True)"
   ]
  },
  {
   "cell_type": "code",
   "execution_count": 968,
   "metadata": {
    "scrolled": true
   },
   "outputs": [],
   "source": [
    "# import json\n",
    "\n",
    "# with open('max_matching_2k.json', 'w') as fp:\n",
    "#     json.dump(max_matching, fp, indent=4)"
   ]
  },
  {
   "cell_type": "code",
   "execution_count": 1038,
   "metadata": {},
   "outputs": [
    {
     "data": {
      "text/plain": [
       "1509"
      ]
     },
     "execution_count": 1038,
     "metadata": {},
     "output_type": "execute_result"
    }
   ],
   "source": [
    "len(max_matching)"
   ]
  },
  {
   "cell_type": "code",
   "execution_count": 1039,
   "metadata": {},
   "outputs": [],
   "source": [
    "matching_formatted = dict()\n",
    "for u,v in max_matching:\n",
    "    if u.endswith('_x'):\n",
    "        if (v,u) in max_matching:\n",
    "            print('WHAT? Sample tuple exists')\n",
    "        matching_formatted[v] = u\n",
    "#     else:\n",
    "#         matching_formatted[v[:-2]] = u #nope not what should happen!\n",
    "#         matching_formatted[u] = v-N\n",
    "#     else:\n",
    "#         matching_formatted[v] = u-N"
   ]
  },
  {
   "cell_type": "code",
   "execution_count": 1040,
   "metadata": {},
   "outputs": [
    {
     "data": {
      "text/plain": [
       "{'1025468': '1469556_x',\n",
       " '1102837': '1467667_x',\n",
       " '1311041': '1412581_x',\n",
       " '230088': '277559_x',\n",
       " '117687': '385330_x',\n",
       " '1109790': '1509365_x',\n",
       " '368812': '1490292_x',\n",
       " '1295369': '1565770_x',\n",
       " '1183913': '1561774_x',\n",
       " '1409759': '1350165_x',\n",
       " '1358971': '147379_x',\n",
       " '1360307': '1308478_x',\n",
       " '1491421': '184698_x',\n",
       " '1472433': '375125_x',\n",
       " '1272899': '1291865_x',\n",
       " '1364536': '12990_x',\n",
       " '1141161': '1004986_x',\n",
       " '1375478': '1374164_x',\n",
       " '1252658': '1313577_x',\n",
       " '1276337': '1010955_x',\n",
       " '1038883': '335681_x',\n",
       " '1287775': '1329707_x',\n",
       " '1129443': '1070242_x',\n",
       " '295827': '1218074_x',\n",
       " '1025784': '1280850_x',\n",
       " '240271': '1340529_x',\n",
       " '344956': '1293520_x',\n",
       " '1194840': '36009_x',\n",
       " '108408': '1537823_x',\n",
       " '12567': '117012_x',\n",
       " '1587250': '1069729_x',\n",
       " '1272099': '138769_x',\n",
       " '315295': '100921_x',\n",
       " '1091750': '1099748_x',\n",
       " '148876': '1329228_x',\n",
       " '1474339': '1568282_x',\n",
       " '205190': '1318786_x',\n",
       " '316004': '332602_x',\n",
       " '1326847': '221453_x',\n",
       " '1465099': '113576_x',\n",
       " '1439513': '1460988_x',\n",
       " '1054848': '1075827_x',\n",
       " '1232717': '503347_x',\n",
       " '100312': '1318239_x',\n",
       " '1092341': '1539864_x',\n",
       " '1248805': '155809_x',\n",
       " '118912': '144323_x',\n",
       " '184297': '1123553_x',\n",
       " '1136906': '1241440_x',\n",
       " '1488676': '1101936_x',\n",
       " '1230535': '1457261_x',\n",
       " '1231188': '1380658_x',\n",
       " '1338094': '1519847_x',\n",
       " '1539784': '1157052_x',\n",
       " '1460836': '100312_x',\n",
       " '331377': '1069405_x',\n",
       " '1267168': '1526_x',\n",
       " '1462895': '1349543_x',\n",
       " '1419706': '307414_x',\n",
       " '1216958': '1131690_x',\n",
       " '1566557': '1043636_x',\n",
       " '1561774': '1360_x',\n",
       " '1025260': '1207884_x',\n",
       " '1351061': '1058685_x',\n",
       " '111365': '14583_x',\n",
       " '1004986': '1293356_x',\n",
       " '1422019': '1444472_x',\n",
       " '1010955': '1336468_x',\n",
       " '1239490': '450886_x',\n",
       " '1097738': '1554966_x',\n",
       " '1106944': '1419915_x',\n",
       " '1109920': '1148934_x',\n",
       " '1338664': '1573623_x',\n",
       " '14583': '1256327_x',\n",
       " '1114558': '1049794_x',\n",
       " '1339535': '210940_x',\n",
       " '1535732': '1095671_x',\n",
       " '131957': '1471428_x',\n",
       " '1125979': '257686_x',\n",
       " '1156350': '1097738_x',\n",
       " '1484143': '1059868_x',\n",
       " '1137753': '227421_x',\n",
       " '1197471': '212974_x',\n",
       " '176883': '1210024_x',\n",
       " '339659': '1454172_x',\n",
       " '1224406': '153317_x',\n",
       " '1476627': '27524_x',\n",
       " '1452056': '348617_x',\n",
       " '1486551': '1456012_x',\n",
       " '140657': '1358477_x',\n",
       " '1130230': '1379995_x',\n",
       " '1573623': '279236_x',\n",
       " '1264345': '1367863_x',\n",
       " '1574792': '1018554_x',\n",
       " '1571624': '31699_x',\n",
       " '322711': '131944_x',\n",
       " '356397': '1272139_x',\n",
       " '179757': '1481400_x',\n",
       " '1448781': '101728_x',\n",
       " '241487': '1348932_x',\n",
       " '1350165': '1055398_x',\n",
       " '1293356': '146814_x',\n",
       " '11706': '1330518_x',\n",
       " '363340': '1138835_x',\n",
       " '1082329': '1153342_x',\n",
       " '1029958': '119208_x',\n",
       " '1341492': '1121886_x',\n",
       " '1121365': '1548585_x',\n",
       " '1218074': '102364_x',\n",
       " '1221503': '165862_x',\n",
       " '1158985': '1192327_x',\n",
       " '134708': '1374841_x',\n",
       " '1176920': '1335169_x',\n",
       " '1457024': '1471322_x',\n",
       " '1366194': '1369928_x',\n",
       " '1472540': '1201603_x',\n",
       " '387293': '1466598_x',\n",
       " '1491842': '1535817_x',\n",
       " '1090800': '178777_x',\n",
       " '1191548': '1311041_x',\n",
       " '1567943': '1486395_x',\n",
       " '1135452': '1342698_x',\n",
       " '1437929': '1538924_x',\n",
       " '1471227': '1320829_x',\n",
       " '1187524': '264096_x',\n",
       " '1471428': '1471152_x',\n",
       " '1564622': '14984_x',\n",
       " '1368711': '1456181_x',\n",
       " '1541010': '140657_x',\n",
       " '1080921': '145770_x',\n",
       " '282129': '1175568_x',\n",
       " '1021003': '1295963_x',\n",
       " '1219025': '1523348_x',\n",
       " '1544623': '1354506_x',\n",
       " '1523116': '1194618_x',\n",
       " '304376': '245068_x',\n",
       " '1127034': '1018543_x',\n",
       " '1327174': '1252314_x',\n",
       " '1407027': '1135835_x',\n",
       " '1348930': '1509366_x',\n",
       " '248567': '1306174_x',\n",
       " '206660': '1190856_x',\n",
       " '1533491': '1291082_x',\n",
       " '1198593': '1518400_x',\n",
       " '1047186': '1321401_x',\n",
       " '125273': '1346964_x',\n",
       " '394727': '1534420_x',\n",
       " '210940': '377695_x',\n",
       " '1206048': '1538717_x',\n",
       " '1441402': '11506_x',\n",
       " '219463': '1367783_x',\n",
       " '1350107': '1482147_x',\n",
       " '1266760': '1446645_x',\n",
       " '230983': '1535732_x',\n",
       " '1347911': '290401_x',\n",
       " '240990': '367591_x',\n",
       " '1234408': '1282605_x',\n",
       " '1129508': '1553127_x',\n",
       " '326450': '1391523_x',\n",
       " '1434133': '448337_x',\n",
       " '1503336': '103450_x',\n",
       " '1170600': '1548258_x',\n",
       " '1536399': '110936_x',\n",
       " '1137494': '122950_x',\n",
       " '1290948': '225161_x',\n",
       " '1123174': '296390_x',\n",
       " '1498567': '108408_x',\n",
       " '140897': '1237123_x',\n",
       " '1569530': '241458_x',\n",
       " '1458509': '1254850_x',\n",
       " '1299614': '184441_x',\n",
       " '1845': '1187524_x',\n",
       " '1194433': '169289_x',\n",
       " '1262541': '1102932_x',\n",
       " '1047852': '1271917_x',\n",
       " '1231211': '1050292_x',\n",
       " '14464': '115488_x',\n",
       " '1374879': '1219025_x',\n",
       " '1279849': '1491248_x',\n",
       " '1517754': '1104548_x',\n",
       " '1306730': '1262541_x',\n",
       " '1246891': '1161566_x',\n",
       " '149225': '1496223_x',\n",
       " '1149885': '1306650_x',\n",
       " '209642': '1292589_x',\n",
       " '1322415': '1396204_x',\n",
       " '1182420': '255938_x',\n",
       " '1347646': '1589343_x',\n",
       " '1007445': '237610_x',\n",
       " '1191860': '1112834_x',\n",
       " '1057367': '1533962_x',\n",
       " '299782': '1082359_x',\n",
       " '211581': '1458332_x',\n",
       " '1517962': '1113153_x',\n",
       " '1057503': '1031982_x',\n",
       " '1335120': '1330155_x',\n",
       " '1523348': '195314_x',\n",
       " '1010921': '1238038_x',\n",
       " '264704': '1585294_x',\n",
       " '1293724': '1012756_x',\n",
       " '142264': '1344403_x',\n",
       " '119208': '1512383_x',\n",
       " '25177': '139925_x',\n",
       " '259459': '1000752_x',\n",
       " '1230916': '382410_x',\n",
       " '1503411': '1261036_x',\n",
       " '1574680': '1326847_x',\n",
       " '261411': '1527285_x',\n",
       " '1325534': '1512102_x',\n",
       " '1020193': '1248961_x',\n",
       " '107285': '1342332_x',\n",
       " '1386058': '249248_x',\n",
       " '1056251': '1222521_x',\n",
       " '1346263': '111747_x',\n",
       " '1318871': '1262515_x',\n",
       " '1518653': '1275475_x',\n",
       " '1563811': '1123087_x',\n",
       " '1143103': '388619_x',\n",
       " '1576142': '1325958_x',\n",
       " '1548258': '23046_x',\n",
       " '154821': '1275827_x',\n",
       " '1512102': '13278_x',\n",
       " '1316655': '221677_x',\n",
       " '1586014': '443175_x',\n",
       " '271861': '1360399_x',\n",
       " '1523402': '1150795_x',\n",
       " '1529235': '1539838_x',\n",
       " '151014': '1465094_x',\n",
       " '1250508': '1226752_x',\n",
       " '1003644': '1579267_x',\n",
       " '112667': '1021611_x',\n",
       " '221453': '1424514_x',\n",
       " '1491603': '1278377_x',\n",
       " '1374164': '1302673_x',\n",
       " '1539838': '1462684_x',\n",
       " '1006038': '18231_x',\n",
       " '1169195': '1471923_x',\n",
       " '161846': '1311961_x',\n",
       " '1002325': '1272098_x',\n",
       " '367791': '1125526_x',\n",
       " '1420705': '1052828_x',\n",
       " '104512': '223250_x',\n",
       " '1554929': '173308_x',\n",
       " '1262936': '1060106_x',\n",
       " '1008993': '1276854_x',\n",
       " '183266': '148876_x',\n",
       " '383304': '1387671_x',\n",
       " '1069405': '1205401_x',\n",
       " '1216304': '10237_x',\n",
       " '1490756': '108574_x',\n",
       " '165558': '1499644_x',\n",
       " '1043636': '172344_x',\n",
       " '178777': '120023_x',\n",
       " '1058088': '285026_x',\n",
       " '1118440': '1577090_x',\n",
       " '1358505': '1461295_x',\n",
       " '1580981': '1473741_x',\n",
       " '1183804': '176883_x',\n",
       " '1389212': '1183804_x',\n",
       " '1408540': '1081409_x',\n",
       " '141689': '475065_x',\n",
       " '1451731': '1100011_x',\n",
       " '1346462': '140000_x',\n",
       " '1208348': '1113809_x',\n",
       " '262734': '1554766_x',\n",
       " '1358852': '252946_x',\n",
       " '191353': '395315_x',\n",
       " '1236492': '1452962_x',\n",
       " '1469556': '1414593_x',\n",
       " '1293520': '1447394_x',\n",
       " '1012691': '1332632_x',\n",
       " '1591497': '360052_x',\n",
       " '1168177': '113745_x',\n",
       " '144960': '1164575_x',\n",
       " '1381812': '1304545_x',\n",
       " '1413940': '1477611_x',\n",
       " '1055398': '350461_x',\n",
       " '1287877': '1333736_x',\n",
       " '1353720': '1150122_x',\n",
       " '1138064': '1025468_x',\n",
       " '1131118': '26911_x',\n",
       " '1478606': '1261037_x',\n",
       " '1159928': '1032704_x',\n",
       " '1270218': '1353404_x',\n",
       " '1204725': '1441687_x',\n",
       " '210854': '206660_x',\n",
       " '122070': '1021121_x',\n",
       " '1539864': '1567943_x',\n",
       " '300830': '1286847_x',\n",
       " '1466894': '384594_x',\n",
       " '1378792': '1342037_x',\n",
       " '1364540': '1400785_x',\n",
       " '102728': '1223669_x',\n",
       " '1210024': '128074_x',\n",
       " '1104650': '1391558_x',\n",
       " '169793': '1373171_x',\n",
       " '1334174': '1203438_x',\n",
       " '1185174': '1071699_x',\n",
       " '1095482': '1583737_x',\n",
       " '1306745': '1505693_x',\n",
       " '1080878': '1340168_x',\n",
       " '1493000': '1438476_x',\n",
       " '1034342': '1001510_x',\n",
       " '1040391': '1159928_x',\n",
       " '10969': '1057375_x',\n",
       " '1260717': '107886_x',\n",
       " '1214410': '1319329_x',\n",
       " '358902': '1417447_x',\n",
       " '1567448': '1556351_x',\n",
       " '248626': '1004032_x',\n",
       " '128651': '299126_x',\n",
       " '1247780': '1337640_x',\n",
       " '1424514': '124247_x',\n",
       " '1056951': '1544623_x',\n",
       " '1284529': '1152121_x',\n",
       " '1079173': '1136907_x',\n",
       " '1548030': '1194314_x',\n",
       " '1361976': '1156350_x',\n",
       " '356721': '1301303_x',\n",
       " '173025': '1410083_x',\n",
       " '191711': '1491228_x',\n",
       " '1525094': '1190093_x',\n",
       " '1432959': '1506074_x',\n",
       " '133271': '1474339_x',\n",
       " '1518295': '1025636_x',\n",
       " '1045425': '1050624_x',\n",
       " '1279618': '1464638_x',\n",
       " '290260': '1216878_x',\n",
       " '1503094': '1585192_x',\n",
       " '195342': '204336_x',\n",
       " '1102276': '472800_x',\n",
       " '1332632': '1460629_x',\n",
       " '245614': '1563830_x',\n",
       " '1009866': '258307_x',\n",
       " '1075824': '1143256_x',\n",
       " '1389106': '1092020_x',\n",
       " '1207303': '1327264_x',\n",
       " '1392085': '1204389_x',\n",
       " '107655': '1353851_x',\n",
       " '1517569': '1086987_x',\n",
       " '1340479': '1265549_x',\n",
       " '117172': '1110320_x',\n",
       " '37272': '1246891_x',\n",
       " '1527733': '431181_x',\n",
       " '1540649': '346081_x',\n",
       " '210703': '1436722_x',\n",
       " '1493870': '1341492_x',\n",
       " '1534532': '1126002_x',\n",
       " '1446645': '1096108_x',\n",
       " '124122': '416867_x',\n",
       " '1295992': '1432270_x',\n",
       " '139648': '1219097_x',\n",
       " '128074': '1121365_x',\n",
       " '197740': '1011511_x',\n",
       " '1192058': '1366783_x',\n",
       " '1310699': '1034559_x',\n",
       " '1420607': '253635_x',\n",
       " '1451661': '1024070_x',\n",
       " '1012676': '1328290_x',\n",
       " '111132': '1038299_x',\n",
       " '1560966': '1434133_x',\n",
       " '1092020': '243873_x',\n",
       " '124247': '119916_x',\n",
       " '137598': '116655_x',\n",
       " '1408314': '327121_x',\n",
       " '1542756': '1215733_x',\n",
       " '1107720': '1293171_x',\n",
       " '153317': '1224307_x',\n",
       " '1248961': '1323511_x',\n",
       " '1369380': '1536399_x',\n",
       " '313307': '1455737_x',\n",
       " '1565693': '1545824_x',\n",
       " '1166740': '1232855_x',\n",
       " '1238038': '1699_x',\n",
       " '1315500': '1029295_x',\n",
       " '1152949': '1558313_x',\n",
       " '1083876': '1353204_x',\n",
       " '367591': '1216039_x',\n",
       " '1250596': '195342_x',\n",
       " '155511': '1371686_x',\n",
       " '475065': '1343815_x',\n",
       " '1475229': '1237305_x',\n",
       " '169289': '1275176_x',\n",
       " '101728': '1170174_x',\n",
       " '1190856': '209404_x',\n",
       " '1214827': '1355149_x',\n",
       " '1409767': '150877_x',\n",
       " '414815': '101692_x',\n",
       " '1108808': '140379_x',\n",
       " '173560': '133313_x',\n",
       " '1380645': '1239360_x',\n",
       " '1042010': '1419437_x',\n",
       " '141526': '1537802_x',\n",
       " '1131690': '235553_x',\n",
       " '239133': '1308204_x',\n",
       " '1376266': '1015858_x',\n",
       " '1370794': '151472_x',\n",
       " '1084124': '1326524_x',\n",
       " '228986': '1047966_x',\n",
       " '1152314': '1560951_x',\n",
       " '255062': '1006038_x',\n",
       " '1226752': '1512950_x',\n",
       " '1306347': '1280071_x',\n",
       " '1288989': '1300356_x',\n",
       " '237610': '1177177_x',\n",
       " '363084': '1321423_x',\n",
       " '1278018': '380131_x',\n",
       " '1239058': '1245814_x',\n",
       " '1268848': '1089758_x',\n",
       " '1073904': '344809_x',\n",
       " '1144121': '1228507_x',\n",
       " '1049362': '133340_x',\n",
       " '1263278': '202685_x',\n",
       " '1324626': '1318572_x',\n",
       " '1583737': '1590438_x',\n",
       " '1311': '1338094_x',\n",
       " '102182': '1376266_x',\n",
       " '167513': '134355_x',\n",
       " '1469442': '342354_x',\n",
       " '1297452': '1520431_x',\n",
       " '1001622': '1258763_x',\n",
       " '1211956': '299782_x',\n",
       " '335710': '1255296_x',\n",
       " '1386974': '372039_x',\n",
       " '1381996': '192595_x',\n",
       " '1557614': '196043_x',\n",
       " '327121': '1298708_x',\n",
       " '1191917': '1011912_x',\n",
       " '1171207': '1202702_x',\n",
       " '286137': '1560734_x',\n",
       " '1336959': '1012956_x',\n",
       " '1098184': '1590687_x',\n",
       " '1027744': '1587665_x',\n",
       " '1135440': '1531746_x',\n",
       " '1224307': '1070698_x',\n",
       " '1496223': '1170600_x',\n",
       " '17814': '1264453_x',\n",
       " '1438013': '1152949_x',\n",
       " '1307142': '1141033_x',\n",
       " '138769': '1378886_x',\n",
       " '1064215': '1131321_x',\n",
       " '227421': '1290667_x',\n",
       " '223945': '1060217_x',\n",
       " '1211659': '1350894_x',\n",
       " '155862': '1319443_x',\n",
       " '190678': '148823_x',\n",
       " '1355149': '1480934_x',\n",
       " '1217205': '1572695_x',\n",
       " '1303206': '240264_x',\n",
       " '1163984': '1348904_x',\n",
       " '1462684': '237539_x',\n",
       " '1002212': '1538787_x',\n",
       " '1350894': '1111407_x',\n",
       " '1076043': '1410960_x',\n",
       " '1290500': '1023113_x',\n",
       " '1025163': '1503829_x',\n",
       " '1237869': '1555912_x',\n",
       " '1355078': '1225134_x',\n",
       " '364196': '1435038_x',\n",
       " '103773': '1260717_x',\n",
       " '1404199': '1541010_x',\n",
       " '1054271': '1376926_x',\n",
       " '1308204': '328437_x',\n",
       " '1100011': '227019_x',\n",
       " '155117': '11706_x',\n",
       " '128781': '423511_x',\n",
       " '1000752': '1165356_x',\n",
       " '1089758': '193271_x',\n",
       " '1366783': '1533859_x',\n",
       " '1331851': '1370794_x',\n",
       " '1183887': '1453023_x',\n",
       " '117212': '160932_x',\n",
       " '1419410': '1401034_x',\n",
       " '266771': '1155072_x',\n",
       " '1445534': '112667_x',\n",
       " '1502838': '242566_x',\n",
       " '1415195': '1344130_x',\n",
       " '1145647': '114514_x',\n",
       " '1224016': '1563811_x',\n",
       " '1155019': '1443244_x',\n",
       " '1089559': '1480412_x',\n",
       " '1434139': '1147081_x',\n",
       " '1545430': '1168059_x',\n",
       " '109611': '1409759_x',\n",
       " '1115530': '169793_x',\n",
       " '1065275': '1537164_x',\n",
       " '1110320': '1217227_x',\n",
       " '1544071': '1081515_x',\n",
       " '1537251': '1341246_x',\n",
       " '1509759': '1219677_x',\n",
       " '1463595': '105847_x',\n",
       " '1324020': '166673_x',\n",
       " '1156224': '1387726_x',\n",
       " '1011322': '1324020_x',\n",
       " '1025077': '1347911_x',\n",
       " '108358': '1204233_x',\n",
       " '1193680': '1182420_x',\n",
       " '1445883': '1057936_x',\n",
       " '1053806': '1319310_x',\n",
       " '1411993': '1174762_x',\n",
       " '1383385': '1474344_x',\n",
       " '1409899': '1287877_x',\n",
       " '1002380': '1108625_x',\n",
       " '1262505': '122070_x',\n",
       " '1237305': '144639_x',\n",
       " '193271': '1217574_x',\n",
       " '1121886': '1197892_x',\n",
       " '1558818': '1433166_x',\n",
       " '1462386': '1185171_x',\n",
       " '26911': '1466431_x',\n",
       " '1291865': '1162688_x',\n",
       " '1584519': '1432999_x',\n",
       " '114889': '1012594_x',\n",
       " '1116474': '1184434_x',\n",
       " '339570': '1208235_x',\n",
       " '1590687': '103773_x',\n",
       " '1566217': '1299614_x',\n",
       " '1543042': '134842_x',\n",
       " '1012756': '1198825_x',\n",
       " '1485893': '1273345_x',\n",
       " '234553': '1573866_x',\n",
       " '1258303': '1355078_x',\n",
       " '1333736': '1037757_x',\n",
       " '1585295': '1535351_x',\n",
       " '1520884': '1380645_x',\n",
       " '1070242': '1457024_x',\n",
       " '1241803': '1429829_x',\n",
       " '1466431': '1358082_x',\n",
       " '1109624': '1183913_x',\n",
       " '1008248': '1194433_x',\n",
       " '1097746': '1208134_x',\n",
       " '201517': '1435956_x',\n",
       " '1527285': '260593_x',\n",
       " '1437241': '192784_x',\n",
       " '160932': '1113060_x',\n",
       " '1126146': '1191860_x',\n",
       " '1121514': '1051713_x',\n",
       " '1245814': '1095482_x',\n",
       " '1404022': '1581455_x',\n",
       " '1488492': '28467_x',\n",
       " '1402991': '1512287_x',\n",
       " '124018': '1348930_x',\n",
       " '1495908': '1298276_x',\n",
       " '140589': '17814_x',\n",
       " '1141075': '1415195_x',\n",
       " '1336617': '1267994_x',\n",
       " '318720': '1073383_x',\n",
       " '1579744': '313307_x',\n",
       " '1168219': '240271_x',\n",
       " '1556351': '184789_x',\n",
       " '1542936': '1109624_x',\n",
       " '1021866': '439237_x',\n",
       " '377695': '208263_x',\n",
       " '1512287': '326450_x',\n",
       " '1438708': '1340212_x',\n",
       " '1586891': '1430794_x',\n",
       " '1430794': '1420607_x',\n",
       " '1577942': '118912_x',\n",
       " '1550902': '261301_x',\n",
       " '1116212': '290260_x',\n",
       " '1191561': '111365_x',\n",
       " '1170103': '1186362_x',\n",
       " '1503563': '1525680_x',\n",
       " '1451733': '1313381_x',\n",
       " '1336771': '1270218_x',\n",
       " '1589343': '10969_x',\n",
       " '1175608': '1090800_x',\n",
       " '1272226': '1092215_x',\n",
       " '1186320': '13603_x',\n",
       " '1337640': '1320312_x',\n",
       " '1175278': '231209_x',\n",
       " '1099748': '423060_x',\n",
       " '1548004': '1293724_x',\n",
       " '1290085': '230703_x',\n",
       " '281623': '1340172_x',\n",
       " '1330532': '237739_x',\n",
       " '1340172': '1029083_x',\n",
       " '1344990': '308716_x',\n",
       " '1340529': '226702_x',\n",
       " '134842': '124984_x',\n",
       " '1309792': '1422019_x',\n",
       " '1554766': '1079226_x',\n",
       " '49069': '1036547_x',\n",
       " '1058685': '1492574_x',\n",
       " '194257': '505437_x',\n",
       " '1190828': '1135949_x',\n",
       " '1363661': '265940_x',\n",
       " '261301': '1386058_x',\n",
       " '1445654': '1393296_x',\n",
       " '1065806': '1465099_x',\n",
       " '1466865': '350027_x',\n",
       " '1293702': '1027951_x',\n",
       " '1424138': '169977_x',\n",
       " '1560951': '1073904_x',\n",
       " '1123087': '1109841_x',\n",
       " '1509762': '246163_x',\n",
       " '1055658': '1474456_x',\n",
       " '1509365': '1530357_x',\n",
       " '1543905': '1175608_x',\n",
       " '1272940': '146079_x',\n",
       " '1562480': '1154696_x',\n",
       " '1212099': '1378792_x',\n",
       " '1270359': '356721_x',\n",
       " '1074798': '1091750_x',\n",
       " '1001510': '1454199_x',\n",
       " '262564': '177451_x',\n",
       " '1383111': '1498426_x',\n",
       " '1303937': '1143863_x',\n",
       " '173308': '1419706_x',\n",
       " '1409324': '1395808_x',\n",
       " '1521464': '1330503_x',\n",
       " '1460503': '304376_x',\n",
       " '1344403': '1381977_x',\n",
       " '335681': '1249770_x',\n",
       " '1246928': '1164130_x',\n",
       " '1237727': '1539341_x',\n",
       " '1109841': '347835_x',\n",
       " '1332601': '473053_x',\n",
       " '1098416': '1183904_x',\n",
       " '1397292': '1000094_x',\n",
       " '101692': '1060525_x',\n",
       " '1161566': '1243878_x',\n",
       " '23046': '1449477_x',\n",
       " '1286073': '266771_x',\n",
       " '1170174': '17207_x',\n",
       " '1539549': '1250508_x',\n",
       " '1200756': '1330532_x',\n",
       " '1458434': '1115163_x',\n",
       " '1112756': '1306347_x',\n",
       " '1439201': '1573614_x',\n",
       " '1337317': '1587123_x',\n",
       " '1083102': '1522376_x',\n",
       " '228542': '1403685_x',\n",
       " '1050292': '212019_x',\n",
       " '246163': '134994_x',\n",
       " '1483486': '1368711_x',\n",
       " '277559': '234553_x',\n",
       " '1199467': '1116811_x',\n",
       " '1537733': '1510648_x',\n",
       " '1348966': '1475403_x',\n",
       " '135970': '1550923_x',\n",
       " '1445564': '1102276_x',\n",
       " '1456665': '1472433_x',\n",
       " '1161486': '1234828_x',\n",
       " '1075827': '1465876_x',\n",
       " '146079': '1152815_x',\n",
       " '1396402': '117703_x',\n",
       " '1199851': '1009340_x',\n",
       " '1308525': '1493870_x',\n",
       " '1380787': '1056251_x',\n",
       " '1486141': '1479425_x',\n",
       " '1104287': '1089446_x',\n",
       " '1528938': '1218703_x',\n",
       " '1200652': '1463595_x',\n",
       " '1530460': '1530563_x',\n",
       " '1479755': '1569500_x',\n",
       " '1427586': '1539784_x',\n",
       " '1335469': '1358971_x',\n",
       " '133100': '140975_x',\n",
       " '1487278': '1530541_x',\n",
       " '1340168': '1434139_x',\n",
       " '1201189': '1042297_x',\n",
       " '1524447': '1174015_x',\n",
       " '1260447': '1518368_x',\n",
       " '220760': '1421859_x',\n",
       " '1481685': '442725_x',\n",
       " '1221635': '404045_x',\n",
       " '1076954': '1432212_x',\n",
       " '1505775': '16637_x',\n",
       " '155809': '1475365_x',\n",
       " '242566': '1039969_x',\n",
       " '346081': '1221624_x',\n",
       " '1121587': '1385531_x',\n",
       " '1500041': '178048_x',\n",
       " '1152815': '1193680_x',\n",
       " '1590681': '1126146_x',\n",
       " '1065230': '1522794_x',\n",
       " '1358727': '1542800_x',\n",
       " '1231243': '377734_x',\n",
       " '1286847': '1454823_x',\n",
       " '1096108': '331714_x',\n",
       " '1271326': '1347999_x',\n",
       " '1244083': '1485893_x',\n",
       " '309518': '140897_x',\n",
       " '135533': '297677_x',\n",
       " '1217574': '1049362_x',\n",
       " '1553502': '1540649_x',\n",
       " '1458147': '1322156_x',\n",
       " '1020015': '1390292_x',\n",
       " '1369928': '1361976_x',\n",
       " '181334': '144741_x',\n",
       " '1163782': '1221635_x',\n",
       " '1083727': '1403459_x',\n",
       " '1118117': '1143356_x',\n",
       " '1057726': '1023726_x',\n",
       " '1031982': '1044343_x',\n",
       " '1153342': '1247059_x',\n",
       " '1415285': '1199564_x',\n",
       " '158170': '1403643_x',\n",
       " '1355632': '228986_x',\n",
       " '1290667': '1459341_x',\n",
       " '1442807': '1311732_x',\n",
       " '1178011': '1239490_x',\n",
       " '1028578': '1574792_x',\n",
       " '303075': '1444966_x',\n",
       " '1289668': '363340_x',\n",
       " '258307': '370244_x',\n",
       " '1191537': '1126565_x',\n",
       " '1264453': '1203080_x',\n",
       " '1327264': '1054066_x',\n",
       " '1313120': '17148_x',\n",
       " '1537823': '1106944_x',\n",
       " '1204233': '1429207_x',\n",
       " '236343': '1314172_x',\n",
       " '1156921': '1500930_x',\n",
       " '1060106': '1103114_x',\n",
       " '253824': '1483748_x',\n",
       " '1165795': '220760_x',\n",
       " '1379995': '1537933_x',\n",
       " '19301': '1293702_x',\n",
       " '1123553': '1224016_x',\n",
       " '360622': '1475229_x',\n",
       " '1290434': '1430214_x',\n",
       " '1581455': '1013843_x',\n",
       " '248041': '1052095_x',\n",
       " '1198762': '1290948_x',\n",
       " '1020254': '1499965_x',\n",
       " '1362940': '19301_x',\n",
       " '1460988': '1403568_x',\n",
       " '123688': '231781_x',\n",
       " '1458986': '276957_x',\n",
       " '111717': '230089_x',\n",
       " '1254850': '1300241_x',\n",
       " '1029083': '1258524_x',\n",
       " '1073383': '1373978_x',\n",
       " '1425640': '332172_x',\n",
       " '1360': '1173498_x',\n",
       " '1225134': '1479755_x',\n",
       " '1101850': '1392236_x',\n",
       " '1211208': '1025077_x',\n",
       " '1579639': '119631_x',\n",
       " '1358198': '1523116_x',\n",
       " '190309': '1438708_x',\n",
       " '1531746': '1585551_x',\n",
       " '1108625': '1084901_x',\n",
       " '194810': '1115530_x',\n",
       " '1219588': '1228263_x',\n",
       " '1296612': '1208306_x',\n",
       " '1087975': '1302750_x',\n",
       " '230438': '1537733_x',\n",
       " '1192327': '1555644_x',\n",
       " '1485443': '1445654_x',\n",
       " '230089': '1187469_x',\n",
       " '1123166': '1525136_x',\n",
       " '1345898': '1555078_x',\n",
       " '1183036': '1445564_x',\n",
       " '1052828': '1353720_x',\n",
       " '1471152': '1387256_x',\n",
       " '1024070': '1509489_x',\n",
       " '1364129': '1020193_x',\n",
       " '1086987': '1168177_x',\n",
       " '1029858': '1410907_x',\n",
       " '1126565': '1240338_x',\n",
       " '1550674': '1192058_x',\n",
       " '1377343': '1409131_x',\n",
       " '1344130': '1163495_x',\n",
       " '1381977': '245614_x',\n",
       " '1272409': '431080_x',\n",
       " '1577299': '188813_x',\n",
       " '115488': '1350107_x',\n",
       " '195314': '1104650_x',\n",
       " '1183261': '1558553_x',\n",
       " '1444472': '1320804_x',\n",
       " '146825': '1006373_x',\n",
       " '1428865': '1437814_x'}"
      ]
     },
     "execution_count": 1040,
     "metadata": {},
     "output_type": "execute_result"
    }
   ],
   "source": [
    "matching_formatted #all _x ones are on the right!"
   ]
  },
  {
   "cell_type": "code",
   "execution_count": 1041,
   "metadata": {},
   "outputs": [],
   "source": [
    "set_left = set(matching_formatted.keys())"
   ]
  },
  {
   "cell_type": "code",
   "execution_count": 1042,
   "metadata": {},
   "outputs": [],
   "source": [
    "set_right = set(matching_formatted.values())"
   ]
  },
  {
   "cell_type": "code",
   "execution_count": 1043,
   "metadata": {},
   "outputs": [
    {
     "data": {
      "text/plain": [
       "775"
      ]
     },
     "execution_count": 1043,
     "metadata": {},
     "output_type": "execute_result"
    }
   ],
   "source": [
    "len(set_left)"
   ]
  },
  {
   "cell_type": "code",
   "execution_count": 1044,
   "metadata": {},
   "outputs": [
    {
     "data": {
      "text/plain": [
       "507"
      ]
     },
     "execution_count": 1044,
     "metadata": {},
     "output_type": "execute_result"
    }
   ],
   "source": [
    "len(set_left - {i[:-2] for i in set_right})"
   ]
  },
  {
   "cell_type": "code",
   "execution_count": 1045,
   "metadata": {},
   "outputs": [
    {
     "data": {
      "text/plain": [
       "1282"
      ]
     },
     "execution_count": 1045,
     "metadata": {},
     "output_type": "execute_result"
    }
   ],
   "source": [
    "len(set_left | {i[:-2] for i in set_right})"
   ]
  },
  {
   "cell_type": "markdown",
   "metadata": {},
   "source": [
    "Number above is the number of nodes that are in a chain"
   ]
  },
  {
   "cell_type": "code",
   "execution_count": 1046,
   "metadata": {},
   "outputs": [],
   "source": [
    "def get_distance(t):\n",
    "    return np.sqrt( (t['orig x'] - t['dest x'] ) ** 2 + (t['orig y'] - t['dest y'])**2 )"
   ]
  },
  {
   "cell_type": "code",
   "execution_count": 1047,
   "metadata": {},
   "outputs": [],
   "source": [
    "def get_e2b_distance(t1,t2):\n",
    "    return 20 * np.sqrt((t2['orig x'] - t1['dest x']) ** 2 + (t2['orig y'] - t1['dest y'])**2 )"
   ]
  },
  {
   "cell_type": "code",
   "execution_count": 1048,
   "metadata": {},
   "outputs": [],
   "source": [
    "def get_e2b_time(t1,t2):\n",
    "    return (tmax-tmin)*(t2['orig time'] - t1['dest time'])"
   ]
  },
  {
   "cell_type": "code",
   "execution_count": 1049,
   "metadata": {},
   "outputs": [],
   "source": [
    "reqDF[\"distance\"] = reqDF.apply(get_distance,axis=1)"
   ]
  },
  {
   "cell_type": "code",
   "execution_count": 1050,
   "metadata": {},
   "outputs": [
    {
     "data": {
      "text/html": [
       "<div>\n",
       "<style scoped>\n",
       "    .dataframe tbody tr th:only-of-type {\n",
       "        vertical-align: middle;\n",
       "    }\n",
       "\n",
       "    .dataframe tbody tr th {\n",
       "        vertical-align: top;\n",
       "    }\n",
       "\n",
       "    .dataframe thead th {\n",
       "        text-align: right;\n",
       "    }\n",
       "</style>\n",
       "<table border=\"1\" class=\"dataframe\">\n",
       "  <thead>\n",
       "    <tr style=\"text-align: right;\">\n",
       "      <th></th>\n",
       "      <th>orig time</th>\n",
       "      <th>orig x</th>\n",
       "      <th>orig y</th>\n",
       "      <th>dest time</th>\n",
       "      <th>dest x</th>\n",
       "      <th>dest y</th>\n",
       "      <th>timediff(h)</th>\n",
       "      <th>displacement(km)</th>\n",
       "      <th>distance</th>\n",
       "    </tr>\n",
       "    <tr>\n",
       "      <th>trip_id</th>\n",
       "      <th></th>\n",
       "      <th></th>\n",
       "      <th></th>\n",
       "      <th></th>\n",
       "      <th></th>\n",
       "      <th></th>\n",
       "      <th></th>\n",
       "      <th></th>\n",
       "      <th></th>\n",
       "    </tr>\n",
       "  </thead>\n",
       "  <tbody>\n",
       "    <tr>\n",
       "      <th>385900</th>\n",
       "      <td>0.395560</td>\n",
       "      <td>0.455275</td>\n",
       "      <td>0.410986</td>\n",
       "      <td>0.420943</td>\n",
       "      <td>0.395868</td>\n",
       "      <td>0.397153</td>\n",
       "      <td>0.101944</td>\n",
       "      <td>1.219940</td>\n",
       "      <td>0.060997</td>\n",
       "    </tr>\n",
       "    <tr>\n",
       "      <th>1115530</th>\n",
       "      <td>0.346106</td>\n",
       "      <td>0.374238</td>\n",
       "      <td>0.556402</td>\n",
       "      <td>0.368654</td>\n",
       "      <td>0.421749</td>\n",
       "      <td>0.562872</td>\n",
       "      <td>0.090556</td>\n",
       "      <td>0.958983</td>\n",
       "      <td>0.047949</td>\n",
       "    </tr>\n",
       "    <tr>\n",
       "      <th>1416564</th>\n",
       "      <td>0.599461</td>\n",
       "      <td>0.445365</td>\n",
       "      <td>0.522782</td>\n",
       "      <td>0.613985</td>\n",
       "      <td>0.501049</td>\n",
       "      <td>0.524044</td>\n",
       "      <td>0.058333</td>\n",
       "      <td>1.113963</td>\n",
       "      <td>0.055698</td>\n",
       "    </tr>\n",
       "    <tr>\n",
       "      <th>114514</th>\n",
       "      <td>0.379651</td>\n",
       "      <td>0.603492</td>\n",
       "      <td>0.310894</td>\n",
       "      <td>0.528635</td>\n",
       "      <td>0.600986</td>\n",
       "      <td>0.169768</td>\n",
       "      <td>0.598333</td>\n",
       "      <td>2.822973</td>\n",
       "      <td>0.141149</td>\n",
       "    </tr>\n",
       "    <tr>\n",
       "      <th>1191561</th>\n",
       "      <td>0.484714</td>\n",
       "      <td>0.564873</td>\n",
       "      <td>0.603116</td>\n",
       "      <td>0.494536</td>\n",
       "      <td>0.521957</td>\n",
       "      <td>0.650210</td>\n",
       "      <td>0.039444</td>\n",
       "      <td>1.274305</td>\n",
       "      <td>0.063715</td>\n",
       "    </tr>\n",
       "    <tr>\n",
       "      <th>...</th>\n",
       "      <td>...</td>\n",
       "      <td>...</td>\n",
       "      <td>...</td>\n",
       "      <td>...</td>\n",
       "      <td>...</td>\n",
       "      <td>...</td>\n",
       "      <td>...</td>\n",
       "      <td>...</td>\n",
       "      <td>...</td>\n",
       "    </tr>\n",
       "    <tr>\n",
       "      <th>1339535</th>\n",
       "      <td>0.332411</td>\n",
       "      <td>0.400968</td>\n",
       "      <td>0.336187</td>\n",
       "      <td>0.342786</td>\n",
       "      <td>0.418654</td>\n",
       "      <td>0.361539</td>\n",
       "      <td>0.041667</td>\n",
       "      <td>0.618235</td>\n",
       "      <td>0.030912</td>\n",
       "    </tr>\n",
       "    <tr>\n",
       "      <th>1194314</th>\n",
       "      <td>0.405381</td>\n",
       "      <td>0.492322</td>\n",
       "      <td>0.528160</td>\n",
       "      <td>0.426823</td>\n",
       "      <td>0.579904</td>\n",
       "      <td>0.462936</td>\n",
       "      <td>0.086111</td>\n",
       "      <td>2.184020</td>\n",
       "      <td>0.109201</td>\n",
       "    </tr>\n",
       "    <tr>\n",
       "      <th>244835</th>\n",
       "      <td>0.328607</td>\n",
       "      <td>0.340966</td>\n",
       "      <td>0.500812</td>\n",
       "      <td>0.352746</td>\n",
       "      <td>0.336025</td>\n",
       "      <td>0.609513</td>\n",
       "      <td>0.096944</td>\n",
       "      <td>2.176276</td>\n",
       "      <td>0.108814</td>\n",
       "    </tr>\n",
       "    <tr>\n",
       "      <th>1328504</th>\n",
       "      <td>0.420805</td>\n",
       "      <td>0.456461</td>\n",
       "      <td>0.514115</td>\n",
       "      <td>0.469982</td>\n",
       "      <td>0.385386</td>\n",
       "      <td>0.423118</td>\n",
       "      <td>0.197500</td>\n",
       "      <td>2.309296</td>\n",
       "      <td>0.115465</td>\n",
       "    </tr>\n",
       "    <tr>\n",
       "      <th>1032643</th>\n",
       "      <td>0.321898</td>\n",
       "      <td>0.583855</td>\n",
       "      <td>0.385654</td>\n",
       "      <td>0.347489</td>\n",
       "      <td>0.694339</td>\n",
       "      <td>0.436976</td>\n",
       "      <td>0.102778</td>\n",
       "      <td>2.436460</td>\n",
       "      <td>0.121823</td>\n",
       "    </tr>\n",
       "  </tbody>\n",
       "</table>\n",
       "<p>2000 rows × 9 columns</p>\n",
       "</div>"
      ],
      "text/plain": [
       "         orig time    orig x    orig y  dest time    dest x    dest y  \\\n",
       "trip_id                                                                 \n",
       "385900    0.395560  0.455275  0.410986   0.420943  0.395868  0.397153   \n",
       "1115530   0.346106  0.374238  0.556402   0.368654  0.421749  0.562872   \n",
       "1416564   0.599461  0.445365  0.522782   0.613985  0.501049  0.524044   \n",
       "114514    0.379651  0.603492  0.310894   0.528635  0.600986  0.169768   \n",
       "1191561   0.484714  0.564873  0.603116   0.494536  0.521957  0.650210   \n",
       "...            ...       ...       ...        ...       ...       ...   \n",
       "1339535   0.332411  0.400968  0.336187   0.342786  0.418654  0.361539   \n",
       "1194314   0.405381  0.492322  0.528160   0.426823  0.579904  0.462936   \n",
       "244835    0.328607  0.340966  0.500812   0.352746  0.336025  0.609513   \n",
       "1328504   0.420805  0.456461  0.514115   0.469982  0.385386  0.423118   \n",
       "1032643   0.321898  0.583855  0.385654   0.347489  0.694339  0.436976   \n",
       "\n",
       "         timediff(h)  displacement(km)  distance  \n",
       "trip_id                                           \n",
       "385900      0.101944          1.219940  0.060997  \n",
       "1115530     0.090556          0.958983  0.047949  \n",
       "1416564     0.058333          1.113963  0.055698  \n",
       "114514      0.598333          2.822973  0.141149  \n",
       "1191561     0.039444          1.274305  0.063715  \n",
       "...              ...               ...       ...  \n",
       "1339535     0.041667          0.618235  0.030912  \n",
       "1194314     0.086111          2.184020  0.109201  \n",
       "244835      0.096944          2.176276  0.108814  \n",
       "1328504     0.197500          2.309296  0.115465  \n",
       "1032643     0.102778          2.436460  0.121823  \n",
       "\n",
       "[2000 rows x 9 columns]"
      ]
     },
     "execution_count": 1050,
     "metadata": {},
     "output_type": "execute_result"
    }
   ],
   "source": [
    "reqDF"
   ]
  },
  {
   "cell_type": "code",
   "execution_count": null,
   "metadata": {},
   "outputs": [],
   "source": []
  },
  {
   "cell_type": "code",
   "execution_count": 1051,
   "metadata": {},
   "outputs": [],
   "source": [
    "all_nodes_x = {s for s in G.nodes if s.endswith('_x')}"
   ]
  },
  {
   "cell_type": "code",
   "execution_count": 1052,
   "metadata": {},
   "outputs": [
    {
     "data": {
      "text/plain": [
       "2000"
      ]
     },
     "execution_count": 1052,
     "metadata": {},
     "output_type": "execute_result"
    }
   ],
   "source": [
    "len(all_nodes_x)"
   ]
  },
  {
   "cell_type": "markdown",
   "metadata": {},
   "source": [
    "---\n",
    "Number of nodes that are start of a chain (of size 1 or longer):"
   ]
  },
  {
   "cell_type": "code",
   "execution_count": 1053,
   "metadata": {},
   "outputs": [
    {
     "data": {
      "text/plain": [
       "1225"
      ]
     },
     "execution_count": 1053,
     "metadata": {},
     "output_type": "execute_result"
    }
   ],
   "source": [
    "len(all_nodes_x - set_right)"
   ]
  },
  {
   "cell_type": "markdown",
   "metadata": {},
   "source": [
    "Number of trips that are start of a chain"
   ]
  },
  {
   "cell_type": "code",
   "execution_count": 1054,
   "metadata": {},
   "outputs": [
    {
     "data": {
      "text/plain": [
       "268"
      ]
     },
     "execution_count": 1054,
     "metadata": {},
     "output_type": "execute_result"
    }
   ],
   "source": [
    "len({s[:-2] for s in set_right} & set_left)"
   ]
  },
  {
   "cell_type": "markdown",
   "metadata": {},
   "source": [
    "Number of trips not participating to matching (isolated trips):"
   ]
  },
  {
   "cell_type": "code",
   "execution_count": 1055,
   "metadata": {},
   "outputs": [
    {
     "data": {
      "text/plain": [
       "718"
      ]
     },
     "execution_count": 1055,
     "metadata": {},
     "output_type": "execute_result"
    }
   ],
   "source": [
    "len( (all_nodes_x - set_right)- {s+'_x' for s in set_left})"
   ]
  },
  {
   "cell_type": "code",
   "execution_count": null,
   "metadata": {},
   "outputs": [],
   "source": []
  },
  {
   "cell_type": "code",
   "execution_count": 1056,
   "metadata": {},
   "outputs": [],
   "source": [
    "trip_chains = []\n",
    "pickup_travels = []\n",
    "pickup_times = []\n",
    "trip_travels = []\n",
    "for current in all_nodes_x - set_right: #points in the right part which are not anyone's match are the beginning of chains\n",
    "    current = current[:-2]\n",
    "    temp_travels = [reqDF.loc[current,\"displacement(km)\"]]\n",
    "    \n",
    "    temp_trip_chains = [current]\n",
    "    temp_pickup_travels = []\n",
    "    temp_pickup_times = []\n",
    "    while current in set_left:\n",
    "        _next = matching_formatted[current][:-2] #remove _x suffix\n",
    "        temp_pickup_travels.append(get_e2b_distance(reqDF.loc[current,:],reqDF.loc[_next,:]))\n",
    "        temp_pickup_times.append(get_e2b_time(reqDF.loc[current,:],reqDF.loc[_next,:]))\n",
    "        temp_trip_chains.append(_next)\n",
    "        current = _next\n",
    "        \n",
    "        temp_travels.append(reqDF.loc[current,\"displacement(km)\"])\n",
    "        \n",
    "    pickup_travels.append(temp_pickup_travels)\n",
    "    trip_travels.append(temp_travels)\n",
    "    pickup_times.append(temp_pickup_times)\n",
    "    trip_chains.append(temp_trip_chains)"
   ]
  },
  {
   "cell_type": "code",
   "execution_count": 1057,
   "metadata": {},
   "outputs": [
    {
     "data": {
      "text/plain": [
       "[['1288889'],\n",
       " ['1309561'],\n",
       " ['1010921', '1238038', '1699'],\n",
       " ['1401698'],\n",
       " ['1550674', '1192058', '1366783', '1533859']]"
      ]
     },
     "execution_count": 1057,
     "metadata": {},
     "output_type": "execute_result"
    }
   ],
   "source": [
    "trip_chains[:5]"
   ]
  },
  {
   "cell_type": "code",
   "execution_count": 1058,
   "metadata": {},
   "outputs": [
    {
     "data": {
      "text/plain": [
       "[[0.6887385357753951],\n",
       " [2.5996388362813088],\n",
       " [1.937616672771125, 1.6922585593925028, 2.9951933298884543],\n",
       " [1.9344981238359575],\n",
       " [2.115008820539596,\n",
       "  2.3919034821732605,\n",
       "  1.6341222778046236,\n",
       "  0.7880072455270836]]"
      ]
     },
     "execution_count": 1058,
     "metadata": {},
     "output_type": "execute_result"
    }
   ],
   "source": [
    "trip_travels[:5]"
   ]
  },
  {
   "cell_type": "code",
   "execution_count": 1059,
   "metadata": {},
   "outputs": [
    {
     "data": {
      "text/plain": [
       "[[],\n",
       " [],\n",
       " [126.00000000000031, 661.0000000000002],\n",
       " [],\n",
       " [223.00000000000006, 688.9999999999997, 638.0000000000007]]"
      ]
     },
     "execution_count": 1059,
     "metadata": {},
     "output_type": "execute_result"
    }
   ],
   "source": [
    "pickup_times[:5]"
   ]
  },
  {
   "cell_type": "code",
   "execution_count": 1060,
   "metadata": {},
   "outputs": [
    {
     "data": {
      "text/plain": [
       "[[],\n",
       " [],\n",
       " [3.9830921375035016, 3.694506346546646],\n",
       " [],\n",
       " [2.7672987740099413, 3.9463385943454288, 2.378097330343861]]"
      ]
     },
     "execution_count": 1060,
     "metadata": {},
     "output_type": "execute_result"
    }
   ],
   "source": [
    "pickup_travels[:5]"
   ]
  },
  {
   "cell_type": "code",
   "execution_count": 1061,
   "metadata": {},
   "outputs": [],
   "source": [
    "chain_lengths = [len(x) for x in trip_travels if len(x) > 1]"
   ]
  },
  {
   "cell_type": "code",
   "execution_count": 1107,
   "metadata": {},
   "outputs": [
    {
     "data": {
      "text/plain": [
       "Counter({3: 114, 4: 46, 2: 330, 5: 8, 6: 7, 7: 2})"
      ]
     },
     "execution_count": 1107,
     "metadata": {},
     "output_type": "execute_result"
    }
   ],
   "source": []
  },
  {
   "cell_type": "code",
   "execution_count": 1119,
   "metadata": {
    "scrolled": false
   },
   "outputs": [
    {
     "data": {
      "text/plain": [
       "Text(0, 0.5, 'Count')"
      ]
     },
     "execution_count": 1119,
     "metadata": {},
     "output_type": "execute_result"
    },
    {
     "data": {
      "image/png": "[encoded data removed]",
      "text/plain": [
       "<Figure size 1008x720 with 1 Axes>"
      ]
     },
     "metadata": {},
     "output_type": "display_data"
    }
   ],
   "source": [
    "plt.figure(figsize=(14,10))\n",
    "sns.countplot(chain_lengths, facecolor=(0.2, 0.2, 0.2, 1))\n",
    "plt.xlabel('Chain length')\n",
    "plt.ylabel('Count')"
   ]
  },
  {
   "cell_type": "code",
   "execution_count": 1120,
   "metadata": {},
   "outputs": [
    {
     "data": {
      "text/plain": [
       "(2.5285996055226825, 0.8774349672400482)"
      ]
     },
     "execution_count": 1120,
     "metadata": {},
     "output_type": "execute_result"
    }
   ],
   "source": [
    "np.mean(chain_lengths),np.std(chain_lengths)"
   ]
  },
  {
   "cell_type": "code",
   "execution_count": 1064,
   "metadata": {},
   "outputs": [
    {
     "data": {
      "text/plain": [
       "1282"
      ]
     },
     "execution_count": 1064,
     "metadata": {},
     "output_type": "execute_result"
    }
   ],
   "source": [
    "np.sum(chain_lengths)"
   ]
  },
  {
   "cell_type": "code",
   "execution_count": 1121,
   "metadata": {},
   "outputs": [],
   "source": [
    "total_trip_travels = [sum(travel_list) for travel_list in trip_travels]"
   ]
  },
  {
   "cell_type": "code",
   "execution_count": 1122,
   "metadata": {},
   "outputs": [],
   "source": [
    "total_trip_and_pickup_travels = [sum(travel_list) + sum(pickup_list) for (travel_list,pickup_list) in zip(trip_travels,pickup_travels)]\n",
    "total_trip_and_pickup_travels_matched_only = [sum(travel_list) + sum(pickup_list) for (travel_list,pickup_list) in zip(trip_travels,pickup_travels) if pickup_list]\n",
    "total_trip_travels_matched_only = [sum(travel_list) for travel_list in trip_travels if len(travel_list) > 1]"
   ]
  },
  {
   "cell_type": "code",
   "execution_count": 1123,
   "metadata": {},
   "outputs": [
    {
     "data": {
      "text/plain": [
       "(1225, 507, 507)"
      ]
     },
     "execution_count": 1123,
     "metadata": {},
     "output_type": "execute_result"
    }
   ],
   "source": [
    "len(total_trip_and_pickup_travels), len(total_trip_and_pickup_travels_matched_only), len(total_trip_travels_matched_only)"
   ]
  },
  {
   "cell_type": "code",
   "execution_count": 1124,
   "metadata": {},
   "outputs": [],
   "source": [
    "total_pickup_times = [sum(time_list) for time_list in pickup_times if time_list]"
   ]
  },
  {
   "cell_type": "code",
   "execution_count": 1125,
   "metadata": {},
   "outputs": [
    {
     "data": {
      "text/plain": [
       "[787.0000000000006,\n",
       " 1550.0000000000005,\n",
       " 6.999999999999661,\n",
       " 449.9999999999997,\n",
       " 170.99999999999915,\n",
       " 315.99999999999943,\n",
       " 593.0000000000002,\n",
       " 739.0,\n",
       " 591.9999999999999,\n",
       " 1335.9999999999998,\n",
       " 1274.0000000000007,\n",
       " 119.00000000000064,\n",
       " 2439.0,\n",
       " 687.0000000000007,\n",
       " 144.0000000000008,\n",
       " 967.9999999999995,\n",
       " 1662.9999999999993,\n",
       " 850.0000000000007,\n",
       " 2498.0000000000005,\n",
       " 113.00000000000048,\n",
       " 1356.9999999999998,\n",
       " 845.0,\n",
       " 625.9999999999995,\n",
       " 616.0000000000006,\n",
       " 500.99999999999955,\n",
       " 1273.9999999999984,\n",
       " 308.9999999999998,\n",
       " 1329.9999999999998,\n",
       " 125.00000000000081,\n",
       " 843.0000000000002,\n",
       " 954.0000000000001,\n",
       " 690.0,\n",
       " 379.0000000000004,\n",
       " 619.9999999999994,\n",
       " 304.99999999999943,\n",
       " 1342.9999999999995,\n",
       " 93.99999999999967,\n",
       " 1311.0000000000005,\n",
       " 1411.0000000000005,\n",
       " 1405.9999999999995,\n",
       " 97.00000000000057,\n",
       " 169.00000000000017,\n",
       " 281.9999999999999,\n",
       " 1433.0000000000011,\n",
       " 1126.999999999999,\n",
       " 590.9999999999997,\n",
       " 341.9999999999999,\n",
       " 477.00000000000045,\n",
       " 1351.0000000000002,\n",
       " 741.9999999999993,\n",
       " 389.00000000000017,\n",
       " 949.0000000000002,\n",
       " 492.00000000000085,\n",
       " 120.00000000000014,\n",
       " 596.0000000000003,\n",
       " 6.000000000000167,\n",
       " 1259.0000000000005,\n",
       " 987.999999999999,\n",
       " 817.0000000000006,\n",
       " 407.0000000000007,\n",
       " 637.9999999999991,\n",
       " 482.999999999999,\n",
       " 585.9999999999998,\n",
       " 596.999999999999,\n",
       " 207.00000000000097,\n",
       " 608.9999999999993,\n",
       " 419.00000000000017,\n",
       " 767.9999999999998,\n",
       " 150.99999999999886,\n",
       " 375.0000000000008,\n",
       " 193.00000000000003,\n",
       " 22.000000000000078,\n",
       " 1603.9999999999995,\n",
       " 791.0000000000001,\n",
       " 403.9999999999998,\n",
       " 1217.9999999999995,\n",
       " 40.999999999998465,\n",
       " 912.0000000000005,\n",
       " 855.9999999999993,\n",
       " 148.0000000000004,\n",
       " 682.9999999999995,\n",
       " 211.00000000000054,\n",
       " 881.9999999999998,\n",
       " 397.0000000000001,\n",
       " 779.9999999999993,\n",
       " 702.9999999999998,\n",
       " 634.0000000000003,\n",
       " 644.0,\n",
       " 150.00000000000017,\n",
       " 1218.0000000000002,\n",
       " 196.9999999999996,\n",
       " 326.9999999999995,\n",
       " 2374.999999999999,\n",
       " 1792.0000000000005,\n",
       " 28.000000000000245,\n",
       " 184.9999999999993,\n",
       " 815.0,\n",
       " 140.99999999999991,\n",
       " 464.9999999999993,\n",
       " 648.9999999999999,\n",
       " 98.00000000000006,\n",
       " 273.9999999999999,\n",
       " 218.0000000000002,\n",
       " 19.99999999999949,\n",
       " 409.99999999999915,\n",
       " 868.9999999999999,\n",
       " 1843.9999999999998,\n",
       " 2102.0000000000005,\n",
       " 1019.9999999999995,\n",
       " 381.00000000000017,\n",
       " 808.999999999999,\n",
       " 754.9999999999999,\n",
       " 233.00000000000063,\n",
       " 280.0000000000009,\n",
       " 1017.0000000000003,\n",
       " 590.0000000000002,\n",
       " 98.99999999999955,\n",
       " 1176.0,\n",
       " 253.9999999999996,\n",
       " 786.999999999999,\n",
       " 857.0000000000003,\n",
       " 274.9999999999986,\n",
       " 728.0,\n",
       " 609.0000000000001,\n",
       " 296.0000000000008,\n",
       " 69.00000000000033,\n",
       " 1115.9999999999998,\n",
       " 321.0000000000001,\n",
       " 1574.9999999999998,\n",
       " 319.99999999999983,\n",
       " 778.0000000000003,\n",
       " 1055.9999999999989,\n",
       " 147.99999999999878,\n",
       " 77.00000000000027,\n",
       " 1201.9999999999995,\n",
       " 906.0000000000005,\n",
       " 101.00000000000175,\n",
       " 1001.9999999999999,\n",
       " 620.9999999999997,\n",
       " 675.0000000000003,\n",
       " 67.99999999999922,\n",
       " 878.9999999999997,\n",
       " 125.00000000000001,\n",
       " 864.0,\n",
       " 704.0000000000001,\n",
       " 14.999999999999616,\n",
       " 213.0000000000003,\n",
       " 1660.0,\n",
       " 929.0000000000016,\n",
       " 718.0000000000018,\n",
       " 525.9999999999997,\n",
       " 622.0,\n",
       " 696.9999999999997,\n",
       " 908.9999999999989,\n",
       " 528.0000000000002,\n",
       " 486.99999999999943,\n",
       " 87.00000000000082,\n",
       " 239.99999999999946,\n",
       " 35.999999999999396,\n",
       " 906.9999999999999,\n",
       " 2708.0,\n",
       " 1513.9999999999993,\n",
       " 329.00000000000006,\n",
       " 931.9999999999992,\n",
       " 790.0000000000007,\n",
       " 778.9999999999998,\n",
       " 1155.0,\n",
       " 729.0000000000002,\n",
       " 951.0,\n",
       " 1857.0000000000005,\n",
       " 195.00000000000063,\n",
       " 122.00000000000072,\n",
       " 970.9999999999995,\n",
       " 790.9999999999993,\n",
       " 223.00000000000006,\n",
       " 351.00000000000017,\n",
       " 117.00000000000006,\n",
       " 1984.9999999999995,\n",
       " 363.0000000000005,\n",
       " 186.99999999999986,\n",
       " 489.0,\n",
       " 849.9999999999999,\n",
       " 669.000000000001,\n",
       " 139.00000000000014,\n",
       " 751.0000000000003,\n",
       " 334.0000000000008,\n",
       " 21.000000000000586,\n",
       " 121.99999999999912,\n",
       " 1.000000000001098,\n",
       " 310.0000000000001,\n",
       " 1255.9999999999995,\n",
       " 337.00000000000006,\n",
       " 599.9999999999991,\n",
       " 688.0000000000002,\n",
       " 889.0000000000002,\n",
       " 556.0000000000006,\n",
       " 252.00000000000063,\n",
       " 32.00000000000143,\n",
       " 10.999999999999236,\n",
       " 2076.9999999999995,\n",
       " 301.9999999999993,\n",
       " 121.00000000000044,\n",
       " 28.99999999999974,\n",
       " 387.99999999999903,\n",
       " 25.000000000000163,\n",
       " 1194.0000000000014,\n",
       " 321.0000000000001,\n",
       " 655.9999999999995,\n",
       " 1150.9999999999998,\n",
       " 454.9999999999996,\n",
       " 492.00000000000006,\n",
       " 1004.0000000000005,\n",
       " 256.00000000000017,\n",
       " 1142.9999999999998,\n",
       " 535.0,\n",
       " 1467.0,\n",
       " 1496.9999999999993,\n",
       " 42.00000000000117,\n",
       " 1050.0000000000005,\n",
       " 743.0000000000003,\n",
       " 24.000000000000668,\n",
       " 313.00000000000017,\n",
       " 426.9999999999993,\n",
       " 558.9999999999998,\n",
       " 2141.0,\n",
       " 197.00000000000043,\n",
       " 675.0000000000003,\n",
       " 2336.0000000000014,\n",
       " 536.0000000000002,\n",
       " 559.9999999999993,\n",
       " 876.9999999999998,\n",
       " 196.0000000000001,\n",
       " 416.0000000000009,\n",
       " 677.0000000000001,\n",
       " 1113.0000000000005,\n",
       " 877.0000000000007,\n",
       " 7.999999999999153,\n",
       " 1479.9999999999998,\n",
       " 1678.0000000000005,\n",
       " 66.00000000000024,\n",
       " 547.9999999999998,\n",
       " 106.9999999999995,\n",
       " 2286.999999999999,\n",
       " 1729.0000000000002,\n",
       " 767.000000000001,\n",
       " 1578.0,\n",
       " 214.00000000000063,\n",
       " 169.00000000000017,\n",
       " 2779.000000000001,\n",
       " 968.9999999999998,\n",
       " 986.9999999999995,\n",
       " 697.0000000000005,\n",
       " 95.00000000000077,\n",
       " 11.000000000000842,\n",
       " 9.00000000000025,\n",
       " 13.999999999999321,\n",
       " 2598.999999999999,\n",
       " 873.9999999999998,\n",
       " 1158.0000000000002,\n",
       " 1312.0000000000007,\n",
       " 1082.9999999999998,\n",
       " 1345.0000000000016,\n",
       " 1663.0000000000002,\n",
       " 373.9999999999997,\n",
       " 257.00000000000045,\n",
       " 18.0000000000005,\n",
       " 1385.9999999999993,\n",
       " 469.9999999999992,\n",
       " 943.0000000000001,\n",
       " 183.00000000000028,\n",
       " 777.9999999999995,\n",
       " 302.0000000000009,\n",
       " 1316.0000000000011,\n",
       " 17.000000000000206,\n",
       " 844.0000000000006,\n",
       " 530.0000000000001,\n",
       " 155.99999999999955,\n",
       " 497.99999999999943,\n",
       " 69.99999999999982,\n",
       " 411.0000000000002,\n",
       " 1932.9999999999989,\n",
       " 959.9999999999995,\n",
       " 100.00000000000065,\n",
       " 1315.0,\n",
       " 656.9999999999999,\n",
       " 1019.0000000000001,\n",
       " 931.0000000000006,\n",
       " 818.9999999999995,\n",
       " 883.0000000000017,\n",
       " 854.9999999999991,\n",
       " 1519.000000000001,\n",
       " 395.00000000000034,\n",
       " 1148.0000000000011,\n",
       " 70.00000000000142,\n",
       " 1317.0000000000007,\n",
       " 656.0000000000003,\n",
       " 1525.0000000000002,\n",
       " 164.00000000000028,\n",
       " 203.99999999999926,\n",
       " 1366.9999999999993,\n",
       " 200.0000000000005,\n",
       " 1182.9999999999995,\n",
       " 27.000000000000753,\n",
       " 148.0000000000004,\n",
       " 301.0000000000007,\n",
       " 709.0,\n",
       " 26.999999999999147,\n",
       " 672.0000000000003,\n",
       " 1563.0000000000011,\n",
       " 196.0000000000001,\n",
       " 216.0000000000004,\n",
       " 644.9999999999995,\n",
       " 282.0000000000006,\n",
       " 710.9999999999998,\n",
       " 6.999999999999661,\n",
       " 1429.0,\n",
       " 32.99999999999932,\n",
       " 104.99999999999972,\n",
       " 785.9999999999994,\n",
       " 63.000000000000156,\n",
       " 32.99999999999932,\n",
       " 188.99999999999966,\n",
       " 484.0000000000001,\n",
       " 807.9999999999995,\n",
       " 120.00000000000014,\n",
       " 281.99999999999983,\n",
       " 1955.0000000000005,\n",
       " 308.9999999999998,\n",
       " 369.0000000000007,\n",
       " 30.00000000000084,\n",
       " 561.0000000000005,\n",
       " 199.0000000000002,\n",
       " 519.9999999999995,\n",
       " 1390.0000000000005,\n",
       " 126.00000000000031,\n",
       " 352.99999999999994,\n",
       " 1939.999999999999,\n",
       " 1392.0000000000002,\n",
       " 767.9999999999998,\n",
       " 316.0000000000002,\n",
       " 2429.000000000001,\n",
       " 37.99999999999999,\n",
       " 731.0000000000001,\n",
       " 746.0000000000005,\n",
       " 743.9999999999999,\n",
       " 1565.0,\n",
       " 20.999999999999783,\n",
       " 1228.0,\n",
       " 2453.000000000002,\n",
       " 268.9999999999992,\n",
       " 1089.0,\n",
       " 1037.0000000000007,\n",
       " 766.0,\n",
       " 726.0000000000002,\n",
       " 1773.0000000000005,\n",
       " 728.0,\n",
       " 683.9999999999998,\n",
       " 42.99999999999906,\n",
       " 330.9999999999999,\n",
       " 142.99999999999972,\n",
       " 1748.0000000000005,\n",
       " 2.999999999999281,\n",
       " 284.00000000000045,\n",
       " 456.0000000000007,\n",
       " 382.9999999999992,\n",
       " 180.9999999999997,\n",
       " 25.000000000000163,\n",
       " 741.9999999999993,\n",
       " 1044.0000000000002,\n",
       " 307.0,\n",
       " 593.0000000000002,\n",
       " 1260.0000000000005,\n",
       " 1664.0000000000005,\n",
       " 1631.9999999999995,\n",
       " 1046.0,\n",
       " 330.9999999999999,\n",
       " 226.00000000000014,\n",
       " 113.00000000000048,\n",
       " 671.0,\n",
       " 609.0000000000001,\n",
       " 516.0,\n",
       " 163.9999999999987,\n",
       " 567.0000000000006,\n",
       " 845.0000000000001,\n",
       " 56.999999999999986,\n",
       " 1062.0000000000007,\n",
       " 215.9999999999996,\n",
       " 116.00000000000057,\n",
       " 2067.0,\n",
       " 2365.0000000000005,\n",
       " 887.0000000000013,\n",
       " 1239.9999999999995,\n",
       " 881.0000000000002,\n",
       " 571.9999999999997,\n",
       " 780.0000000000001,\n",
       " 993.9999999999999,\n",
       " 60.00000000000007,\n",
       " 39.000000000000284,\n",
       " 191.00000000000026,\n",
       " 1032.9999999999993,\n",
       " 303.00000000000045,\n",
       " 1603.9999999999995,\n",
       " 231.0,\n",
       " 409.99999999999994,\n",
       " 399.9999999999994,\n",
       " 86.00000000000053,\n",
       " 310.0000000000001,\n",
       " 1207.0000000000002,\n",
       " 256.99999999999966,\n",
       " 1809.0,\n",
       " 470.0,\n",
       " 150.99999999999966,\n",
       " 1076.0,\n",
       " 1505.9999999999993,\n",
       " 168.99999999999937,\n",
       " 944.9999999999999,\n",
       " 34.99999999999991,\n",
       " 50.00000000000033,\n",
       " 1028.0000000000002,\n",
       " 973.9999999999997,\n",
       " 1478.9999999999995,\n",
       " 495.00000000000017,\n",
       " 208.99999999999994,\n",
       " 957.0000000000002,\n",
       " 186.99999999999986,\n",
       " 645.9999999999999,\n",
       " 1114.0,\n",
       " 723.9999999999995,\n",
       " 3.0000000000000835,\n",
       " 301.9999999999993,\n",
       " 327.0000000000003,\n",
       " 197.00000000000122,\n",
       " 79.99999999999956,\n",
       " 1288.9999999999995,\n",
       " 1464.0,\n",
       " 345.0,\n",
       " 152.99999999999946,\n",
       " 408.99999999999966,\n",
       " 519.0,\n",
       " 534.0000000000005,\n",
       " 674.0000000000001,\n",
       " 1941.0000000000005,\n",
       " 2326.9999999999973,\n",
       " 678.0000000000013,\n",
       " 648.0000000000005,\n",
       " 338.99999999999983,\n",
       " 1640.0000000000005,\n",
       " 1123.9999999999998,\n",
       " 577.9999999999998,\n",
       " 7.000000000000463,\n",
       " 500.00000000000006,\n",
       " 85.99999999999973,\n",
       " 940.0,\n",
       " 824.9999999999998,\n",
       " 878.9999999999995,\n",
       " 148.9999999999999,\n",
       " 979.0000000000003,\n",
       " 861.0,\n",
       " 805.9999999999998,\n",
       " 882.9999999999993,\n",
       " 1756.9999999999998,\n",
       " 679.9999999999994,\n",
       " 231.99999999999952,\n",
       " 1066.0000000000002,\n",
       " 1198.9999999999995,\n",
       " 549.0000000000001,\n",
       " 1780.9999999999986,\n",
       " 1335.9999999999998,\n",
       " 313.99999999999966,\n",
       " 40.00000000000058,\n",
       " 291.0000000000009,\n",
       " 510.00000000000136,\n",
       " 82.00000000000014,\n",
       " 1077.9999999999998,\n",
       " 865.9999999999998,\n",
       " 778.0000000000003,\n",
       " 373.9999999999998,\n",
       " 1703.0,\n",
       " 1064.000000000003,\n",
       " 335.9999999999998,\n",
       " 932.0,\n",
       " 44.99999999999965,\n",
       " 1361.9999999999995,\n",
       " 762.0000000000003,\n",
       " 345.0,\n",
       " 181.0000000000005,\n",
       " 98.00000000000168,\n",
       " 229.99999999999892,\n",
       " 1445.000000000001,\n",
       " 315.00000000000074,\n",
       " 5.000000000000675,\n",
       " 539.0000000000003,\n",
       " 53.9999999999999,\n",
       " 0.0,\n",
       " 690.9999999999994,\n",
       " 12.000000000000334,\n",
       " 2670.9999999999986,\n",
       " 2258.999999999999,\n",
       " 1066.9999999999998,\n",
       " 310.0000000000001,\n",
       " 248.99999999999892,\n",
       " 321.0000000000001,\n",
       " 892.9999999999998,\n",
       " 1558.0000000000005,\n",
       " 1310.9999999999998,\n",
       " 785.9999999999994,\n",
       " 533.0000000000001]"
      ]
     },
     "execution_count": 1125,
     "metadata": {},
     "output_type": "execute_result"
    }
   ],
   "source": [
    "total_pickup_times"
   ]
  },
  {
   "cell_type": "code",
   "execution_count": 1126,
   "metadata": {},
   "outputs": [
    {
     "data": {
      "text/plain": [
       "<matplotlib.legend.Legend at 0x16380e42c88>"
      ]
     },
     "execution_count": 1126,
     "metadata": {},
     "output_type": "execute_result"
    },
    {
     "data": {
      "image/png": "[encoded data removed]",
      "text/plain": [
       "<Figure size 1008x720 with 1 Axes>"
      ]
     },
     "metadata": {},
     "output_type": "display_data"
    }
   ],
   "source": [
    "plt.figure(figsize=(14,10))\n",
    "sns.distplot(total_trip_travels, bins=[i/2 for i  in range(0,60)], kde=False, label='trip only')\n",
    "sns.distplot(total_trip_and_pickup_travels, bins=[i/2 for i in range(0,60)], kde=False, label='trip and pick up')\n",
    "plt.xlabel('Total traveled distance in a chain (km)')\n",
    "plt.ylabel('Frequency')\n",
    "plt.legend()"
   ]
  },
  {
   "cell_type": "code",
   "execution_count": 1127,
   "metadata": {},
   "outputs": [
    {
     "data": {
      "text/plain": [
       "<matplotlib.axes._subplots.AxesSubplot at 0x16381ae0708>"
      ]
     },
     "execution_count": 1127,
     "metadata": {},
     "output_type": "execute_result"
    },
    {
     "data": {
      "image/png": "[encoded data removed]",
      "text/plain": [
       "<Figure size 432x288 with 1 Axes>"
      ]
     },
     "metadata": {},
     "output_type": "display_data"
    }
   ],
   "source": [
    "sns.distplot(total_trip_and_pickup_travels, kde=False, bins = range(1,60,2))"
   ]
  },
  {
   "cell_type": "code",
   "execution_count": 1128,
   "metadata": {},
   "outputs": [
    {
     "data": {
      "text/plain": [
       "<matplotlib.legend.Legend at 0x16381c1dc88>"
      ]
     },
     "execution_count": 1128,
     "metadata": {},
     "output_type": "execute_result"
    },
    {
     "data": {
      "image/png": "[encoded data removed]",
      "text/plain": [
       "<Figure size 1008x720 with 1 Axes>"
      ]
     },
     "metadata": {},
     "output_type": "display_data"
    }
   ],
   "source": [
    "plt.figure(figsize=(14,10))\n",
    "sns.distplot(total_trip_travels_matched_only, bins=[i/2 for i  in range(0,60)], kde=False, label='trip only')\n",
    "sns.distplot(total_trip_and_pickup_travels_matched_only, bins=[i/2 for i  in range(0,60)], kde=False, label='trip and pick up')\n",
    "plt.xlabel('Total traveled distance in a chain (km)')\n",
    "plt.ylabel('Frequency')\n",
    "plt.legend()"
   ]
  },
  {
   "cell_type": "code",
   "execution_count": 1133,
   "metadata": {},
   "outputs": [
    {
     "data": {
      "text/plain": [
       "Text(0, 0.5, 'Count')"
      ]
     },
     "execution_count": 1133,
     "metadata": {},
     "output_type": "execute_result"
    },
    {
     "data": {
      "image/png": "[encoded data removed]",
      "text/plain": [
       "<Figure size 1008x720 with 1 Axes>"
      ]
     },
     "metadata": {},
     "output_type": "display_data"
    }
   ],
   "source": [
    "plt.figure(figsize=(14,10))\n",
    "\n",
    "sns.distplot(total_pickup_times,kde=False) #excluding zeros\n",
    "plt.xlabel('Total pick up time of a chain (second)')\n",
    "plt.ylabel('Count')"
   ]
  },
  {
   "cell_type": "code",
   "execution_count": 1130,
   "metadata": {},
   "outputs": [
    {
     "data": {
      "text/plain": [
       "(701.9368836291914, 578.85686842503)"
      ]
     },
     "execution_count": 1130,
     "metadata": {},
     "output_type": "execute_result"
    }
   ],
   "source": [
    "np.mean(total_pickup_times),np.std(total_pickup_times)"
   ]
  },
  {
   "cell_type": "code",
   "execution_count": null,
   "metadata": {},
   "outputs": [],
   "source": []
  },
  {
   "cell_type": "code",
   "execution_count": null,
   "metadata": {},
   "outputs": [],
   "source": []
  },
  {
   "cell_type": "code",
   "execution_count": null,
   "metadata": {},
   "outputs": [],
   "source": []
  },
  {
   "cell_type": "code",
   "execution_count": null,
   "metadata": {},
   "outputs": [],
   "source": []
  },
  {
   "cell_type": "code",
   "execution_count": null,
   "metadata": {},
   "outputs": [],
   "source": []
  },
  {
   "cell_type": "code",
   "execution_count": null,
   "metadata": {},
   "outputs": [],
   "source": []
  },
  {
   "cell_type": "code",
   "execution_count": null,
   "metadata": {},
   "outputs": [],
   "source": []
  },
  {
   "cell_type": "code",
   "execution_count": null,
   "metadata": {},
   "outputs": [],
   "source": []
  },
  {
   "cell_type": "code",
   "execution_count": null,
   "metadata": {},
   "outputs": [],
   "source": []
  },
  {
   "cell_type": "code",
   "execution_count": null,
   "metadata": {},
   "outputs": [],
   "source": []
  },
  {
   "cell_type": "code",
   "execution_count": null,
   "metadata": {},
   "outputs": [],
   "source": []
  },
  {
   "cell_type": "code",
   "execution_count": null,
   "metadata": {},
   "outputs": [],
   "source": []
  },
  {
   "cell_type": "code",
   "execution_count": 339,
   "metadata": {},
   "outputs": [],
   "source": [
    "fig = plt.figure(figsize=(10,6))\n",
    "ax = sns.distplot(total_trip_travels,kde=False,bins=20,hist_kws={'align':'left',\"alpha\":0.7,'width':4.})\n",
    "ax.set_xlabel(\"total chain travel (km)\",fontsize=20)\n",
    "ax.set_ylabel(\"frequency\",fontsize=20)\n",
    "# ax.set_xticks(range(11))\n",
    "# ax.set_xlim(0,10)\n",
    "ax.tick_params(axis='both', which='major', labelsize=18)"
   ]
  },
  {
   "cell_type": "code",
   "execution_count": 340,
   "metadata": {},
   "outputs": [
    {
     "data": {
      "image/png": "[encoded data removed]",
      "text/plain": [
       "<matplotlib.figure.Figure at 0x7fc3e9ded630>"
      ]
     },
     "metadata": {},
     "output_type": "display_data"
    }
   ],
   "source": [
    "plt.show()"
   ]
  },
  {
   "cell_type": "code",
   "execution_count": 304,
   "metadata": {},
   "outputs": [],
   "source": [
    "fig = plt.figure(figsize=(10,6))\n",
    "ax = sns.distplot(total_trip_travels,hist=False, bins=20,kde_kws={'cumulative':True})\n",
    "ax.set_xlabel(\"total chain travel (km)\",fontsize=20)\n",
    "ax.set_ylabel(\"frequency\",fontsize=20)\n",
    "# ax.set_xticks(range(11))\n",
    "# ax.set_xlim(0,10)\n",
    "ax.tick_params(axis='both', which='major', labelsize=18)\n",
    "plt.grid()"
   ]
  },
  {
   "cell_type": "code",
   "execution_count": 305,
   "metadata": {},
   "outputs": [
    {
     "data": {
      "image/png": "[encoded data removed]",
      "text/plain": [
       "<matplotlib.figure.Figure at 0x7fc3ea317828>"
      ]
     },
     "metadata": {},
     "output_type": "display_data"
    }
   ],
   "source": [
    "plt.show()"
   ]
  },
  {
   "cell_type": "code",
   "execution_count": 278,
   "metadata": {},
   "outputs": [],
   "source": [
    "total_pickup_travels = [sum(x)/1000 for x in pickup_travels]"
   ]
  },
  {
   "cell_type": "code",
   "execution_count": null,
   "metadata": {},
   "outputs": [],
   "source": []
  },
  {
   "cell_type": "code",
   "execution_count": 331,
   "metadata": {},
   "outputs": [],
   "source": [
    "fig = plt.figure(figsize=(10,6))\n",
    "ax = sns.distplot(total_pickup_travels,kde=False,bins=[i*0.1 for i in range(90)],hist_kws={'align':'left',\"alpha\":0.7,'width':0.08})\n",
    "ax.set_xlabel(\"total travels to pickup (kms)\",fontsize=20)\n",
    "ax.set_ylabel(\"frequency\",fontsize=20)\n",
    "ax.set_xticks(range(11))\n",
    "# ax.set_xlim(0,10)\n",
    "ax.tick_params(axis='both', which='major', labelsize=18)"
   ]
  },
  {
   "cell_type": "code",
   "execution_count": 332,
   "metadata": {},
   "outputs": [
    {
     "data": {
      "image/png": "[encoded data removed]",
      "text/plain": [
       "<matplotlib.figure.Figure at 0x7fc3e9f81b70>"
      ]
     },
     "metadata": {},
     "output_type": "display_data"
    }
   ],
   "source": [
    "plt.show()"
   ]
  },
  {
   "cell_type": "code",
   "execution_count": 349,
   "metadata": {},
   "outputs": [],
   "source": [
    "fig = plt.figure(figsize=(10,6))\n",
    "ax = sns.distplot(total_pickup_travels,hist=False, bins=20,kde_kws={'cumulative':True})\n",
    "ax.set_xlabel(\"total travels to pickup (kms)\",fontsize=20)\n",
    "ax.set_ylabel(\"frequency\",fontsize=20)\n",
    "# ax.set_xticks(range(11))\n",
    "# ax.set_xlim(0,10)\n",
    "ax.tick_params(axis='both', which='major', labelsize=18)\n",
    "plt.grid()"
   ]
  },
  {
   "cell_type": "code",
   "execution_count": 350,
   "metadata": {},
   "outputs": [
    {
     "data": {
      "image/png": "[encoded data removed]",
      "text/plain": [
       "<matplotlib.figure.Figure at 0x7fc3ea144128>"
      ]
     },
     "metadata": {},
     "output_type": "display_data"
    }
   ],
   "source": [
    "plt.show()"
   ]
  },
  {
   "cell_type": "code",
   "execution_count": null,
   "metadata": {},
   "outputs": [],
   "source": []
  },
  {
   "cell_type": "code",
   "execution_count": null,
   "metadata": {},
   "outputs": [],
   "source": []
  },
  {
   "cell_type": "code",
   "execution_count": 351,
   "metadata": {},
   "outputs": [],
   "source": [
    "total_pickup_times = [sum(x) for x in pickup_times]"
   ]
  },
  {
   "cell_type": "code",
   "execution_count": 352,
   "metadata": {},
   "outputs": [],
   "source": [
    "fig = plt.figure(figsize=(10,6))\n",
    "ax = sns.distplot(total_pickup_times,kde=False,bins=[60*i for i in range(40)],hist_kws={'align':'left',\"alpha\":0.7,'width':55})\n",
    "ax.set_xlabel(\"total time to pickup (s)\",fontsize=20)\n",
    "ax.set_ylabel(\"frequency\",fontsize=20)\n",
    "# ax.set_xticks(range(11))\n",
    "# ax.set_xlim(0,10)\n",
    "ax.tick_params(axis='both', which='major', labelsize=18)"
   ]
  },
  {
   "cell_type": "code",
   "execution_count": 353,
   "metadata": {},
   "outputs": [
    {
     "data": {
      "image/png": "[encoded data removed]",
      "text/plain": [
       "<matplotlib.figure.Figure at 0x7fc3e9fe82b0>"
      ]
     },
     "metadata": {},
     "output_type": "display_data"
    }
   ],
   "source": [
    "plt.show()"
   ]
  },
  {
   "cell_type": "code",
   "execution_count": null,
   "metadata": {},
   "outputs": [],
   "source": []
  },
  {
   "cell_type": "code",
   "execution_count": 354,
   "metadata": {},
   "outputs": [],
   "source": [
    "fig = plt.figure(figsize=(10,6))\n",
    "ax = sns.distplot(total_pickup_times,hist=False, bins=20,kde_kws={'cumulative':True})\n",
    "ax.set_xlabel(\"total time to pickup (s)\",fontsize=20)\n",
    "ax.set_ylabel(\"frequency\",fontsize=20)\n",
    "# ax.set_xticks(range(11))\n",
    "# ax.set_xlim(0,10)\n",
    "ax.tick_params(axis='both', which='major', labelsize=18)\n",
    "plt.grid()"
   ]
  },
  {
   "cell_type": "code",
   "execution_count": 355,
   "metadata": {},
   "outputs": [
    {
     "data": {
      "image/png": "[encoded data removed]",
      "text/plain": [
       "<matplotlib.figure.Figure at 0x7fc3ea6bffd0>"
      ]
     },
     "metadata": {},
     "output_type": "display_data"
    }
   ],
   "source": [
    "plt.show()"
   ]
  },
  {
   "cell_type": "code",
   "execution_count": null,
   "metadata": {},
   "outputs": [],
   "source": []
  }
 ],
 "metadata": {
  "kernelspec": {
   "display_name": "Python 3",
   "language": "python",
   "name": "python3"
  },
  "language_info": {
   "codemirror_mode": {
    "name": "ipython",
    "version": 3
   },
   "file_extension": ".py",
   "mimetype": "text/x-python",
   "name": "python",
   "nbconvert_exporter": "python",
   "pygments_lexer": "ipython3",
   "version": "3.7.6"
  }
 },
 "nbformat": 4,
 "nbformat_minor": 2
}
