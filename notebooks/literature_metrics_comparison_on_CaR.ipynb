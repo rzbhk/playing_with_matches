{
 "cells": [
  {
   "cell_type": "code",
   "execution_count": 2,
   "metadata": {},
   "outputs": [],
   "source": [
    "import pandas as pd\n",
    "import numpy as np\n",
    "import matplotlib.pyplot as plt\n",
    "import os\n",
    "from tqdm import tqdm_notebook, trange\n",
    "from numba import jit\n",
    "from mpl_toolkits.mplot3d import Axes3D\n",
    "from collections import Counter\n",
    "from sklearn.preprocessing import MinMaxScaler\n",
    "import seaborn as sns\n",
    "from sklearn.cluster import SpectralClustering"
   ]
  },
  {
   "cell_type": "code",
   "execution_count": 3,
   "metadata": {},
   "outputs": [],
   "source": [
    "os.chdir(r\"/raid6/roozbeh/trip_similarity/\")"
   ]
  },
  {
   "cell_type": "code",
   "execution_count": 4,
   "metadata": {},
   "outputs": [],
   "source": [
    "with pd.HDFStore(\"koln_by_hour_OD_and_scaled.h5\") as store:\n",
    "    OD8df = store[\"OD8df\"]\n",
    "    OD8df_scaled = store[\"OD8df_scaled\"]\n",
    "    OD12df = store[\"OD12df\"]\n",
    "    OD12df_scaled = store[\"OD12df_scaled\"]\n",
    "    OD16df = store[\"OD16df\"]\n",
    "    OD16df_scaled = store[\"OD16df_scaled\"]\n",
    "    OD20df = store[\"OD20df\"]\n",
    "    OD20df_scaled = store[\"OD20df_scaled\"]"
   ]
  },
  {
   "cell_type": "code",
   "execution_count": 5,
   "metadata": {},
   "outputs": [],
   "source": [
    "with pd.HDFStore(\"koln_by_hour.h5\") as store:\n",
    "    koln8df = store[\"koln8\"]"
   ]
  },
  {
   "cell_type": "markdown",
   "metadata": {},
   "source": [
    "##### Parameters Section"
   ]
  },
  {
   "cell_type": "code",
   "execution_count": 13,
   "metadata": {
    "collapsed": true
   },
   "outputs": [],
   "source": [
    "spatial_step = 50\n",
    "\n",
    "time_threshold = 600 #seconds since data is per second\n",
    "\n",
    "distance_sim_coef = 0.0001\n",
    "time_sim_coef = 0.00015"
   ]
  },
  {
   "cell_type": "markdown",
   "metadata": {},
   "source": [
    "##### Let's prepare the OD style of trips"
   ]
  },
  {
   "cell_type": "code",
   "execution_count": 14,
   "metadata": {},
   "outputs": [
    {
     "data": {
      "text/html": [
       "<div>\n",
       "<style scoped>\n",
       "    .dataframe tbody tr th:only-of-type {\n",
       "        vertical-align: middle;\n",
       "    }\n",
       "\n",
       "    .dataframe tbody tr th {\n",
       "        vertical-align: top;\n",
       "    }\n",
       "\n",
       "    .dataframe thead th {\n",
       "        text-align: right;\n",
       "    }\n",
       "</style>\n",
       "<table border=\"1\" class=\"dataframe\">\n",
       "  <thead>\n",
       "    <tr style=\"text-align: right;\">\n",
       "      <th></th>\n",
       "      <th>time_begin</th>\n",
       "      <th>x_begin</th>\n",
       "      <th>y_begin</th>\n",
       "      <th>time_end</th>\n",
       "      <th>x_end</th>\n",
       "      <th>y_end</th>\n",
       "    </tr>\n",
       "  </thead>\n",
       "  <tbody>\n",
       "    <tr>\n",
       "      <th>min</th>\n",
       "      <td>28800.0</td>\n",
       "      <td>3758.084711</td>\n",
       "      <td>1108.623441</td>\n",
       "      <td>28800.0</td>\n",
       "      <td>3916.012273</td>\n",
       "      <td>1105.472128</td>\n",
       "    </tr>\n",
       "    <tr>\n",
       "      <th>max</th>\n",
       "      <td>32399.0</td>\n",
       "      <td>25783.158495</td>\n",
       "      <td>31743.770000</td>\n",
       "      <td>32399.0</td>\n",
       "      <td>25775.636178</td>\n",
       "      <td>31918.184081</td>\n",
       "    </tr>\n",
       "  </tbody>\n",
       "</table>\n",
       "</div>"
      ],
      "text/plain": [
       "     time_begin       x_begin       y_begin  time_end         x_end  \\\n",
       "min     28800.0   3758.084711   1108.623441   28800.0   3916.012273   \n",
       "max     32399.0  25783.158495  31743.770000   32399.0  25775.636178   \n",
       "\n",
       "            y_end  \n",
       "min   1105.472128  \n",
       "max  31918.184081  "
      ]
     },
     "execution_count": 14,
     "metadata": {},
     "output_type": "execute_result"
    }
   ],
   "source": [
    "OD8df.describe().loc[['min','max'],]"
   ]
  },
  {
   "cell_type": "code",
   "execution_count": 15,
   "metadata": {},
   "outputs": [
    {
     "data": {
      "text/plain": [
       "622.9631611561606"
      ]
     },
     "execution_count": 15,
     "metadata": {},
     "output_type": "execute_result"
    }
   ],
   "source": [
    "x_diff = max(OD8df.x_begin.max(),OD8df.x_end.max()) - min(OD8df.x_begin.min(), OD8df.x_end.min())\n",
    "y_diff = max(OD8df.y_begin.max(),OD8df.y_end.max()) - min(OD8df.y_begin.min(), OD8df.y_end.min())\n",
    "min_diff = min(x_diff,y_diff)\n",
    "min_step = min_diff / spatial_step \n",
    "distance_threshold = min_step * np.sqrt(2)\n",
    "distance_threshold"
   ]
  },
  {
   "cell_type": "markdown",
   "metadata": {},
   "source": [
    "##### We get a sample  2000 for the requests"
   ]
  },
  {
   "cell_type": "code",
   "execution_count": null,
   "metadata": {},
   "outputs": [],
   "source": []
  },
  {
   "cell_type": "code",
   "execution_count": 6,
   "metadata": {
    "collapsed": true
   },
   "outputs": [],
   "source": [
    "reqDF = OD8df.sample(n=2000,random_state=1234)\n",
    "ongoingDF = OD8df[~ OD8df.index.isin(reqDF.index)]\n",
    "\n",
    "# ongoingDF = OD8df.sample(n=10000,random_state=1234)\n",
    "\n",
    "# otherDF = OD8df[~ OD8df.index.isin(ongoingDF.index)]\n",
    "\n",
    "# reqDF = otherDF.sample(n=2000,random_state=1234)"
   ]
  },
  {
   "cell_type": "code",
   "execution_count": 7,
   "metadata": {},
   "outputs": [],
   "source": [
    "reqDF_scaled = OD8df_scaled.sample(n=2000,random_state=1234)\n",
    "ongoingDF_scaled = OD8df_scaled[~ OD8df_scaled.index.isin(reqDF_scaled.index)]"
   ]
  },
  {
   "cell_type": "code",
   "execution_count": 8,
   "metadata": {},
   "outputs": [
    {
     "data": {
      "text/html": [
       "<div>\n",
       "<style scoped>\n",
       "    .dataframe tbody tr th:only-of-type {\n",
       "        vertical-align: middle;\n",
       "    }\n",
       "\n",
       "    .dataframe tbody tr th {\n",
       "        vertical-align: top;\n",
       "    }\n",
       "\n",
       "    .dataframe thead th {\n",
       "        text-align: right;\n",
       "    }\n",
       "</style>\n",
       "<table border=\"1\" class=\"dataframe\">\n",
       "  <thead>\n",
       "    <tr style=\"text-align: right;\">\n",
       "      <th></th>\n",
       "      <th>time</th>\n",
       "      <th>trip_id</th>\n",
       "      <th>x</th>\n",
       "      <th>y</th>\n",
       "      <th>spd</th>\n",
       "      <th>hour_of_day</th>\n",
       "    </tr>\n",
       "  </thead>\n",
       "  <tbody>\n",
       "    <tr>\n",
       "      <th>84455778</th>\n",
       "      <td>28800</td>\n",
       "      <td>222454</td>\n",
       "      <td>19053.557601</td>\n",
       "      <td>9789.137665</td>\n",
       "      <td>2.44</td>\n",
       "      <td>8</td>\n",
       "    </tr>\n",
       "    <tr>\n",
       "      <th>84455779</th>\n",
       "      <td>28800</td>\n",
       "      <td>1337436</td>\n",
       "      <td>19051.351003</td>\n",
       "      <td>9786.667576</td>\n",
       "      <td>2.19</td>\n",
       "      <td>8</td>\n",
       "    </tr>\n",
       "  </tbody>\n",
       "</table>\n",
       "</div>"
      ],
      "text/plain": [
       "           time  trip_id             x            y   spd  hour_of_day\n",
       "84455778  28800   222454  19053.557601  9789.137665  2.44            8\n",
       "84455779  28800  1337436  19051.351003  9786.667576  2.19            8"
      ]
     },
     "execution_count": 8,
     "metadata": {},
     "output_type": "execute_result"
    }
   ],
   "source": [
    "koln8df[:2]"
   ]
  },
  {
   "cell_type": "code",
   "execution_count": 9,
   "metadata": {
    "collapsed": true
   },
   "outputs": [],
   "source": [
    "sample_8 = koln8df[koln8df.trip_id.isin(reqDF.index)]"
   ]
  },
  {
   "cell_type": "code",
   "execution_count": 10,
   "metadata": {},
   "outputs": [
    {
     "data": {
      "text/plain": [
       "(904163, 18942388)"
      ]
     },
     "execution_count": 10,
     "metadata": {},
     "output_type": "execute_result"
    }
   ],
   "source": [
    "len(sample_8),len(koln8df)"
   ]
  },
  {
   "cell_type": "code",
   "execution_count": 11,
   "metadata": {},
   "outputs": [
    {
     "data": {
      "text/plain": [
       "2000"
      ]
     },
     "execution_count": 11,
     "metadata": {},
     "output_type": "execute_result"
    }
   ],
   "source": [
    "len(sample_8.groupby(\"trip_id\"))"
   ]
  },
  {
   "cell_type": "code",
   "execution_count": 12,
   "metadata": {},
   "outputs": [],
   "source": [
    "sample8_50waypoints = sample_8.groupby(\"trip_id\").apply(lambda x: x.sample(n=50) if len(x) > 50 else None).drop('trip_id',axis=1).reset_index().drop(['level_1','spd','hour_of_day'],axis=1)"
   ]
  },
  {
   "cell_type": "code",
   "execution_count": 13,
   "metadata": {},
   "outputs": [
    {
     "data": {
      "text/plain": [
       "1898"
      ]
     },
     "execution_count": 13,
     "metadata": {},
     "output_type": "execute_result"
    }
   ],
   "source": [
    "len(sample8_50waypoints.groupby('trip_id'))"
   ]
  },
  {
   "cell_type": "markdown",
   "metadata": {},
   "source": [
    "-----\n",
    "#### SORTING ON TIME BEFORE ADDING WAYPOINT NUMBER"
   ]
  },
  {
   "cell_type": "code",
   "execution_count": 14,
   "metadata": {},
   "outputs": [],
   "source": [
    "sample8_50wp = sample8_50waypoints.sort_values(['trip_id','time']).reset_index().drop('index',axis=1)"
   ]
  },
  {
   "cell_type": "code",
   "execution_count": 15,
   "metadata": {},
   "outputs": [],
   "source": [
    "wp_num_series = pd.Series(np.tile(np.arange(50),int(len(sample8_50wp)/50)),name='waypoint')"
   ]
  },
  {
   "cell_type": "code",
   "execution_count": 16,
   "metadata": {},
   "outputs": [],
   "source": [
    "sample8_50wp['waypoint'] = wp_num_series"
   ]
  },
  {
   "cell_type": "code",
   "execution_count": 17,
   "metadata": {},
   "outputs": [],
   "source": [
    "del sample8_50waypoints"
   ]
  },
  {
   "cell_type": "markdown",
   "metadata": {},
   "source": [
    "##### so returning None filters out groups based on above lines! ?"
   ]
  },
  {
   "cell_type": "markdown",
   "metadata": {},
   "source": [
    "----------"
   ]
  },
  {
   "cell_type": "code",
   "execution_count": 18,
   "metadata": {},
   "outputs": [
    {
     "data": {
      "text/html": [
       "<div>\n",
       "<style scoped>\n",
       "    .dataframe tbody tr th:only-of-type {\n",
       "        vertical-align: middle;\n",
       "    }\n",
       "\n",
       "    .dataframe tbody tr th {\n",
       "        vertical-align: top;\n",
       "    }\n",
       "\n",
       "    .dataframe thead th {\n",
       "        text-align: right;\n",
       "    }\n",
       "</style>\n",
       "<table border=\"1\" class=\"dataframe\">\n",
       "  <thead>\n",
       "    <tr style=\"text-align: right;\">\n",
       "      <th></th>\n",
       "      <th>trip_id</th>\n",
       "      <th>time</th>\n",
       "      <th>x</th>\n",
       "      <th>y</th>\n",
       "      <th>waypoint</th>\n",
       "    </tr>\n",
       "  </thead>\n",
       "  <tbody>\n",
       "    <tr>\n",
       "      <th>0</th>\n",
       "      <td>1000783</td>\n",
       "      <td>32201</td>\n",
       "      <td>10083.170000</td>\n",
       "      <td>23333.110000</td>\n",
       "      <td>0</td>\n",
       "    </tr>\n",
       "    <tr>\n",
       "      <th>1</th>\n",
       "      <td>1000783</td>\n",
       "      <td>32204</td>\n",
       "      <td>10090.054606</td>\n",
       "      <td>23341.547672</td>\n",
       "      <td>1</td>\n",
       "    </tr>\n",
       "    <tr>\n",
       "      <th>2</th>\n",
       "      <td>1000783</td>\n",
       "      <td>32207</td>\n",
       "      <td>10105.187706</td>\n",
       "      <td>23363.589124</td>\n",
       "      <td>2</td>\n",
       "    </tr>\n",
       "    <tr>\n",
       "      <th>3</th>\n",
       "      <td>1000783</td>\n",
       "      <td>32220</td>\n",
       "      <td>10204.876610</td>\n",
       "      <td>23533.322475</td>\n",
       "      <td>3</td>\n",
       "    </tr>\n",
       "  </tbody>\n",
       "</table>\n",
       "</div>"
      ],
      "text/plain": [
       "   trip_id   time             x             y  waypoint\n",
       "0  1000783  32201  10083.170000  23333.110000         0\n",
       "1  1000783  32204  10090.054606  23341.547672         1\n",
       "2  1000783  32207  10105.187706  23363.589124         2\n",
       "3  1000783  32220  10204.876610  23533.322475         3"
      ]
     },
     "execution_count": 18,
     "metadata": {},
     "output_type": "execute_result"
    }
   ],
   "source": [
    "sample8_50wp[:4]"
   ]
  },
  {
   "cell_type": "code",
   "execution_count": 19,
   "metadata": {},
   "outputs": [],
   "source": [
    "x_table = sample8_50wp.pivot_table(values='x',index='trip_id',columns='waypoint')\n",
    "y_table = sample8_50wp.pivot_table(values='y',index='trip_id',columns='waypoint')\n",
    "t_table = sample8_50wp.pivot_table(values='time',index='trip_id',columns='waypoint')"
   ]
  },
  {
   "cell_type": "code",
   "execution_count": 20,
   "metadata": {},
   "outputs": [],
   "source": [
    "xy_table = x_table.reset_index().merge(y_table.reset_index(),on=\"trip_id\",suffixes=[\"_x\",\"_y\"])"
   ]
  },
  {
   "cell_type": "code",
   "execution_count": 21,
   "metadata": {},
   "outputs": [
    {
     "data": {
      "text/html": [
       "<div>\n",
       "<style scoped>\n",
       "    .dataframe tbody tr th:only-of-type {\n",
       "        vertical-align: middle;\n",
       "    }\n",
       "\n",
       "    .dataframe tbody tr th {\n",
       "        vertical-align: top;\n",
       "    }\n",
       "\n",
       "    .dataframe thead th {\n",
       "        text-align: right;\n",
       "    }\n",
       "</style>\n",
       "<table border=\"1\" class=\"dataframe\">\n",
       "  <thead>\n",
       "    <tr style=\"text-align: right;\">\n",
       "      <th>waypoint</th>\n",
       "      <th>49_x</th>\n",
       "      <th>0_y</th>\n",
       "      <th>1_y</th>\n",
       "      <th>2_y</th>\n",
       "      <th>3_y</th>\n",
       "    </tr>\n",
       "  </thead>\n",
       "  <tbody>\n",
       "    <tr>\n",
       "      <th>0</th>\n",
       "      <td>10523.457945</td>\n",
       "      <td>23333.110000</td>\n",
       "      <td>23341.547672</td>\n",
       "      <td>23363.589124</td>\n",
       "      <td>23533.322475</td>\n",
       "    </tr>\n",
       "    <tr>\n",
       "      <th>1</th>\n",
       "      <td>11356.759150</td>\n",
       "      <td>15821.418513</td>\n",
       "      <td>15828.677234</td>\n",
       "      <td>15839.809408</td>\n",
       "      <td>15858.760513</td>\n",
       "    </tr>\n",
       "    <tr>\n",
       "      <th>2</th>\n",
       "      <td>20713.202248</td>\n",
       "      <td>3449.901390</td>\n",
       "      <td>3495.030622</td>\n",
       "      <td>3450.921509</td>\n",
       "      <td>3409.618381</td>\n",
       "    </tr>\n",
       "    <tr>\n",
       "      <th>3</th>\n",
       "      <td>13666.869986</td>\n",
       "      <td>14685.950000</td>\n",
       "      <td>14924.416633</td>\n",
       "      <td>14944.670004</td>\n",
       "      <td>14997.420570</td>\n",
       "    </tr>\n",
       "    <tr>\n",
       "      <th>4</th>\n",
       "      <td>17726.900356</td>\n",
       "      <td>17069.337419</td>\n",
       "      <td>17025.142056</td>\n",
       "      <td>16913.775667</td>\n",
       "      <td>16642.946607</td>\n",
       "    </tr>\n",
       "  </tbody>\n",
       "</table>\n",
       "</div>"
      ],
      "text/plain": [
       "waypoint          49_x           0_y           1_y           2_y           3_y\n",
       "0         10523.457945  23333.110000  23341.547672  23363.589124  23533.322475\n",
       "1         11356.759150  15821.418513  15828.677234  15839.809408  15858.760513\n",
       "2         20713.202248   3449.901390   3495.030622   3450.921509   3409.618381\n",
       "3         13666.869986  14685.950000  14924.416633  14944.670004  14997.420570\n",
       "4         17726.900356  17069.337419  17025.142056  16913.775667  16642.946607"
      ]
     },
     "execution_count": 21,
     "metadata": {},
     "output_type": "execute_result"
    }
   ],
   "source": [
    "xy_table.iloc[:5,50:55]"
   ]
  },
  {
   "cell_type": "code",
   "execution_count": 22,
   "metadata": {},
   "outputs": [],
   "source": [
    "sample8_50wp_150feat = xy_table.merge(t_table.reset_index(),on='trip_id')"
   ]
  },
  {
   "cell_type": "code",
   "execution_count": 254,
   "metadata": {},
   "outputs": [],
   "source": [
    "#I COULD HAVE SIMPLY RENAMED THE COLUMNS :|\n",
    "# sample8_50wp_150feat = sample8_50wp_150feat.iloc[:,:-50].join(sample8_50wp_150feat.iloc[:,-50:].add_suffix('_t'))"
   ]
  },
  {
   "cell_type": "code",
   "execution_count": 23,
   "metadata": {},
   "outputs": [],
   "source": [
    "sample8_50wp_150feat.columns=[\"trip_id\"] + [str(i) + \"_x\" for i in range(50)] + [str(i) + \"_y\" for i in range(50)] + [ str(i) + \"_t\" for i in range(50) ]"
   ]
  },
  {
   "cell_type": "code",
   "execution_count": 24,
   "metadata": {},
   "outputs": [
    {
     "data": {
      "text/html": [
       "<div>\n",
       "<style scoped>\n",
       "    .dataframe tbody tr th:only-of-type {\n",
       "        vertical-align: middle;\n",
       "    }\n",
       "\n",
       "    .dataframe tbody tr th {\n",
       "        vertical-align: top;\n",
       "    }\n",
       "\n",
       "    .dataframe thead th {\n",
       "        text-align: right;\n",
       "    }\n",
       "</style>\n",
       "<table border=\"1\" class=\"dataframe\">\n",
       "  <thead>\n",
       "    <tr style=\"text-align: right;\">\n",
       "      <th></th>\n",
       "      <th>trip_id</th>\n",
       "      <th>0_x</th>\n",
       "      <th>1_x</th>\n",
       "      <th>2_x</th>\n",
       "      <th>3_x</th>\n",
       "      <th>4_x</th>\n",
       "      <th>5_x</th>\n",
       "      <th>6_x</th>\n",
       "      <th>7_x</th>\n",
       "      <th>8_x</th>\n",
       "      <th>...</th>\n",
       "      <th>40_t</th>\n",
       "      <th>41_t</th>\n",
       "      <th>42_t</th>\n",
       "      <th>43_t</th>\n",
       "      <th>44_t</th>\n",
       "      <th>45_t</th>\n",
       "      <th>46_t</th>\n",
       "      <th>47_t</th>\n",
       "      <th>48_t</th>\n",
       "      <th>49_t</th>\n",
       "    </tr>\n",
       "  </thead>\n",
       "  <tbody>\n",
       "    <tr>\n",
       "      <th>0</th>\n",
       "      <td>1000783</td>\n",
       "      <td>10083.170000</td>\n",
       "      <td>10090.054606</td>\n",
       "      <td>10105.187706</td>\n",
       "      <td>10204.876610</td>\n",
       "      <td>10210.052357</td>\n",
       "      <td>10220.182394</td>\n",
       "      <td>10249.940801</td>\n",
       "      <td>10259.833869</td>\n",
       "      <td>10264.898558</td>\n",
       "      <td>...</td>\n",
       "      <td>32364</td>\n",
       "      <td>32371</td>\n",
       "      <td>32374</td>\n",
       "      <td>32376</td>\n",
       "      <td>32379</td>\n",
       "      <td>32383</td>\n",
       "      <td>32385</td>\n",
       "      <td>32386</td>\n",
       "      <td>32389</td>\n",
       "      <td>32390</td>\n",
       "    </tr>\n",
       "    <tr>\n",
       "      <th>1</th>\n",
       "      <td>1000831</td>\n",
       "      <td>11000.695316</td>\n",
       "      <td>11006.133685</td>\n",
       "      <td>11014.474118</td>\n",
       "      <td>11028.672639</td>\n",
       "      <td>11033.193621</td>\n",
       "      <td>11052.122985</td>\n",
       "      <td>11057.111655</td>\n",
       "      <td>11075.291519</td>\n",
       "      <td>11077.504042</td>\n",
       "      <td>...</td>\n",
       "      <td>31661</td>\n",
       "      <td>31662</td>\n",
       "      <td>31664</td>\n",
       "      <td>31666</td>\n",
       "      <td>31667</td>\n",
       "      <td>31669</td>\n",
       "      <td>31671</td>\n",
       "      <td>31673</td>\n",
       "      <td>31679</td>\n",
       "      <td>31682</td>\n",
       "    </tr>\n",
       "  </tbody>\n",
       "</table>\n",
       "<p>2 rows × 151 columns</p>\n",
       "</div>"
      ],
      "text/plain": [
       "   trip_id           0_x           1_x           2_x           3_x  \\\n",
       "0  1000783  10083.170000  10090.054606  10105.187706  10204.876610   \n",
       "1  1000831  11000.695316  11006.133685  11014.474118  11028.672639   \n",
       "\n",
       "            4_x           5_x           6_x           7_x           8_x  \\\n",
       "0  10210.052357  10220.182394  10249.940801  10259.833869  10264.898558   \n",
       "1  11033.193621  11052.122985  11057.111655  11075.291519  11077.504042   \n",
       "\n",
       "   ...     40_t   41_t   42_t   43_t   44_t   45_t   46_t   47_t   48_t   49_t  \n",
       "0  ...    32364  32371  32374  32376  32379  32383  32385  32386  32389  32390  \n",
       "1  ...    31661  31662  31664  31666  31667  31669  31671  31673  31679  31682  \n",
       "\n",
       "[2 rows x 151 columns]"
      ]
     },
     "execution_count": 24,
     "metadata": {},
     "output_type": "execute_result"
    }
   ],
   "source": [
    "sample8_50wp_150feat[:2]"
   ]
  },
  {
   "cell_type": "markdown",
   "metadata": {},
   "source": [
    "------\n",
    "#### TILL THIS POINT WE HAVE 1898 TRIPS WITH 50 SAMPLES EACH IN A DF FORMAT OF 150 COLUMNS (50 x, 50 y, 50 time)\n"
   ]
  },
  {
   "cell_type": "markdown",
   "metadata": {},
   "source": [
    "##### NOW LET'S BUILD THIS FOR OTHER TRIPS AS WELL (ONGOING)"
   ]
  },
  {
   "cell_type": "code",
   "execution_count": 25,
   "metadata": {},
   "outputs": [],
   "source": [
    "ongoing8 = koln8df[ ~ koln8df.trip_id.isin(reqDF.index)]"
   ]
  },
  {
   "cell_type": "code",
   "execution_count": 26,
   "metadata": {},
   "outputs": [
    {
     "data": {
      "text/plain": [
       "40070"
      ]
     },
     "execution_count": 26,
     "metadata": {},
     "output_type": "execute_result"
    }
   ],
   "source": [
    "len(ongoing8.groupby(\"trip_id\"))"
   ]
  },
  {
   "cell_type": "code",
   "execution_count": 27,
   "metadata": {},
   "outputs": [],
   "source": [
    "ongoing8_50waypoints = ongoing8.groupby(\"trip_id\").apply(lambda x: x.sample(n=50) if len(x) > 50 else None).drop('trip_id',axis=1).reset_index().drop(['level_1','spd','hour_of_day'],axis=1)"
   ]
  },
  {
   "cell_type": "code",
   "execution_count": 28,
   "metadata": {},
   "outputs": [],
   "source": [
    "ongoing8_50wp = ongoing8_50waypoints.sort_values(['trip_id','time']).reset_index().drop('index',axis=1)"
   ]
  },
  {
   "cell_type": "code",
   "execution_count": 29,
   "metadata": {},
   "outputs": [],
   "source": [
    "wp_num_series_ongoing8 = pd.Series(np.tile(np.arange(50),int(len(ongoing8_50wp)/50)),name='waypoint')"
   ]
  },
  {
   "cell_type": "code",
   "execution_count": 30,
   "metadata": {},
   "outputs": [],
   "source": [
    "ongoing8_50wp['waypoint'] = wp_num_series_ongoing8"
   ]
  },
  {
   "cell_type": "code",
   "execution_count": 31,
   "metadata": {},
   "outputs": [],
   "source": [
    "del ongoing8_50waypoints"
   ]
  },
  {
   "cell_type": "code",
   "execution_count": 32,
   "metadata": {},
   "outputs": [],
   "source": [
    "x_table_ongoing = ongoing8_50wp.pivot_table(values='x',index='trip_id',columns='waypoint')\n",
    "y_table_ongoing = ongoing8_50wp.pivot_table(values='y',index='trip_id',columns='waypoint')\n",
    "t_table_ongoing = ongoing8_50wp.pivot_table(values='time',index='trip_id',columns='waypoint')"
   ]
  },
  {
   "cell_type": "code",
   "execution_count": 33,
   "metadata": {},
   "outputs": [],
   "source": [
    "xy_table_ongoing = x_table_ongoing.reset_index().merge(y_table_ongoing.reset_index(),on=\"trip_id\",suffixes=[\"_x\",\"_y\"])"
   ]
  },
  {
   "cell_type": "code",
   "execution_count": 34,
   "metadata": {},
   "outputs": [],
   "source": [
    "ongoing8_50wp_150feat = xy_table_ongoing.merge(t_table_ongoing.reset_index(),on='trip_id')"
   ]
  },
  {
   "cell_type": "markdown",
   "metadata": {},
   "source": [
    "--------\n",
    "#### Let's rename the columns as well!"
   ]
  },
  {
   "cell_type": "code",
   "execution_count": 35,
   "metadata": {},
   "outputs": [],
   "source": [
    "ongoing8_50wp_150feat.columns=[\"trip_id\"] + [str(i) + \"_x\" for i in range(50)] + [str(i) + \"_y\" for i in range(50)] + [ str(i) + \"_t\" for i in range(50) ]"
   ]
  },
  {
   "cell_type": "code",
   "execution_count": 36,
   "metadata": {},
   "outputs": [
    {
     "data": {
      "text/html": [
       "<div>\n",
       "<style scoped>\n",
       "    .dataframe tbody tr th:only-of-type {\n",
       "        vertical-align: middle;\n",
       "    }\n",
       "\n",
       "    .dataframe tbody tr th {\n",
       "        vertical-align: top;\n",
       "    }\n",
       "\n",
       "    .dataframe thead th {\n",
       "        text-align: right;\n",
       "    }\n",
       "</style>\n",
       "<table border=\"1\" class=\"dataframe\">\n",
       "  <thead>\n",
       "    <tr style=\"text-align: right;\">\n",
       "      <th></th>\n",
       "      <th>trip_id</th>\n",
       "      <th>0_x</th>\n",
       "      <th>1_x</th>\n",
       "      <th>2_x</th>\n",
       "      <th>3_x</th>\n",
       "      <th>4_x</th>\n",
       "      <th>5_x</th>\n",
       "      <th>6_x</th>\n",
       "      <th>7_x</th>\n",
       "      <th>8_x</th>\n",
       "      <th>...</th>\n",
       "      <th>40_t</th>\n",
       "      <th>41_t</th>\n",
       "      <th>42_t</th>\n",
       "      <th>43_t</th>\n",
       "      <th>44_t</th>\n",
       "      <th>45_t</th>\n",
       "      <th>46_t</th>\n",
       "      <th>47_t</th>\n",
       "      <th>48_t</th>\n",
       "      <th>49_t</th>\n",
       "    </tr>\n",
       "  </thead>\n",
       "  <tbody>\n",
       "    <tr>\n",
       "      <th>0</th>\n",
       "      <td>1000027</td>\n",
       "      <td>23471.488035</td>\n",
       "      <td>23486.543062</td>\n",
       "      <td>23521.561714</td>\n",
       "      <td>23541.435547</td>\n",
       "      <td>23585.563040</td>\n",
       "      <td>23859.228418</td>\n",
       "      <td>23884.795609</td>\n",
       "      <td>23646.963936</td>\n",
       "      <td>23631.351299</td>\n",
       "      <td>...</td>\n",
       "      <td>30811</td>\n",
       "      <td>30816</td>\n",
       "      <td>30834</td>\n",
       "      <td>30841</td>\n",
       "      <td>30842</td>\n",
       "      <td>30849</td>\n",
       "      <td>30861</td>\n",
       "      <td>30865</td>\n",
       "      <td>30872</td>\n",
       "      <td>30878</td>\n",
       "    </tr>\n",
       "    <tr>\n",
       "      <th>1</th>\n",
       "      <td>1000032</td>\n",
       "      <td>14534.970000</td>\n",
       "      <td>14535.797462</td>\n",
       "      <td>14536.475016</td>\n",
       "      <td>14530.998442</td>\n",
       "      <td>14530.228654</td>\n",
       "      <td>14529.828607</td>\n",
       "      <td>14515.831001</td>\n",
       "      <td>14480.438631</td>\n",
       "      <td>14500.702807</td>\n",
       "      <td>...</td>\n",
       "      <td>32371</td>\n",
       "      <td>32374</td>\n",
       "      <td>32375</td>\n",
       "      <td>32378</td>\n",
       "      <td>32382</td>\n",
       "      <td>32390</td>\n",
       "      <td>32391</td>\n",
       "      <td>32394</td>\n",
       "      <td>32396</td>\n",
       "      <td>32398</td>\n",
       "    </tr>\n",
       "  </tbody>\n",
       "</table>\n",
       "<p>2 rows × 151 columns</p>\n",
       "</div>"
      ],
      "text/plain": [
       "   trip_id           0_x           1_x           2_x           3_x  \\\n",
       "0  1000027  23471.488035  23486.543062  23521.561714  23541.435547   \n",
       "1  1000032  14534.970000  14535.797462  14536.475016  14530.998442   \n",
       "\n",
       "            4_x           5_x           6_x           7_x           8_x  \\\n",
       "0  23585.563040  23859.228418  23884.795609  23646.963936  23631.351299   \n",
       "1  14530.228654  14529.828607  14515.831001  14480.438631  14500.702807   \n",
       "\n",
       "   ...     40_t   41_t   42_t   43_t   44_t   45_t   46_t   47_t   48_t   49_t  \n",
       "0  ...    30811  30816  30834  30841  30842  30849  30861  30865  30872  30878  \n",
       "1  ...    32371  32374  32375  32378  32382  32390  32391  32394  32396  32398  \n",
       "\n",
       "[2 rows x 151 columns]"
      ]
     },
     "execution_count": 36,
     "metadata": {},
     "output_type": "execute_result"
    }
   ],
   "source": [
    "ongoing8_50wp_150feat[:2]"
   ]
  },
  {
   "cell_type": "markdown",
   "metadata": {},
   "source": [
    "----------------\n",
    "#### DEFINING SIMILARITIES"
   ]
  },
  {
   "cell_type": "code",
   "execution_count": 310,
   "metadata": {},
   "outputs": [],
   "source": [
    "w_x = 0.6\n",
    "w_t = 0.4\n",
    "\n",
    "t_th = 900 #seconds\n",
    "d_th = 1800 #meters\n",
    "\n",
    "#weighted geometric mean between time and space. arithmetic mean between origin and dest (/2).\n",
    "# t1 is rider (walker) and t2 is the ride\n",
    "def get_trip_similarity_from_tuple_WALK2_wgm(t1,t2):\n",
    "    oo_dist = np.sqrt( (t1[1] - t2[1]) ** 2 + (t1[2] - t2[2])**2 )\n",
    "\n",
    "    oo_t = (t2[0] - t1[0]) #t2 should start after t1\n",
    "    oo_t = 10000 if oo_t < 0 else oo_t\n",
    "    \n",
    "    sim = np.exp(w_x * np.log(1./(1+oo_dist/d_th)) + w_t * np.log(1./(1+ oo_t/t_th)) ) \n",
    "       \n",
    "    dd_dist = np.sqrt( (t1[4] - t2[4]) ** 2 + (t1[5] - t2[5])**2 )\n",
    "    \n",
    "    dd_t = (t1[3] - t2[3]) # t2 should finish before t1 so that t1 can walk to its dest\n",
    "    dd_t = 10000 if dd_t < 0 else dd_t\n",
    "\n",
    "    sim += np.exp(w_x * np.log(1./(1+dd_dist/d_th) + w_t * np.log(1./(1+ dd_t/t_th)) ) )\n",
    "    \n",
    "    return(sim/2)"
   ]
  },
  {
   "cell_type": "code",
   "execution_count": 311,
   "metadata": {},
   "outputs": [],
   "source": [
    "def is_equal(x,y):\n",
    "    dist = np.sqrt((x[0] - y[0]) ** 2 + (x[1] - y[1])**2 )\n",
    "    t = np.absolute(x[2]-y[2])\n",
    "    return dist <= d_th and t <= t_th"
   ]
  },
  {
   "cell_type": "code",
   "execution_count": 312,
   "metadata": {},
   "outputs": [],
   "source": [
    "def lcs(X , Y):\n",
    "    # find the length of the strings\n",
    "    m = 50\n",
    "    n = 50\n",
    "    \n",
    "    # declaring the array for storing the dp values\n",
    "    L = [[None]*(n+1) for i in range(m+1)]\n",
    " \n",
    "    \"\"\"Following steps build L[m+1][n+1] in bottom up fashion\n",
    "    Note: L[i][j] contains length of LCS of X[0..i-1]\n",
    "    and Y[0..j-1]\"\"\"\n",
    "    for i in range(m+1):\n",
    "        for j in range(n+1):\n",
    "            if i == 0 or j == 0 :\n",
    "                L[i][j] = 0\n",
    "            elif is_equal(X[i-1],Y[j-1]):\n",
    "                L[i][j] = L[i-1][j-1]+1\n",
    "            else:\n",
    "                L[i][j] = max(L[i-1][j] , L[i][j-1])\n",
    " \n",
    "    # L[m][n] contains the length of LCS of X[0..n-1] & Y[0..m-1]\n",
    "    return L[m][n]"
   ]
  },
  {
   "cell_type": "code",
   "execution_count": 352,
   "metadata": {},
   "outputs": [],
   "source": [
    "def get_trip_similarity_LCSS(t1,t2):\n",
    "    X = [(t1[i],t1[i+50],t1[i+100]) for i in range(1,51)]\n",
    "    Y = [(t2[i],t2[i+50],t2[i+100]) for i in range(1,51)]\n",
    "    l = lcs(X,Y)\n",
    "\n",
    "    return(l)"
   ]
  },
  {
   "cell_type": "code",
   "execution_count": 359,
   "metadata": {},
   "outputs": [],
   "source": [
    "results = []\n",
    "ongoing_counts = dict()"
   ]
  },
  {
   "cell_type": "code",
   "execution_count": 360,
   "metadata": {},
   "outputs": [
    {
     "name": "stdout",
     "output_type": "stream",
     "text": [
      "0\n",
      ".........100\n",
      ".........200\n",
      ".........300\n",
      ".........400\n",
      ".........500\n",
      ".........600\n",
      ".........700\n",
      ".........800\n",
      ".........900\n",
      ".........1000\n",
      ".........1100\n",
      ".........1200\n",
      ".........1300\n",
      ".........1400\n",
      ".........1500\n",
      ".........1600\n",
      ".........1700\n",
      ".........1800\n",
      "........."
     ]
    }
   ],
   "source": [
    "i = 0\n",
    "for req in sample8_50wp_150feat.itertuples(index=False):\n",
    "    if i%100 == 0:\n",
    "        print(i)\n",
    "    elif(i%10 == 0):\n",
    "        print('.',end='')\n",
    "    \n",
    "    i+=1\n",
    "    \n",
    "    potential_matches = ongoing8_50wp_150feat\n",
    "\n",
    "    OO_time_mask = (req[101] <= potential_matches[\"0_t\"]) & ((potential_matches[\"0_t\"] - req[101])<=t_th) \n",
    "    potential_matches = potential_matches[OO_time_mask]\n",
    "\n",
    "    DD_time_mask = ((req[150] >= potential_matches[\"49_t\"]) & (( req[150] - potential_matches[\"49_t\"])<=t_th))\n",
    "\n",
    "    potential_matches = potential_matches[DD_time_mask]\n",
    "\n",
    "    OO_distance = np.sqrt( (potential_matches[\"0_x\"] - req[1]) ** 2 + (potential_matches[\"0_y\"] - req[51])**2 )\n",
    "\n",
    "    potential_matches = potential_matches[(OO_distance <= d_th)] \n",
    "\n",
    "    DD_distance = np.sqrt( (potential_matches[\"49_x\"] - req[50]) ** 2 + (potential_matches[\"49_y\"] - req[100])**2 )\n",
    "\n",
    "    potential_matches = potential_matches[(DD_distance <= d_th)]\n",
    "    \n",
    "    if potential_matches.empty:\n",
    "        results.append((req,None))\n",
    "    else:\n",
    "        potential_matches[\"similarity\"] = potential_matches.apply(lambda t : get_trip_similarity_LCSS(req,t),axis=1)\n",
    "\n",
    "        top_matches = potential_matches.sort_values(by=\"similarity\",ascending=False)\n",
    "                        \n",
    "        results.append( (req, top_matches[:1]) )\n",
    "        \n",
    "        if top_matches.index.values[0] in ongoing_counts:\n",
    "            ongoing_counts[top_matches.index.values[0]]+=1\n",
    "        else:\n",
    "            ongoing_counts[top_matches.index.values[0]]=1"
   ]
  },
  {
   "cell_type": "code",
   "execution_count": 405,
   "metadata": {},
   "outputs": [],
   "source": [
    "match_count = 0\n",
    "match_kms = []\n",
    "req_with_match_kms = []\n",
    "req_kms = []\n",
    "oo_kms = []\n",
    "dd_kms = []\n",
    "oo_times = []\n",
    "dd_times= []\n",
    "for req, matches in results:\n",
    "    reqtemp = get_total_distance_50wp(req)\n",
    "    req_kms.append(reqtemp)\n",
    "    if(matches is not None):\n",
    "        match = matches.iloc[0]\n",
    "        match_count+=1\n",
    "        req_with_match_kms.append(reqtemp)\n",
    "        match_kms.append(get_total_distance_50wp(match))\n",
    "        oo_kms.append(np.sqrt((match[1] - req[1]) ** 2 + (match[51] - req[51]) ** 2 ))\n",
    "        dd_kms.append(np.sqrt((match[50] - req[50]) ** 2 + (match[100] - req[100]) ** 2 ))\n",
    "        oo_times.append(match[101] - req[101])\n",
    "        dd_times.append(req[150] - match[150])\n",
    "    "
   ]
  },
  {
   "cell_type": "code",
   "execution_count": 406,
   "metadata": {},
   "outputs": [
    {
     "name": "stdout",
     "output_type": "stream",
     "text": [
      "matching with time_threshold of 900 and distance_threshold of 1800\n",
      "number of req with at least a match: 1357\n",
      "match travels (km):  5393.86139893\n",
      "req travels (km):  11706.3341707\n",
      "req travels when they have at least one match (km): 7244.17959474\n",
      "match/match+req ratio:  0.315426883684\n",
      "match/match+req with at least 1 match ratio:  0.426795687847\n",
      "origin-origin distance (km):  1442.78270273\n",
      "dest-dest distance (km):  1421.04652395\n",
      "origin-origin times (sec):  86071\n",
      "dest-dest times (sec):  101652\n"
     ]
    }
   ],
   "source": [
    "print(\"matching with time_threshold of {} and distance_threshold of {}\".format(t_th,d_th) )\n",
    "\n",
    "print(\"number of req with at least a match:\",match_count)\n",
    "\n",
    "print(\"match travels (km): \",np.sum(match_kms)/1000)\n",
    "\n",
    "print(\"req travels (km): \",np.sum(req_kms)/1000)\n",
    "\n",
    "print(\"req travels when they have at least one match (km):\",np.sum(req_with_match_kms)/1000)\n",
    "\n",
    "print(\"match/match+req ratio: \",np.sum(match_kms)/(np.sum(match_kms)+np.sum(req_kms)))\n",
    "\n",
    "print(\"match/match+req with at least 1 match ratio: \",np.sum(match_kms)/(np.sum(match_kms)+np.sum(req_with_match_kms)))\n",
    "\n",
    "print(\"origin-origin distance (km): \",np.sum(oo_kms)/1000)\n",
    "\n",
    "print(\"dest-dest distance (km): \",np.sum(dd_kms)/1000)\n",
    "\n",
    "print(\"origin-origin times (sec): \",np.sum(oo_times))\n",
    "\n",
    "print(\"dest-dest times (sec): \",np.sum(dd_times))"
   ]
  },
  {
   "cell_type": "code",
   "execution_count": null,
   "metadata": {},
   "outputs": [],
   "source": []
  },
  {
   "cell_type": "markdown",
   "metadata": {},
   "source": [
    "------\n",
    "#### MATCHING WITH 50 WAYPOINTS AND USING OUR SCORE"
   ]
  },
  {
   "cell_type": "code",
   "execution_count": 471,
   "metadata": {},
   "outputs": [],
   "source": [
    "w_x = 0.1\n",
    "w_t = 0.9\n",
    "\n",
    "t_th = 900 #seconds\n",
    "d_th = 1800 #meters\n",
    "\n",
    "#weighted geometric mean between time and space. arithmetic mean between origin and dest (/2).\n",
    "# t1 is rider (walker) and t2 is the ride\n",
    "def get_trip_similarity_from_tuple_WALK3_wgm_50points(t1,t2):\n",
    "    X = [(t1[i],t1[i+50],t1[i+100]) for i in range(1,51)]\n",
    "    Y = [(t2[i],t2[i+50],t2[i+100]) for i in range(1,51)]\n",
    "    sim = 0\n",
    "    for (x1,y1,t1),(x2,y2,t2) in zip(X,Y):\n",
    "        dist = np.sqrt( (x1 - x2) ** 2 + (y1 - y2)**2 )\n",
    "\n",
    "        t = np.absolute(t2 - t1)\n",
    "        \n",
    "        sim += np.exp(w_x * np.log(1./(1+dist/d_th)) + w_t * np.log(1./(1+ t/t_th)) ) \n",
    "\n",
    "    return(sim/50)"
   ]
  },
  {
   "cell_type": "code",
   "execution_count": 472,
   "metadata": {},
   "outputs": [],
   "source": [
    "results_wgm = []\n",
    "ongoing_counts_wgm = dict()"
   ]
  },
  {
   "cell_type": "code",
   "execution_count": 473,
   "metadata": {},
   "outputs": [
    {
     "name": "stdout",
     "output_type": "stream",
     "text": [
      "0\n",
      ".........100\n",
      ".........200\n",
      ".........300\n",
      ".........400\n",
      ".........500\n",
      ".........600\n",
      ".........700\n",
      ".........800\n",
      ".........900\n",
      ".........1000\n",
      ".........1100\n",
      ".........1200\n",
      ".........1300\n",
      ".........1400\n",
      ".........1500\n",
      ".........1600\n",
      ".........1700\n",
      ".........1800\n",
      "........."
     ]
    }
   ],
   "source": [
    "i = 0\n",
    "for req in sample8_50wp_150feat.itertuples(index=False):\n",
    "    if i%100 == 0:\n",
    "        print(i)\n",
    "    elif(i%10 == 0):\n",
    "        print('.',end='')\n",
    "    \n",
    "    i+=1\n",
    "    \n",
    "    potential_matches = ongoing8_50wp_150feat\n",
    "\n",
    "    OO_time_mask = (req[101] <= potential_matches[\"0_t\"]) & ((potential_matches[\"0_t\"] - req[101])<=t_th) \n",
    "    potential_matches = potential_matches[OO_time_mask]\n",
    "\n",
    "    DD_time_mask = ((req[150] >= potential_matches[\"49_t\"]) & (( req[150] - potential_matches[\"49_t\"])<=t_th))\n",
    "\n",
    "    potential_matches = potential_matches[DD_time_mask]\n",
    "\n",
    "    OO_distance = np.sqrt( (potential_matches[\"0_x\"] - req[1]) ** 2 + (potential_matches[\"0_y\"] - req[51])**2 )\n",
    "\n",
    "    potential_matches = potential_matches[(OO_distance <= d_th)] \n",
    "\n",
    "    DD_distance = np.sqrt( (potential_matches[\"49_x\"] - req[50]) ** 2 + (potential_matches[\"49_y\"] - req[100])**2 )\n",
    "\n",
    "    potential_matches = potential_matches[(DD_distance <= d_th)]\n",
    "\n",
    "\n",
    "    if potential_matches.empty:\n",
    "        results_wgm.append((req,None))\n",
    "    else:\n",
    "        potential_matches[\"similarity\"] = potential_matches.apply(lambda t : get_trip_similarity_from_tuple_WALK3_wgm_50points(req,t),axis=1)\n",
    "\n",
    "        top_matches = potential_matches.sort_values(by=\"similarity\",ascending=False)\n",
    "                \n",
    "        results_wgm.append( (req, top_matches[:5]) )\n",
    "        \n",
    "        if top_matches.index.values[0] in ongoing_counts_wgm:\n",
    "            ongoing_counts_wgm[top_matches.index.values[0]]+=1\n",
    "        else:\n",
    "            ongoing_counts_wgm[top_matches.index.values[0]]=1\n",
    "\n",
    "\n"
   ]
  },
  {
   "cell_type": "code",
   "execution_count": 51,
   "metadata": {},
   "outputs": [],
   "source": [
    "def get_total_distance_50wp(trip):\n",
    "    X = [(trip[i],trip[i+50],trip[i+100]) for i in range(1,51)]\n",
    "    total = 0\n",
    "    for (x1,y1,t1),(x2,y2,t2) in zip(X[:-1],X[1:]): #zip list(0..48) with (1..49)\n",
    "        total += np.sqrt((x1 - x2) ** 2 + (y1 - y2) ** 2 )\n",
    "    return(total)"
   ]
  },
  {
   "cell_type": "code",
   "execution_count": 475,
   "metadata": {},
   "outputs": [],
   "source": [
    "match_count = 0\n",
    "match_kms = []\n",
    "req_with_match_kms = []\n",
    "req_kms = []\n",
    "oo_kms = []\n",
    "dd_kms = []\n",
    "oo_times = []\n",
    "dd_times= []\n",
    "for req, matches in results_wgm:\n",
    "    reqtemp = get_total_distance_50wp(req)\n",
    "    req_kms.append(reqtemp)\n",
    "    if(matches is not None):\n",
    "        match = matches.iloc[0]\n",
    "        match_count+=1\n",
    "        req_with_match_kms.append(reqtemp)\n",
    "        match_kms.append(get_total_distance_50wp(match))\n",
    "        oo_kms.append(np.sqrt((match[1] - req[1]) ** 2 + (match[51] - req[51]) ** 2 ))\n",
    "        dd_kms.append(np.sqrt((match[50] - req[50]) ** 2 + (match[100] - req[100]) ** 2 ))\n",
    "        oo_times.append(match[101] - req[101])\n",
    "        dd_times.append(req[150] - match[150])\n",
    "        \n",
    "    "
   ]
  },
  {
   "cell_type": "code",
   "execution_count": 476,
   "metadata": {},
   "outputs": [
    {
     "name": "stdout",
     "output_type": "stream",
     "text": [
      "matching with time_threshold of 900 and distance_threshold of 1800\n",
      "number of req with at least a match: 1357\n",
      "match travels (km):  5945.29165051\n",
      "req travels (km):  11706.3341707\n",
      "req travels when they have at least one match (km): 7244.17959474\n",
      "match/match+req ratio:  0.336812694236\n",
      "match/match+req with at least 1 match ratio:  0.450760423974\n",
      "origin-origin distance (km):  1203.72496165\n",
      "dest-dest distance (km):  1255.59738181\n",
      "origin-origin times (sec):  57896\n",
      "dest-dest times (sec):  62424\n"
     ]
    }
   ],
   "source": [
    "print(\"matching with time_threshold of {} and distance_threshold of {}\".format(t_th,d_th) )\n",
    "\n",
    "print(\"number of req with at least a match:\",match_count)\n",
    "\n",
    "print(\"match travels (km): \",np.sum(match_kms)/1000)\n",
    "\n",
    "print(\"req travels (km): \",np.sum(req_kms)/1000)\n",
    "\n",
    "print(\"req travels when they have at least one match (km):\",np.sum(req_with_match_kms)/1000)\n",
    "\n",
    "print(\"match/match+req ratio: \",np.sum(match_kms)/(np.sum(match_kms)+np.sum(req_kms)))\n",
    "\n",
    "print(\"match/match+req with at least 1 match ratio: \",np.sum(match_kms)/(np.sum(match_kms)+np.sum(req_with_match_kms)))\n",
    "\n",
    "print(\"origin-origin distance (km): \",np.sum(oo_kms)/1000)\n",
    "\n",
    "print(\"dest-dest distance (km): \",np.sum(dd_kms)/1000)\n",
    "\n",
    "print(\"origin-origin times (sec): \",np.sum(oo_times))\n",
    "\n",
    "print(\"dest-dest times (sec): \",np.sum(dd_times))"
   ]
  },
  {
   "cell_type": "code",
   "execution_count": null,
   "metadata": {},
   "outputs": [],
   "source": []
  },
  {
   "cell_type": "code",
   "execution_count": null,
   "metadata": {},
   "outputs": [],
   "source": []
  },
  {
   "cell_type": "code",
   "execution_count": null,
   "metadata": {},
   "outputs": [],
   "source": []
  },
  {
   "cell_type": "markdown",
   "metadata": {},
   "source": [
    "----"
   ]
  },
  {
   "cell_type": "markdown",
   "metadata": {},
   "source": [
    "### HOW IT CHANGES WITH RESPECT TO W_t"
   ]
  },
  {
   "cell_type": "markdown",
   "metadata": {},
   "source": [
    "---"
   ]
  },
  {
   "cell_type": "code",
   "execution_count": 37,
   "metadata": {},
   "outputs": [],
   "source": [
    "t_th = 900 #seconds\n",
    "d_th = 1800 #meters\n",
    "#weighted geometric mean between time and space. arithmetic mean between origin and dest (/2).\n",
    "# t1 is rider (walker) and t2 is the ride\n",
    "def get_trip_similarity_from_tuple_WALK3_wgm_50points(t1,t2,w_x,w_t):\n",
    "    X = [(t1[i],t1[i+50],t1[i+100]) for i in range(1,51)]\n",
    "    Y = [(t2[i],t2[i+50],t2[i+100]) for i in range(1,51)]\n",
    "    sim = 0\n",
    "    for (x1,y1,t1),(x2,y2,t2) in zip(X,Y):\n",
    "        dist = np.sqrt( (x1 - x2) ** 2 + (y1 - y2)**2 )\n",
    "\n",
    "        t = np.absolute(t2 - t1)\n",
    "\n",
    "        sim += np.exp(w_x * np.log(1./(1+dist/d_th)) + w_t * np.log(1./(1+ t/t_th)) ) \n",
    "\n",
    "    return(sim/50)"
   ]
  },
  {
   "cell_type": "code",
   "execution_count": 48,
   "metadata": {},
   "outputs": [
    {
     "name": "stdout",
     "output_type": "stream",
     "text": [
      "0\n",
      "...................200\n",
      "...................400\n",
      "...................600\n",
      "...................800\n",
      "...................1000\n",
      "...................1200\n",
      "...................1400\n",
      "...................1600\n",
      "...................1800\n",
      "........."
     ]
    }
   ],
   "source": [
    "results_wgm = []\n",
    "ongoing_counts_wgm = dict()\n",
    "i = 0\n",
    "for req in sample8_50wp_150feat.itertuples(index=False):\n",
    "    if i % 200 == 0:\n",
    "        print(i)\n",
    "    elif(i%10 == 0):\n",
    "        print('.',end='')\n",
    "\n",
    "    i+=1\n",
    "\n",
    "    potential_matches = ongoing8_50wp_150feat\n",
    "\n",
    "    OO_time_mask = (req[101] <= potential_matches[\"0_t\"]) & ((potential_matches[\"0_t\"] - req[101])<=t_th) \n",
    "    potential_matches = potential_matches[OO_time_mask]\n",
    "\n",
    "    DD_time_mask = ((req[150] >= potential_matches[\"49_t\"]) & (( req[150] - potential_matches[\"49_t\"])<=t_th))\n",
    "\n",
    "    potential_matches = potential_matches[DD_time_mask]\n",
    "\n",
    "    OO_distance = np.sqrt( (potential_matches[\"0_x\"] - req[1]) ** 2 + (potential_matches[\"0_y\"] - req[51])**2 )\n",
    "\n",
    "    potential_matches = potential_matches[(OO_distance <= d_th)] \n",
    "\n",
    "    DD_distance = np.sqrt( (potential_matches[\"49_x\"] - req[50]) ** 2 + (potential_matches[\"49_y\"] - req[100])**2 )\n",
    "\n",
    "    potential_matches = potential_matches[(DD_distance <= d_th)]\n",
    "\n",
    "\n",
    "    if potential_matches.empty:\n",
    "        results_wgm.append((req,None))\n",
    "    else:\n",
    "        results_per_wt = []\n",
    "        for w_t in [0.1*i for i in range(10)]:\n",
    "            w_x = 1 - w_t\n",
    "            \n",
    "            potential_matches[\"similarity\"] = potential_matches.apply(lambda t : get_trip_similarity_from_tuple_WALK3_wgm_50points(req,t,w_x,w_t),axis=1)\n",
    "\n",
    "            top_matches = potential_matches.sort_values(by=\"similarity\",ascending=False)\n",
    "            results_per_wt.append((w_t,top_matches[:5]))\n",
    "            \n",
    "        results_wgm.append( (req, results_per_wt) )\n",
    "\n",
    "#             if top_matches.index.values[0] in ongoing_counts_wgm:\n",
    "#                 ongoing_counts_wgm[top_matches.index.values[0]]+=1\n",
    "#             else:\n",
    "#                 ongoing_counts_wgm[top_matches.index.values[0]]=1\n"
   ]
  },
  {
   "cell_type": "code",
   "execution_count": 52,
   "metadata": {},
   "outputs": [],
   "source": [
    "# match_count = 0\n",
    "match_kms = dict()\n",
    "# req_with_match_kms = []\n",
    "# req_kms = []\n",
    "oo_kms = dict()\n",
    "dd_kms = dict()\n",
    "oo_times = dict()\n",
    "dd_times= dict()\n",
    "\n",
    "for w_t in [0.1*i for i in range(10)]:\n",
    "    match_kms[w_t] = []\n",
    "    oo_kms[w_t] = []\n",
    "    dd_kms[w_t] = []\n",
    "    oo_times[w_t] = []\n",
    "    dd_times[w_t] = []\n",
    "for req, matches in results_wgm:\n",
    "#     reqtemp = get_total_distance_50wp(req)\n",
    "#     req_kms.append(reqtemp)\n",
    "    if(matches is not None):\n",
    "        \n",
    "        for w_t, matchdf in matches: #matches of the form tuple(w_t,top_5_matches)\n",
    "            match = matchdf.iloc[0]\n",
    "#             match_count+=1\n",
    "#             req_with_match_kms.append(reqtemp)\n",
    "            match_kms[w_t].append(get_total_distance_50wp(match))\n",
    "            oo_kms[w_t].append(np.sqrt((match[1] - req[1]) ** 2 + (match[51] - req[51]) ** 2 ))\n",
    "            dd_kms[w_t].append(np.sqrt((match[50] - req[50]) ** 2 + (match[100] - req[100]) ** 2 ))\n",
    "            oo_times[w_t].append(match[101] - req[101])\n",
    "            dd_times[w_t].append(req[150] - match[150])"
   ]
  },
  {
   "cell_type": "code",
   "execution_count": 64,
   "metadata": {},
   "outputs": [],
   "source": [
    "results_per_wt_df = pd.DataFrame(columns=[\"oo_kms\",\"dd_kms\",\"oo_times\",\"dd_times\",\"match_kms\"])"
   ]
  },
  {
   "cell_type": "code",
   "execution_count": 75,
   "metadata": {},
   "outputs": [],
   "source": [
    "temp_list_results = []"
   ]
  },
  {
   "cell_type": "code",
   "execution_count": 76,
   "metadata": {},
   "outputs": [],
   "source": [
    "for ookms,ddkms,oot,ddt,mkms in zip(oo_kms.values(),dd_kms.values(),oo_times.values(),dd_times.values(),match_kms.values()):\n",
    "    temp_list_results.append([np.sum(ookms)/1000,np.sum(ddkms)/1000,np.sum(oot),np.sum(ddt),np.sum(mkms)/1000])"
   ]
  },
  {
   "cell_type": "code",
   "execution_count": 77,
   "metadata": {},
   "outputs": [],
   "source": [
    "results_per_wt_df = pd.DataFrame(temp_list_results,columns=[\"oo_kms\",\"dd_kms\",\"oo_times\",\"dd_times\",\"match_kms\"])\n"
   ]
  },
  {
   "cell_type": "code",
   "execution_count": 79,
   "metadata": {},
   "outputs": [],
   "source": [
    "results_per_wt_df[\"w_t\"] = [i*0.1 for i in range(10)]"
   ]
  },
  {
   "cell_type": "code",
   "execution_count": 80,
   "metadata": {},
   "outputs": [
    {
     "data": {
      "text/html": [
       "<div>\n",
       "<style scoped>\n",
       "    .dataframe tbody tr th:only-of-type {\n",
       "        vertical-align: middle;\n",
       "    }\n",
       "\n",
       "    .dataframe tbody tr th {\n",
       "        vertical-align: top;\n",
       "    }\n",
       "\n",
       "    .dataframe thead th {\n",
       "        text-align: right;\n",
       "    }\n",
       "</style>\n",
       "<table border=\"1\" class=\"dataframe\">\n",
       "  <thead>\n",
       "    <tr style=\"text-align: right;\">\n",
       "      <th></th>\n",
       "      <th>oo_kms</th>\n",
       "      <th>dd_kms</th>\n",
       "      <th>oo_times</th>\n",
       "      <th>dd_times</th>\n",
       "      <th>match_kms</th>\n",
       "      <th>w_t</th>\n",
       "    </tr>\n",
       "  </thead>\n",
       "  <tbody>\n",
       "    <tr>\n",
       "      <th>0</th>\n",
       "      <td>1206.959928</td>\n",
       "      <td>1184.551782</td>\n",
       "      <td>78996</td>\n",
       "      <td>90093</td>\n",
       "      <td>5532.967620</td>\n",
       "      <td>0.0</td>\n",
       "    </tr>\n",
       "    <tr>\n",
       "      <th>1</th>\n",
       "      <td>1201.259125</td>\n",
       "      <td>1180.198344</td>\n",
       "      <td>78591</td>\n",
       "      <td>87883</td>\n",
       "      <td>5550.480357</td>\n",
       "      <td>0.1</td>\n",
       "    </tr>\n",
       "    <tr>\n",
       "      <th>2</th>\n",
       "      <td>1202.269248</td>\n",
       "      <td>1180.492377</td>\n",
       "      <td>77740</td>\n",
       "      <td>86684</td>\n",
       "      <td>5570.621864</td>\n",
       "      <td>0.2</td>\n",
       "    </tr>\n",
       "    <tr>\n",
       "      <th>3</th>\n",
       "      <td>1198.839469</td>\n",
       "      <td>1178.154748</td>\n",
       "      <td>76093</td>\n",
       "      <td>85858</td>\n",
       "      <td>5592.888780</td>\n",
       "      <td>0.3</td>\n",
       "    </tr>\n",
       "    <tr>\n",
       "      <th>4</th>\n",
       "      <td>1199.097200</td>\n",
       "      <td>1184.873883</td>\n",
       "      <td>75744</td>\n",
       "      <td>84252</td>\n",
       "      <td>5604.248719</td>\n",
       "      <td>0.4</td>\n",
       "    </tr>\n",
       "    <tr>\n",
       "      <th>5</th>\n",
       "      <td>1192.882723</td>\n",
       "      <td>1188.556900</td>\n",
       "      <td>74134</td>\n",
       "      <td>81653</td>\n",
       "      <td>5625.544322</td>\n",
       "      <td>0.5</td>\n",
       "    </tr>\n",
       "    <tr>\n",
       "      <th>6</th>\n",
       "      <td>1197.916285</td>\n",
       "      <td>1191.221013</td>\n",
       "      <td>72141</td>\n",
       "      <td>78845</td>\n",
       "      <td>5666.338730</td>\n",
       "      <td>0.6</td>\n",
       "    </tr>\n",
       "    <tr>\n",
       "      <th>7</th>\n",
       "      <td>1200.712887</td>\n",
       "      <td>1205.884339</td>\n",
       "      <td>69201</td>\n",
       "      <td>75584</td>\n",
       "      <td>5726.283775</td>\n",
       "      <td>0.7</td>\n",
       "    </tr>\n",
       "    <tr>\n",
       "      <th>8</th>\n",
       "      <td>1211.046162</td>\n",
       "      <td>1212.746456</td>\n",
       "      <td>66222</td>\n",
       "      <td>71923</td>\n",
       "      <td>5792.334243</td>\n",
       "      <td>0.8</td>\n",
       "    </tr>\n",
       "    <tr>\n",
       "      <th>9</th>\n",
       "      <td>1250.811061</td>\n",
       "      <td>1262.509060</td>\n",
       "      <td>60984</td>\n",
       "      <td>67247</td>\n",
       "      <td>5889.557164</td>\n",
       "      <td>0.9</td>\n",
       "    </tr>\n",
       "  </tbody>\n",
       "</table>\n",
       "</div>"
      ],
      "text/plain": [
       "        oo_kms       dd_kms  oo_times  dd_times    match_kms  w_t\n",
       "0  1206.959928  1184.551782     78996     90093  5532.967620  0.0\n",
       "1  1201.259125  1180.198344     78591     87883  5550.480357  0.1\n",
       "2  1202.269248  1180.492377     77740     86684  5570.621864  0.2\n",
       "3  1198.839469  1178.154748     76093     85858  5592.888780  0.3\n",
       "4  1199.097200  1184.873883     75744     84252  5604.248719  0.4\n",
       "5  1192.882723  1188.556900     74134     81653  5625.544322  0.5\n",
       "6  1197.916285  1191.221013     72141     78845  5666.338730  0.6\n",
       "7  1200.712887  1205.884339     69201     75584  5726.283775  0.7\n",
       "8  1211.046162  1212.746456     66222     71923  5792.334243  0.8\n",
       "9  1250.811061  1262.509060     60984     67247  5889.557164  0.9"
      ]
     },
     "execution_count": 80,
     "metadata": {},
     "output_type": "execute_result"
    }
   ],
   "source": [
    "results_per_wt_df"
   ]
  },
  {
   "cell_type": "code",
   "execution_count": 83,
   "metadata": {},
   "outputs": [
    {
     "data": {
      "text/plain": [
       "[<matplotlib.lines.Line2D at 0x7fecc2af7198>]"
      ]
     },
     "execution_count": 83,
     "metadata": {},
     "output_type": "execute_result"
    }
   ],
   "source": []
  },
  {
   "cell_type": "code",
   "execution_count": 110,
   "metadata": {},
   "outputs": [
    {
     "data": {
      "image/png": "[encoded data removed]",
      "text/plain": [
       "<matplotlib.figure.Figure at 0x7fecc1e6f4a8>"
      ]
     },
     "metadata": {},
     "output_type": "display_data"
    }
   ],
   "source": [
    "plt.figure(figsize=(10,6))\n",
    "plt.plot(results_per_wt_df[\"w_t\"],results_per_wt_df[\"oo_kms\"],label=\" pick-up \",marker='s')\n",
    "plt.plot(results_per_wt_df[\"w_t\"],results_per_wt_df[\"dd_kms\"],label=\" drop-off \",marker=\"o\")\n",
    "ax = plt.gca()\n",
    "ax.set_xlim((-.1,1))\n",
    "ax.set_xlabel(\"w_t\",fontsize=24)\n",
    "ax.set_ylabel(\"Total traveled distance (KM)\",fontsize=22)\n",
    "plt.grid()\n",
    "plt.legend(prop={'size': 20})\n",
    "plt.xticks(fontsize=20)\n",
    "plt.yticks(fontsize=20)\n",
    "plt.show()"
   ]
  },
  {
   "cell_type": "code",
   "execution_count": 111,
   "metadata": {},
   "outputs": [
    {
     "data": {
      "image/png": "[encoded data removed]",
      "text/plain": [
       "<matplotlib.figure.Figure at 0x7fecc1f81c50>"
      ]
     },
     "metadata": {},
     "output_type": "display_data"
    }
   ],
   "source": [
    "plt.figure(figsize=(10,6))\n",
    "plt.plot(results_per_wt_df[\"w_t\"],results_per_wt_df[\"oo_times\"],label=\" pick-up \",marker='s')\n",
    "plt.plot(results_per_wt_df[\"w_t\"],results_per_wt_df[\"dd_times\"],label=\" drop-off \",marker='o')\n",
    "ax = plt.gca()\n",
    "ax.set_xlim((-.1,1))\n",
    "ax.set_xlabel(\"w_t\",fontsize=24)\n",
    "ax.set_ylabel(\"Total travel duration (Sec)\",fontsize=22)\n",
    "plt.grid()\n",
    "plt.legend(prop={'size': 20})\n",
    "plt.xticks(fontsize=20)\n",
    "plt.yticks(fontsize=20)\n",
    "plt.show()"
   ]
  },
  {
   "cell_type": "code",
   "execution_count": 87,
   "metadata": {},
   "outputs": [
    {
     "data": {
      "image/png": "[encoded data removed]",
      "text/plain": [
       "<matplotlib.figure.Figure at 0x7fecc2921128>"
      ]
     },
     "metadata": {},
     "output_type": "display_data"
    }
   ],
   "source": [
    "plt.plot(results_per_wt_df[\"w_t\"],results_per_wt_df[\"match_kms\"])\n",
    "plt.show()"
   ]
  },
  {
   "cell_type": "markdown",
   "metadata": {},
   "source": [
    "### MATCHING 50 WAYPOINTS WITH APPROX FRECHET\n",
    "----"
   ]
  },
  {
   "cell_type": "code",
   "execution_count": 409,
   "metadata": {},
   "outputs": [],
   "source": [
    "# Euclidean distance.\n",
    "def euc_dist(pt1,pt2):\n",
    "    return (np.sqrt( (pt1[0] - pt2[0]) ** 2 + (pt1[1] - pt2[1])**2 ))\n",
    "\n",
    "def _c(ca,i,j,P,Q):\n",
    "    if ca[i,j] > -1:\n",
    "        return ca[i,j]\n",
    "    elif i == 0 and j == 0:\n",
    "        ca[i,j] = euc_dist(P[0],Q[0])\n",
    "    elif i > 0 and j == 0:\n",
    "        ca[i,j] = max(_c(ca,i-1,0,P,Q),euc_dist(P[i],Q[0]))\n",
    "    elif i == 0 and j > 0:\n",
    "        ca[i,j] = max(_c(ca,0,j-1,P,Q),euc_dist(P[0],Q[j]))\n",
    "    elif i > 0 and j > 0:\n",
    "        ca[i,j] = max(min(_c(ca,i-1,j,P,Q),_c(ca,i-1,j-1,P,Q),_c(ca,i,j-1,P,Q)),euc_dist(P[i],Q[j]))\n",
    "    else:\n",
    "        ca[i,j] = float(\"inf\")\n",
    "    return ca[i,j]\n",
    "\n",
    "\"\"\" Computes the discrete frechet distance between two polygonal lines\n",
    "Algorithm: http://www.kr.tuwien.ac.at/staff/eiter/et-archive/cdtr9464.pdf\n",
    "P and Q are arrays of 2-element arrays (points)\n",
    "\"\"\"\n",
    "def frechetDist(P,Q):\n",
    "    ca = np.ones((len(P),len(Q)))\n",
    "    ca = np.multiply(ca,-1)\n",
    "    return _c(ca,len(P)-1,len(Q)-1,P,Q)"
   ]
  },
  {
   "cell_type": "code",
   "execution_count": 411,
   "metadata": {},
   "outputs": [],
   "source": [
    "def get_trip_distance_FRECHET(t1,t2):\n",
    "    X = [(t1[i],t1[i+50]) for i in range(1,51)]\n",
    "    Y = [(t2[i],t2[i+50]) for i in range(1,51)]\n",
    "    \n",
    "    return(frechetDist(X,Y))"
   ]
  },
  {
   "cell_type": "code",
   "execution_count": null,
   "metadata": {},
   "outputs": [],
   "source": []
  },
  {
   "cell_type": "code",
   "execution_count": 416,
   "metadata": {},
   "outputs": [],
   "source": [
    "results_frechet = []\n",
    "ongoing_counts_frechet = dict()"
   ]
  },
  {
   "cell_type": "code",
   "execution_count": 417,
   "metadata": {},
   "outputs": [
    {
     "name": "stdout",
     "output_type": "stream",
     "text": [
      "0\n",
      ".........100\n",
      ".........200\n",
      ".........300\n",
      ".........400\n",
      ".........500\n",
      ".........600\n",
      ".........700\n",
      ".........800\n",
      ".........900\n",
      ".........1000\n",
      ".........1100\n",
      ".........1200\n",
      ".........1300\n",
      ".........1400\n",
      ".........1500\n",
      ".........1600\n",
      ".........1700\n",
      ".........1800\n",
      "........."
     ]
    }
   ],
   "source": [
    "i = 0\n",
    "for req in sample8_50wp_150feat.itertuples(index=False):\n",
    "    if i%100 == 0:\n",
    "        print(i)\n",
    "    elif(i%10 == 0):\n",
    "        print('.',end='')\n",
    "    \n",
    "    i+=1\n",
    "    \n",
    "    potential_matches = ongoing8_50wp_150feat\n",
    "\n",
    "    OO_time_mask = (req[101] <= potential_matches[\"0_t\"]) & ((potential_matches[\"0_t\"] - req[101])<=t_th) \n",
    "    potential_matches = potential_matches[OO_time_mask]\n",
    "\n",
    "    DD_time_mask = ((req[150] >= potential_matches[\"49_t\"]) & (( req[150] - potential_matches[\"49_t\"])<=t_th))\n",
    "\n",
    "    potential_matches = potential_matches[DD_time_mask]\n",
    "\n",
    "    OO_distance = np.sqrt( (potential_matches[\"0_x\"] - req[1]) ** 2 + (potential_matches[\"0_y\"] - req[51])**2 )\n",
    "\n",
    "    potential_matches = potential_matches[(OO_distance <= d_th)] \n",
    "\n",
    "    DD_distance = np.sqrt( (potential_matches[\"49_x\"] - req[50]) ** 2 + (potential_matches[\"49_y\"] - req[100])**2 )\n",
    "\n",
    "    potential_matches = potential_matches[(DD_distance <= d_th)]\n",
    "\n",
    "\n",
    "    if potential_matches.empty:\n",
    "        results_frechet.append((req,None))\n",
    "    else:\n",
    "        potential_matches[\"similarity\"] = potential_matches.apply(lambda t : get_trip_distance_FRECHET(req,t),axis=1)\n",
    "\n",
    "        top_matches = potential_matches.sort_values(by=\"similarity\")### WE HAVE USED FRECHET DISTANCE NOT SIMILARITY SO SORT ASCENDING CHOOSE LOWEST \n",
    "                \n",
    "        results_frechet.append( (req, top_matches[:5]) )\n",
    "        \n",
    "        if top_matches.index.values[0] in ongoing_counts_frechet:\n",
    "            ongoing_counts_frechet[top_matches.index.values[0]]+=1\n",
    "        else:\n",
    "            ongoing_counts_frechet[top_matches.index.values[0]]=1\n",
    "\n",
    "\n"
   ]
  },
  {
   "cell_type": "code",
   "execution_count": null,
   "metadata": {},
   "outputs": [],
   "source": []
  },
  {
   "cell_type": "code",
   "execution_count": 418,
   "metadata": {},
   "outputs": [],
   "source": [
    "match_count = 0\n",
    "match_kms = []\n",
    "req_with_match_kms = []\n",
    "req_kms = []\n",
    "oo_kms = []\n",
    "dd_kms = []\n",
    "oo_times = []\n",
    "dd_times= []\n",
    "for req, matches in results_frechet:\n",
    "    reqtemp = get_total_distance_50wp(req)\n",
    "    req_kms.append(reqtemp)\n",
    "    if(matches is not None):\n",
    "        match = matches.iloc[0]\n",
    "        match_count+=1\n",
    "        req_with_match_kms.append(reqtemp)\n",
    "        match_kms.append(get_total_distance_50wp(match))\n",
    "        oo_kms.append(np.sqrt((match[1] - req[1]) ** 2 + (match[51] - req[51]) ** 2 ))\n",
    "        dd_kms.append(np.sqrt((match[50] - req[50]) ** 2 + (match[100] - req[100]) ** 2 ))\n",
    "        oo_times.append(match[101] - req[101])\n",
    "        dd_times.append(req[150] - match[150])\n",
    "        \n",
    "    "
   ]
  },
  {
   "cell_type": "code",
   "execution_count": 419,
   "metadata": {},
   "outputs": [
    {
     "name": "stdout",
     "output_type": "stream",
     "text": [
      "matching with time_threshold of 900 and distance_threshold of 1800\n",
      "number of req with at least a match: 1357\n",
      "match travels (km):  5671.63144622\n",
      "req travels (km):  11706.3341707\n",
      "req travels when they have at least one match (km): 7244.17959474\n",
      "match/match+req ratio:  0.326369125779\n",
      "match/match+req with at least 1 match ratio:  0.43912313584\n",
      "origin-origin distance (km):  1104.90798796\n",
      "dest-dest distance (km):  1144.94785257\n",
      "origin-origin times (sec):  74544\n",
      "dest-dest times (sec):  89570\n"
     ]
    }
   ],
   "source": [
    "print(\"matching with time_threshold of {} and distance_threshold of {}\".format(t_th,d_th) )\n",
    "\n",
    "print(\"number of req with at least a match:\",match_count)\n",
    "\n",
    "print(\"match travels (km): \",np.sum(match_kms)/1000)\n",
    "\n",
    "print(\"req travels (km): \",np.sum(req_kms)/1000)\n",
    "\n",
    "print(\"req travels when they have at least one match (km):\",np.sum(req_with_match_kms)/1000)\n",
    "\n",
    "print(\"match/match+req ratio: \",np.sum(match_kms)/(np.sum(match_kms)+np.sum(req_kms)))\n",
    "\n",
    "print(\"match/match+req with at least 1 match ratio: \",np.sum(match_kms)/(np.sum(match_kms)+np.sum(req_with_match_kms)))\n",
    "\n",
    "print(\"origin-origin distance (km): \",np.sum(oo_kms)/1000)\n",
    "\n",
    "print(\"dest-dest distance (km): \",np.sum(dd_kms)/1000)\n",
    "\n",
    "print(\"origin-origin times (sec): \",np.sum(oo_times))\n",
    "\n",
    "print(\"dest-dest times (sec): \",np.sum(dd_times))"
   ]
  },
  {
   "cell_type": "code",
   "execution_count": null,
   "metadata": {},
   "outputs": [],
   "source": []
  },
  {
   "cell_type": "markdown",
   "metadata": {},
   "source": [
    "### MATCHING WITH DTW 50 waypoints\n",
    "----"
   ]
  },
  {
   "cell_type": "code",
   "execution_count": 429,
   "metadata": {},
   "outputs": [],
   "source": [
    "def pointwise_distance(p1,p2):\n",
    "    return (np.sqrt((p1[0] - p2[0]) ** 2 + (p1[1] - p2[1]) ** 2 ))"
   ]
  },
  {
   "cell_type": "code",
   "execution_count": 460,
   "metadata": {},
   "outputs": [],
   "source": [
    "def dtw(X , Y):\n",
    "    # find the length of the strings\n",
    "    m = 50\n",
    "    n = 50\n",
    "    \n",
    "    # declaring the array for storing the dp values\n",
    "    L = np.full((n+1,m+1),np.inf)\n",
    "    L[0,0] = 0\n",
    "    \n",
    "    \"\"\"Following steps build L[m+1][n+1] in bottom up fashion\n",
    "    Note: L[i][j] contains length of LCS of X[0..i-1]\n",
    "    and Y[0..j-1]\"\"\"\n",
    "    for i in range(1,m+1):\n",
    "        for j in range(1,n+1):\n",
    "            L[i,j] = pointwise_distance(X[i-1],Y[j-1])*(np.absolute(X[i-1][2]-Y[j-1][2]))/3600 + min(L[i-1,j],L[i-1,j-1],L[i,j-1])\n",
    "\n",
    "    # L[m][n] contains the length of LCS of X[0..n-1] & Y[0..m-1]\n",
    "    return L[n,m]"
   ]
  },
  {
   "cell_type": "code",
   "execution_count": 461,
   "metadata": {},
   "outputs": [],
   "source": [
    "def get_trip_distance_DTW(t1,t2):\n",
    "    X = [(t1[i],t1[i+50],t1[i+100]) for i in range(1,51)]\n",
    "    Y = [(t2[i],t2[i+50],t2[i+100]) for i in range(1,51)]\n",
    "    l = dtw(X,Y)\n",
    "\n",
    "    return(l)"
   ]
  },
  {
   "cell_type": "code",
   "execution_count": null,
   "metadata": {},
   "outputs": [],
   "source": []
  },
  {
   "cell_type": "code",
   "execution_count": 462,
   "metadata": {},
   "outputs": [],
   "source": [
    "results_dtw = []\n",
    "ongoing_counts_dtw = dict()"
   ]
  },
  {
   "cell_type": "code",
   "execution_count": 463,
   "metadata": {},
   "outputs": [
    {
     "name": "stdout",
     "output_type": "stream",
     "text": [
      "0\n",
      ".........100\n",
      ".........200\n",
      ".........300\n",
      ".........400\n",
      ".........500\n",
      ".........600\n",
      ".........700\n",
      ".........800\n",
      ".........900\n",
      ".........1000\n",
      ".........1100\n",
      ".........1200\n",
      ".........1300\n",
      ".........1400\n",
      ".........1500\n",
      ".........1600\n",
      ".........1700\n",
      ".........1800\n",
      "........."
     ]
    }
   ],
   "source": [
    "i = 0\n",
    "for req in sample8_50wp_150feat.itertuples(index=False):\n",
    "    if i%100 == 0:\n",
    "        print(i)\n",
    "    elif(i%10 == 0):\n",
    "        print('.',end='')\n",
    "    \n",
    "    i+=1\n",
    "    \n",
    "    potential_matches = ongoing8_50wp_150feat\n",
    "\n",
    "    OO_time_mask = (req[101] <= potential_matches[\"0_t\"]) & ((potential_matches[\"0_t\"] - req[101])<=t_th) \n",
    "    potential_matches = potential_matches[OO_time_mask]\n",
    "\n",
    "    DD_time_mask = ((req[150] >= potential_matches[\"49_t\"]) & (( req[150] - potential_matches[\"49_t\"])<=t_th))\n",
    "\n",
    "    potential_matches = potential_matches[DD_time_mask]\n",
    "\n",
    "    OO_distance = np.sqrt( (potential_matches[\"0_x\"] - req[1]) ** 2 + (potential_matches[\"0_y\"] - req[51])**2 )\n",
    "\n",
    "    potential_matches = potential_matches[(OO_distance <= d_th)] \n",
    "\n",
    "    DD_distance = np.sqrt( (potential_matches[\"49_x\"] - req[50]) ** 2 + (potential_matches[\"49_y\"] - req[100])**2 )\n",
    "\n",
    "    potential_matches = potential_matches[(DD_distance <= d_th)]\n",
    "\n",
    "\n",
    "    if potential_matches.empty:\n",
    "        results_dtw.append((req,None))\n",
    "    else:\n",
    "        potential_matches[\"similarity\"] = potential_matches.apply(lambda t : get_trip_distance_DTW(req,t),axis=1)\n",
    "\n",
    "        top_matches = potential_matches.sort_values(by=\"similarity\")### WE HAVE USED DISTANCE NOT SIMILARITY SO SORT ASCENDING CHOOSE LOWEST \n",
    "                \n",
    "        results_dtw.append( (req, top_matches[:5]) )\n",
    "        \n",
    "        if top_matches.index.values[0] in ongoing_counts_dtw:\n",
    "            ongoing_counts_dtw[top_matches.index.values[0]]+=1\n",
    "        else:\n",
    "            ongoing_counts_dtw[top_matches.index.values[0]]=1\n",
    "\n",
    "\n"
   ]
  },
  {
   "cell_type": "code",
   "execution_count": null,
   "metadata": {},
   "outputs": [],
   "source": []
  },
  {
   "cell_type": "code",
   "execution_count": 464,
   "metadata": {},
   "outputs": [],
   "source": [
    "match_count = 0\n",
    "match_kms = []\n",
    "req_with_match_kms = []\n",
    "req_kms = []\n",
    "oo_kms = []\n",
    "dd_kms = []\n",
    "oo_times = []\n",
    "dd_times= []\n",
    "for req, matches in results_dtw:\n",
    "    reqtemp = get_total_distance_50wp(req)\n",
    "    req_kms.append(reqtemp)\n",
    "    if(matches is not None):\n",
    "        match = matches.iloc[0]\n",
    "        match_count+=1\n",
    "        req_with_match_kms.append(reqtemp)\n",
    "        match_kms.append(get_total_distance_50wp(match))\n",
    "        oo_kms.append(np.sqrt((match[1] - req[1]) ** 2 + (match[51] - req[51]) ** 2 ))\n",
    "        dd_kms.append(np.sqrt((match[50] - req[50]) ** 2 + (match[100] - req[100]) ** 2 ))\n",
    "        oo_times.append(match[101] - req[101])\n",
    "        dd_times.append(req[150] - match[150])\n",
    "        \n",
    "    "
   ]
  },
  {
   "cell_type": "code",
   "execution_count": 465,
   "metadata": {},
   "outputs": [
    {
     "name": "stdout",
     "output_type": "stream",
     "text": [
      "matching with time_threshold of 900 and distance_threshold of 1800\n",
      "number of req with at least a match: 1357\n",
      "match travels (km):  6038.37265176\n",
      "req travels (km):  11706.3341707\n",
      "req travels when they have at least one match (km): 7244.17959474\n",
      "match/match+req ratio:  0.340291485915\n",
      "match/match+req with at least 1 match ratio:  0.454609365707\n",
      "origin-origin distance (km):  1202.73329548\n",
      "dest-dest distance (km):  1222.0009422\n",
      "origin-origin times (sec):  52866\n",
      "dest-dest times (sec):  57546\n"
     ]
    }
   ],
   "source": [
    "print(\"matching with time_threshold of {} and distance_threshold of {}\".format(t_th,d_th) )\n",
    "\n",
    "print(\"number of req with at least a match:\",match_count)\n",
    "\n",
    "print(\"match travels (km): \",np.sum(match_kms)/1000)\n",
    "\n",
    "print(\"req travels (km): \",np.sum(req_kms)/1000)\n",
    "\n",
    "print(\"req travels when they have at least one match (km):\",np.sum(req_with_match_kms)/1000)\n",
    "\n",
    "print(\"match/match+req ratio: \",np.sum(match_kms)/(np.sum(match_kms)+np.sum(req_kms)))\n",
    "\n",
    "print(\"match/match+req with at least 1 match ratio: \",np.sum(match_kms)/(np.sum(match_kms)+np.sum(req_with_match_kms)))\n",
    "\n",
    "print(\"origin-origin distance (km): \",np.sum(oo_kms)/1000)\n",
    "\n",
    "print(\"dest-dest distance (km): \",np.sum(dd_kms)/1000)\n",
    "\n",
    "print(\"origin-origin times (sec): \",np.sum(oo_times))\n",
    "\n",
    "print(\"dest-dest times (sec): \",np.sum(dd_times))"
   ]
  },
  {
   "cell_type": "code",
   "execution_count": null,
   "metadata": {},
   "outputs": [],
   "source": []
  },
  {
   "cell_type": "code",
   "execution_count": null,
   "metadata": {},
   "outputs": [],
   "source": []
  },
  {
   "cell_type": "code",
   "execution_count": null,
   "metadata": {},
   "outputs": [],
   "source": []
  },
  {
   "cell_type": "code",
   "execution_count": null,
   "metadata": {},
   "outputs": [],
   "source": []
  },
  {
   "cell_type": "code",
   "execution_count": null,
   "metadata": {},
   "outputs": [],
   "source": []
  },
  {
   "cell_type": "code",
   "execution_count": null,
   "metadata": {},
   "outputs": [],
   "source": []
  },
  {
   "cell_type": "code",
   "execution_count": null,
   "metadata": {},
   "outputs": [],
   "source": []
  },
  {
   "cell_type": "code",
   "execution_count": null,
   "metadata": {},
   "outputs": [],
   "source": []
  },
  {
   "cell_type": "code",
   "execution_count": null,
   "metadata": {},
   "outputs": [],
   "source": []
  },
  {
   "cell_type": "code",
   "execution_count": null,
   "metadata": {},
   "outputs": [],
   "source": []
  },
  {
   "cell_type": "code",
   "execution_count": null,
   "metadata": {},
   "outputs": [],
   "source": []
  },
  {
   "cell_type": "code",
   "execution_count": null,
   "metadata": {},
   "outputs": [],
   "source": []
  },
  {
   "cell_type": "code",
   "execution_count": null,
   "metadata": {},
   "outputs": [],
   "source": []
  },
  {
   "cell_type": "code",
   "execution_count": null,
   "metadata": {},
   "outputs": [],
   "source": []
  },
  {
   "cell_type": "code",
   "execution_count": null,
   "metadata": {},
   "outputs": [],
   "source": []
  },
  {
   "cell_type": "code",
   "execution_count": null,
   "metadata": {},
   "outputs": [],
   "source": []
  },
  {
   "cell_type": "code",
   "execution_count": null,
   "metadata": {},
   "outputs": [],
   "source": []
  },
  {
   "cell_type": "code",
   "execution_count": null,
   "metadata": {},
   "outputs": [],
   "source": []
  },
  {
   "cell_type": "code",
   "execution_count": null,
   "metadata": {},
   "outputs": [],
   "source": []
  },
  {
   "cell_type": "code",
   "execution_count": null,
   "metadata": {},
   "outputs": [],
   "source": []
  },
  {
   "cell_type": "markdown",
   "metadata": {},
   "source": [
    "######\n",
    "--------\n",
    "#### MATCHING WITH ENDPOINTS"
   ]
  },
  {
   "cell_type": "code",
   "execution_count": null,
   "metadata": {},
   "outputs": [],
   "source": []
  },
  {
   "cell_type": "code",
   "execution_count": 519,
   "metadata": {},
   "outputs": [],
   "source": [
    "results = []\n",
    "ongoing_counts = dict()"
   ]
  },
  {
   "cell_type": "code",
   "execution_count": 520,
   "metadata": {},
   "outputs": [
    {
     "data": {
      "application/vnd.jupyter.widget-view+json": {
       "model_id": "77e650d7014f451c88aba7e71a93794f",
       "version_major": 2,
       "version_minor": 0
      },
      "text/plain": [
       "A Jupyter Widget"
      ]
     },
     "metadata": {},
     "output_type": "display_data"
    },
    {
     "name": "stdout",
     "output_type": "stream",
     "text": [
      "\n"
     ]
    }
   ],
   "source": [
    "for req in tqdm_notebook(reqDF.itertuples(index=False),total=2000):\n",
    "    \n",
    "    potential_matches = ongoingDF\n",
    "\n",
    "    OO_time_mask = (req.time_begin <= potential_matches.time_begin) & ((potential_matches.time_begin - req.time_begin)<=t_th) \n",
    "\n",
    "    potential_matches = potential_matches[OO_time_mask]\n",
    "\n",
    "    DD_time_mask = ((req.time_end >= potential_matches.time_end) & (( req.time_end - potential_matches.time_end)<=t_th))\n",
    "\n",
    "    potential_matches = potential_matches[DD_time_mask]\n",
    "\n",
    "\n",
    "    OO_distance = np.sqrt( (potential_matches.x_begin - req.x_begin) ** 2 + (potential_matches.y_begin - req.y_begin)**2 )\n",
    "\n",
    "    potential_matches = potential_matches[(OO_distance <= d_th)] \n",
    "\n",
    "    DD_distance = np.sqrt( (potential_matches.x_end - req.x_end) ** 2 + (potential_matches.y_end - req.y_end)**2 )\n",
    "\n",
    "    potential_matches = potential_matches[(DD_distance <= d_th)]\n",
    "\n",
    "\n",
    "    if potential_matches.empty:\n",
    "        results.append((req,None))\n",
    "    else:\n",
    "        potential_matches[\"similarity\"] = potential_matches.apply(lambda t : get_trip_similarity_from_tuple_WALK2_wgm(req,t),axis=1)\n",
    "\n",
    "        top_matches = potential_matches.sort_values(by=\"similarity\",ascending=False)\n",
    "                \n",
    "        results.append( (req, top_matches[:5]) )\n",
    "        \n",
    "        if top_matches.index.values[0] in ongoing_counts:\n",
    "            ongoing_counts[top_matches.index.values[0]]+=1\n",
    "        else:\n",
    "            ongoing_counts[top_matches.index.values[0]]=1\n",
    "\n",
    "\n"
   ]
  },
  {
   "cell_type": "code",
   "execution_count": 521,
   "metadata": {
    "collapsed": true
   },
   "outputs": [],
   "source": [
    "from collections import Counter"
   ]
  },
  {
   "cell_type": "code",
   "execution_count": 522,
   "metadata": {
    "collapsed": true
   },
   "outputs": [],
   "source": [
    " c,v = zip(*Counter(ongoing_counts.values()).items())"
   ]
  },
  {
   "cell_type": "code",
   "execution_count": 523,
   "metadata": {},
   "outputs": [
    {
     "data": {
      "text/plain": [
       "<Container object of 4 artists>"
      ]
     },
     "execution_count": 523,
     "metadata": {},
     "output_type": "execute_result"
    }
   ],
   "source": [
    "plt.bar(c,v,width=0.5)"
   ]
  },
  {
   "cell_type": "code",
   "execution_count": 524,
   "metadata": {},
   "outputs": [
    {
     "data": {
      "image/png": "[encoded data removed]",
      "text/plain": [
       "<matplotlib.figure.Figure at 0x7f0c75075b00>"
      ]
     },
     "metadata": {},
     "output_type": "display_data"
    }
   ],
   "source": [
    "plt.show()"
   ]
  },
  {
   "cell_type": "code",
   "execution_count": 525,
   "metadata": {},
   "outputs": [
    {
     "data": {
      "text/plain": [
       "[(Pandas(time_begin=29947, x_begin=11801.55, y_begin=20658.49, time_end=30304, x_end=10247.316951012675, y_end=18694.25012093886),\n",
       "           time_begin   x_begin   y_begin  time_end        x_end         y_end  \\\n",
       "  trip_id                                                                        \n",
       "  314119        30064  12765.96  20747.31     30228  11324.73296  20082.597459   \n",
       "  \n",
       "           similarity  \n",
       "  trip_id              \n",
       "  314119     0.687052  ),\n",
       " (Pandas(time_begin=31633, x_begin=17177.04, y_begin=3300.27, time_end=32351, x_end=23973.969132473867, y_end=3117.020023722951),\n",
       "  None)]"
      ]
     },
     "execution_count": 525,
     "metadata": {},
     "output_type": "execute_result"
    }
   ],
   "source": [
    "results[:2]"
   ]
  },
  {
   "cell_type": "markdown",
   "metadata": {},
   "source": [
    "Most of matched ongoing rides have 1 match to them!"
   ]
  },
  {
   "cell_type": "markdown",
   "metadata": {},
   "source": [
    "-----"
   ]
  },
  {
   "cell_type": "markdown",
   "metadata": {},
   "source": [
    "#### Saved miles based on Euclidean distance.\n"
   ]
  },
  {
   "cell_type": "code",
   "execution_count": 526,
   "metadata": {},
   "outputs": [
    {
     "data": {
      "application/vnd.jupyter.widget-view+json": {
       "model_id": "fd263fd8dda346d481f64e44ad1c295b",
       "version_major": 2,
       "version_minor": 0
      },
      "text/plain": [
       "A Jupyter Widget"
      ]
     },
     "metadata": {},
     "output_type": "display_data"
    },
    {
     "name": "stdout",
     "output_type": "stream",
     "text": [
      "\n"
     ]
    }
   ],
   "source": [
    "match_count = 0\n",
    "match_kms = []\n",
    "req_with_match_kms = []\n",
    "req_kms = []\n",
    "oo_kms = []\n",
    "dd_kms = []\n",
    "oo_times = []\n",
    "dd_times= []\n",
    "for req, matches in tqdm_notebook(results):\n",
    "    req_kms.append(np.sqrt((req.x_begin - req.x_end) ** 2 + (req.y_begin - req.y_end) ** 2 ))\n",
    "    if(matches is not None):\n",
    "        match = matches.iloc[0]\n",
    "        match_count+=1\n",
    "        req_with_match_kms.append(np.sqrt((req.x_begin - req.x_end) ** 2 + (req.y_begin - req.y_end) ** 2 ))\n",
    "        match_kms.append(np.sqrt((match.x_begin - match.x_end) ** 2 + (match.y_begin - match.y_end) ** 2 ))\n",
    "        oo_kms.append(np.sqrt((match.x_begin - req.x_begin) ** 2 + (match.y_begin - req.y_begin) ** 2 ))\n",
    "        dd_kms.append(np.sqrt((match.x_end - req.x_end) ** 2 + (match.y_end - req.y_end) ** 2 ))\n",
    "        oo_times.append(match.time_begin - req.time_begin)\n",
    "        dd_times.append(req.time_end - match.time_end)\n",
    "        \n",
    "    "
   ]
  },
  {
   "cell_type": "code",
   "execution_count": 527,
   "metadata": {},
   "outputs": [
    {
     "name": "stdout",
     "output_type": "stream",
     "text": [
      "matching with time_threshold of 900 and distance_threshold of 1800\n",
      "number of req with at least a match: 1496\n",
      "match travels (km):  4356.36832284\n",
      "req travels (km):  8633.83105683\n",
      "req travels when they have at least one match (km): 5235.31938089\n",
      "match/match+req ratio:  0.335358080004\n",
      "match/match+req with at least 1 match ratio:  0.454181626571\n",
      "origin-origin distance (km):  1017.66554166\n",
      "dest-dest distance (km):  1045.91220045\n",
      "origin-origin times (sec):  70185.0\n",
      "dest-dest times (sec):  88873.0\n"
     ]
    }
   ],
   "source": [
    "print(\"matching with time_threshold of {} and distance_threshold of {}\".format(t_th,d_th) )\n",
    "\n",
    "print(\"number of req with at least a match:\",match_count)\n",
    "\n",
    "print(\"match travels (km): \",np.sum(match_kms)/1000)\n",
    "\n",
    "print(\"req travels (km): \",np.sum(req_kms)/1000)\n",
    "\n",
    "print(\"req travels when they have at least one match (km):\",np.sum(req_with_match_kms)/1000)\n",
    "\n",
    "print(\"match/match+req ratio: \",np.sum(match_kms)/(np.sum(match_kms)+np.sum(req_kms)))\n",
    "\n",
    "print(\"match/match+req with at least 1 match ratio: \",np.sum(match_kms)/(np.sum(match_kms)+np.sum(req_with_match_kms)))\n",
    "\n",
    "print(\"origin-origin distance (km): \",np.sum(oo_kms)/1000)\n",
    "\n",
    "print(\"dest-dest distance (km): \",np.sum(dd_kms)/1000)\n",
    "\n",
    "print(\"origin-origin times (sec): \",np.sum(oo_times))\n",
    "\n",
    "print(\"dest-dest times (sec): \",np.sum(dd_times))"
   ]
  },
  {
   "cell_type": "code",
   "execution_count": 528,
   "metadata": {},
   "outputs": [
    {
     "data": {
      "image/png": "[encoded data removed]",
      "text/plain": [
       "<matplotlib.figure.Figure at 0x7f0c841d5ac8>"
      ]
     },
     "metadata": {},
     "output_type": "display_data"
    }
   ],
   "source": [
    "plt.figure(figsize=(10,6))\n",
    "plt.hist([np.array(oo_kms)/1000,np.array(dd_kms)/1000],alpha=0.7,bins=[i*0.1 for i in range(30)],label=[\"distance to pickup\",\"distance from dropoff\"])\n",
    "ax = plt.gca()\n",
    "ax.set_xlim((-.2,2))\n",
    "ax.set_xlabel(\"distance (km)\",fontsize=20)\n",
    "ax.set_ylabel(\"frequency\",fontsize=20)\n",
    "plt.grid()\n",
    "plt.legend(prop={'size': 18})\n",
    "plt.show()"
   ]
  },
  {
   "cell_type": "code",
   "execution_count": 529,
   "metadata": {},
   "outputs": [
    {
     "data": {
      "image/png": "[encoded data removed]",
      "text/plain": [
       "<matplotlib.figure.Figure at 0x7f0c84393358>"
      ]
     },
     "metadata": {},
     "output_type": "display_data"
    }
   ],
   "source": [
    "plt.figure(figsize=(10,6))\n",
    "# plt.gca().set_xlim((-1.5,20))\n",
    "ax = sns.distplot(np.array(oo_kms)/1000,bins=22,hist=False,kde_kws={'cumulative':True},label=\"distance to pickup\")\n",
    "sns.distplot(np.array(dd_kms)/1000,bins=22,hist=False,kde_kws={'cumulative':True}, label=\"distance to dropoff\")\n",
    "ax.set_xlabel(\"distance (km)\",fontsize=20)\n",
    "ax.set_ylabel(\"cumulative density\",fontsize=20)\n",
    "plt.grid()\n",
    "plt.legend(prop = {'size' : 18})\n",
    "plt.show()"
   ]
  },
  {
   "cell_type": "code",
   "execution_count": 530,
   "metadata": {},
   "outputs": [
    {
     "data": {
      "image/png": "[encoded data removed]",
      "text/plain": [
       "<matplotlib.figure.Figure at 0x7f0c84453ac8>"
      ]
     },
     "metadata": {},
     "output_type": "display_data"
    }
   ],
   "source": [
    "plt.figure(figsize=(10,6))\n",
    "plt.hist([np.array(oo_times),np.array(dd_times)],alpha=0.7,bins=[i*60 for i in range(10)],label=[\"time to pickup\",\"time from dropoff\"],align='mid',rwidth=0.97)\n",
    "ax = plt.gca()\n",
    "ax.set_xlim((-10,900))\n",
    "plt.xticks(np.arange(0, 900, 60))\n",
    "ax.set_xlabel(\"time (s)\",fontsize=20)\n",
    "ax.set_ylabel(\"frequency\",fontsize=20)\n",
    "plt.grid()\n",
    "plt.legend(prop={'size': 18})\n",
    "plt.show()"
   ]
  },
  {
   "cell_type": "code",
   "execution_count": 531,
   "metadata": {},
   "outputs": [
    {
     "data": {
      "image/png": "[encoded data removed]",
      "text/plain": [
       "<matplotlib.figure.Figure at 0x7f0c84439518>"
      ]
     },
     "metadata": {},
     "output_type": "display_data"
    }
   ],
   "source": [
    "plt.figure(figsize=(10,6))\n",
    "ax = sns.distplot(np.array(oo_times),hist=False,kde_kws={'cumulative':True},label=\"time to pickup\")\n",
    "sns.distplot(np.array(dd_times),hist=False,kde_kws={'cumulative':True}, label=\"time to dropoff\")\n",
    "ax.set_xlabel(\"time (s)\",fontsize=20)\n",
    "ax.set_ylabel(\"cumulative density\",fontsize=20)\n",
    "ax.set_xlim((-100,800))\n",
    "plt.grid()\n",
    "plt.legend(prop = {'size' : 18})\n",
    "plt.show()"
   ]
  },
  {
   "cell_type": "markdown",
   "metadata": {},
   "source": [
    "----\n"
   ]
  },
  {
   "cell_type": "code",
   "execution_count": null,
   "metadata": {},
   "outputs": [],
   "source": []
  },
  {
   "cell_type": "code",
   "execution_count": 573,
   "metadata": {
    "scrolled": true
   },
   "outputs": [
    {
     "data": {
      "application/vnd.jupyter.widget-view+json": {
       "model_id": "cfb810ad638c401c94133a4e96163084",
       "version_major": 2,
       "version_minor": 0
      },
      "text/plain": [
       "A Jupyter Widget"
      ]
     },
     "metadata": {},
     "output_type": "display_data"
    },
    {
     "name": "stdout",
     "output_type": "stream",
     "text": [
      "\n"
     ]
    }
   ],
   "source": [
    "match_counts_per_threshold_cp = []\n",
    "t_th = 900\n",
    "distance_threshold = 660 #based on map info (see top of this notebook!)\n",
    "for i in tqdm_notebook(range(8)):\n",
    "    thresh = i/2 * distance_threshold\n",
    "    match_counts = []\n",
    "    for req in reqDF.itertuples():\n",
    "        potential_matches = ongoingDF\n",
    "        \n",
    "        OO_time_mask = ( (potential_matches.time_begin  <= req.time_begin) & (( req.time_begin - potential_matches.time_begin)<=t_th) )\n",
    "\n",
    "        potential_matches = potential_matches[OO_time_mask]\n",
    "\n",
    "        DD_time_mask = ( (req.time_end <= potential_matches.time_end) & (( potential_matches.time_end - req.time_end )<=t_th) )\n",
    "\n",
    "        potential_matches = potential_matches[DD_time_mask]\n",
    "        \n",
    "        \n",
    "        OO_distance = np.sqrt( (potential_matches.x_begin - req.x_begin) ** 2 + (potential_matches.y_begin - req.y_begin)**2 )\n",
    "        \n",
    "        potential_matches = potential_matches[(OO_distance <= thresh)] \n",
    "        \n",
    "        DD_distance = np.sqrt( (potential_matches.x_end - req.x_end) ** 2 + (potential_matches.y_end - req.y_end)**2 )\n",
    "\n",
    "        potential_matches = potential_matches[(DD_distance <= thresh)]\n",
    "\n",
    "        \n",
    "        \n",
    "        match_counts.append(len(potential_matches))\n",
    "    \n",
    "    match_counts_per_threshold_cp.append((i,thresh,match_counts))"
   ]
  },
  {
   "cell_type": "code",
   "execution_count": 574,
   "metadata": {
    "collapsed": true
   },
   "outputs": [
    {
     "data": {
      "image/png": "[encoded data removed]",
      "text/plain": [
       "<matplotlib.figure.Figure at 0x7f0c4a70ab00>"
      ]
     },
     "metadata": {},
     "output_type": "display_data"
    }
   ],
   "source": [
    "fig = plt.figure(figsize=(10,6))\n",
    "markers = itertools.cycle(('x', 'o', '*', '+','s','p','d', '.')) \n",
    "for l in L_list:\n",
    "    at_least_l_matches = [(i,j,len([t for t in k if t>=l])) for (i,j,k) in match_counts_per_threshold_cp]\n",
    "    idx,thresh,ncount = zip(*at_least_l_matches)\n",
    "    plt.plot(thresh,ncount,label=l,marker=next(markers),markevery=1)\n",
    "\n",
    "plt.gca().set_ylim((0,2000))\n",
    "plt.gca().set_xlabel(\"distance (m)\",size=20)\n",
    "plt.gca().set_ylabel(\"count of req with at least L matches\",size=18)\n",
    "plt.legend(loc=0,bbox_to_anchor=(1, 1.017),title=\"L-value\")\n",
    "# plt.title(\"Number of at least L matches per distance threshold (in meters) - Walking\" )\n",
    "plt.grid()\n",
    "plt.show()"
   ]
  },
  {
   "cell_type": "markdown",
   "metadata": {},
   "source": [
    "#### Let's change time threshold as well and see what happens"
   ]
  },
  {
   "cell_type": "code",
   "execution_count": 580,
   "metadata": {},
   "outputs": [
    {
     "data": {
      "application/vnd.jupyter.widget-view+json": {
       "model_id": "30a062f3ea494219a3a90839c638f922",
       "version_major": 2,
       "version_minor": 0
      },
      "text/plain": [
       "A Jupyter Widget"
      ]
     },
     "metadata": {},
     "output_type": "display_data"
    },
    {
     "name": "stdout",
     "output_type": "stream",
     "text": [
      "\n"
     ]
    }
   ],
   "source": [
    "match_counts_per_threshold_cp_timed = []\n",
    "distance_threshold = 1800\n",
    "for t in tqdm_notebook([60,300,600,900,1200,1500,1800]):\n",
    "    match_counts = []\n",
    "    for req in reqDF.itertuples():\n",
    "        potential_matches = ongoingDF\n",
    "        \n",
    "        OO_time_mask = ( (potential_matches.time_begin  <= req.time_begin) & (( req.time_begin - potential_matches.time_begin)<=t) )\n",
    "\n",
    "        potential_matches = potential_matches[OO_time_mask]\n",
    "\n",
    "        DD_time_mask = ( (req.time_end <= potential_matches.time_end) & (( potential_matches.time_end - req.time_end )<=t) )\n",
    "\n",
    "        potential_matches = potential_matches[DD_time_mask]\n",
    "        \n",
    "        \n",
    "        OO_distance = np.sqrt( (potential_matches.x_begin - req.x_begin) ** 2 + (potential_matches.y_begin - req.y_begin)**2 )\n",
    "        \n",
    "        potential_matches = potential_matches[(OO_distance <= distance_threshold)] \n",
    "        \n",
    "        DD_distance = np.sqrt( (potential_matches.x_end - req.x_end) ** 2 + (potential_matches.y_end - req.y_end)**2 )\n",
    "\n",
    "        potential_matches = potential_matches[(DD_distance <= distance_threshold)]\n",
    "\n",
    "        \n",
    "        match_counts.append(len(potential_matches))\n",
    "    \n",
    "    match_counts_per_threshold_cp_timed.append((t,match_counts))"
   ]
  },
  {
   "cell_type": "code",
   "execution_count": 581,
   "metadata": {
    "collapsed": true
   },
   "outputs": [
    {
     "data": {
      "image/png": "[encoded data removed]",
      "text/plain": [
       "<matplotlib.figure.Figure at 0x7f0c4a3fa358>"
      ]
     },
     "metadata": {},
     "output_type": "display_data"
    }
   ],
   "source": [
    "for l in [1,5,10,20,40,80,160,320]:\n",
    "    at_least_l_matches = [(i,len([t for t in k if t>=l])) for (i,k) in match_counts_per_threshold_cp_timed]\n",
    "    thresh,ncount = zip(*at_least_l_matches)\n",
    "    plt.plot(thresh,ncount,label=l,marker=next(markers))\n",
    "    \n",
    "fig = plt.gcf()\n",
    "fig.set_size_inches((10,6))\n",
    "plt.gca().set_ylim((0,2000))\n",
    "\n",
    "plt.legend(loc=0,bbox_to_anchor=(1, 1.017),title=\"L-value\")\n",
    "plt.gca().set_xlabel(\"time (s)\",size=20)\n",
    "plt.gca().set_ylabel(\"count of req with at least L matches\",size=18)\n",
    "# plt.title(\"Number of more than L matches per time threshold (in second)\" )\n",
    "plt.grid()\n",
    "plt.show()"
   ]
  },
  {
   "cell_type": "code",
   "execution_count": null,
   "metadata": {},
   "outputs": [],
   "source": []
  },
  {
   "cell_type": "code",
   "execution_count": null,
   "metadata": {},
   "outputs": [],
   "source": []
  },
  {
   "cell_type": "code",
   "execution_count": null,
   "metadata": {},
   "outputs": [],
   "source": []
  },
  {
   "cell_type": "code",
   "execution_count": null,
   "metadata": {},
   "outputs": [],
   "source": []
  },
  {
   "cell_type": "markdown",
   "metadata": {},
   "source": [
    "<br>\n",
    "<br>\n",
    "<br>\n",
    "<br>\n",
    "<br>\n",
    "<br>\n",
    "<br>\n",
    "<br>\n",
    "<br>\n",
    "<br>\n",
    "<br>\n",
    "<br>\n",
    "<br>\n",
    "<br>\n",
    "<br>\n",
    "<br>\n",
    "<br>\n",
    "<br>\n",
    "<br>\n",
    "<br>"
   ]
  },
  {
   "cell_type": "code",
   "execution_count": null,
   "metadata": {
    "collapsed": true
   },
   "outputs": [],
   "source": []
  },
  {
   "cell_type": "code",
   "execution_count": null,
   "metadata": {
    "collapsed": true
   },
   "outputs": [],
   "source": []
  }
 ],
 "metadata": {
  "kernelspec": {
   "display_name": "Python 3",
   "language": "python",
   "name": "python3"
  },
  "language_info": {
   "codemirror_mode": {
    "name": "ipython",
    "version": 3
   },
   "file_extension": ".py",
   "mimetype": "text/x-python",
   "name": "python",
   "nbconvert_exporter": "python",
   "pygments_lexer": "ipython3",
   "version": "3.6.3"
  }
 },
 "nbformat": 4,
 "nbformat_minor": 2
}
