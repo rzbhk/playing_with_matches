{
 "cells": [
  {
   "cell_type": "code",
   "execution_count": 1,
   "metadata": {},
   "outputs": [],
   "source": [
    "import pandas as pd\n",
    "import numpy as np\n",
    "import matplotlib.pyplot as plt\n",
    "import seaborn as sns\n",
    "import os\n",
    "from tqdm import trange, tqdm, notebook\n",
    "from numba import jit\n",
    "from mpl_toolkits.mplot3d import Axes3D\n",
    "from collections import Counter\n",
    "import itertools\n",
    "import sys\n",
    "sys.path.append(os.path.abspath('../scripts'))\n",
    "from my_utilities import *"
   ]
  },
  {
   "cell_type": "code",
   "execution_count": 2,
   "metadata": {},
   "outputs": [],
   "source": [
    "data_path_base = r\"../data/\""
   ]
  },
  {
   "cell_type": "code",
   "execution_count": 3,
   "metadata": {},
   "outputs": [],
   "source": [
    "ODdf = pd.read_parquet(os.path.join(data_path_base,'morning_ODdf.parquet'))\n",
    "ODdf.columns = ['orig time','orig x','orig y','orig spd','dest time','dest x','dest y','dest spd']"
   ]
  },
  {
   "cell_type": "code",
   "execution_count": 4,
   "metadata": {},
   "outputs": [
    {
     "data": {
      "text/html": [
       "<div>\n",
       "<style scoped>\n",
       "    .dataframe tbody tr th:only-of-type {\n",
       "        vertical-align: middle;\n",
       "    }\n",
       "\n",
       "    .dataframe tbody tr th {\n",
       "        vertical-align: top;\n",
       "    }\n",
       "\n",
       "    .dataframe thead th {\n",
       "        text-align: right;\n",
       "    }\n",
       "</style>\n",
       "<table border=\"1\" class=\"dataframe\">\n",
       "  <thead>\n",
       "    <tr style=\"text-align: right;\">\n",
       "      <th></th>\n",
       "      <th>orig time</th>\n",
       "      <th>orig x</th>\n",
       "      <th>orig y</th>\n",
       "      <th>orig spd</th>\n",
       "      <th>dest time</th>\n",
       "      <th>dest x</th>\n",
       "      <th>dest y</th>\n",
       "      <th>dest spd</th>\n",
       "    </tr>\n",
       "    <tr>\n",
       "      <th>trip_id</th>\n",
       "      <th></th>\n",
       "      <th></th>\n",
       "      <th></th>\n",
       "      <th></th>\n",
       "      <th></th>\n",
       "      <th></th>\n",
       "      <th></th>\n",
       "      <th></th>\n",
       "    </tr>\n",
       "  </thead>\n",
       "  <tbody>\n",
       "    <tr>\n",
       "      <th>1000007</th>\n",
       "      <td>26798.0</td>\n",
       "      <td>0.684278</td>\n",
       "      <td>0.570806</td>\n",
       "      <td>0.0</td>\n",
       "      <td>26804.0</td>\n",
       "      <td>0.685274</td>\n",
       "      <td>0.571578</td>\n",
       "      <td>9.74</td>\n",
       "    </tr>\n",
       "    <tr>\n",
       "      <th>1000011</th>\n",
       "      <td>23414.0</td>\n",
       "      <td>0.505815</td>\n",
       "      <td>0.250499</td>\n",
       "      <td>0.0</td>\n",
       "      <td>23417.0</td>\n",
       "      <td>0.505366</td>\n",
       "      <td>0.250347</td>\n",
       "      <td>6.08</td>\n",
       "    </tr>\n",
       "    <tr>\n",
       "      <th>1000015</th>\n",
       "      <td>23689.0</td>\n",
       "      <td>0.554151</td>\n",
       "      <td>0.161940</td>\n",
       "      <td>0.0</td>\n",
       "      <td>23734.0</td>\n",
       "      <td>0.554292</td>\n",
       "      <td>0.161518</td>\n",
       "      <td>10.15</td>\n",
       "    </tr>\n",
       "    <tr>\n",
       "      <th>1000020</th>\n",
       "      <td>26928.0</td>\n",
       "      <td>0.389398</td>\n",
       "      <td>0.389645</td>\n",
       "      <td>0.0</td>\n",
       "      <td>26935.0</td>\n",
       "      <td>0.390773</td>\n",
       "      <td>0.390996</td>\n",
       "      <td>13.07</td>\n",
       "    </tr>\n",
       "    <tr>\n",
       "      <th>1000024</th>\n",
       "      <td>25380.0</td>\n",
       "      <td>0.420249</td>\n",
       "      <td>0.567624</td>\n",
       "      <td>0.0</td>\n",
       "      <td>25396.0</td>\n",
       "      <td>0.421578</td>\n",
       "      <td>0.562920</td>\n",
       "      <td>8.20</td>\n",
       "    </tr>\n",
       "    <tr>\n",
       "      <th>...</th>\n",
       "      <td>...</td>\n",
       "      <td>...</td>\n",
       "      <td>...</td>\n",
       "      <td>...</td>\n",
       "      <td>...</td>\n",
       "      <td>...</td>\n",
       "      <td>...</td>\n",
       "      <td>...</td>\n",
       "    </tr>\n",
       "    <tr>\n",
       "      <th>73013</th>\n",
       "      <td>29902.0</td>\n",
       "      <td>0.804917</td>\n",
       "      <td>0.152156</td>\n",
       "      <td>0.0</td>\n",
       "      <td>29903.0</td>\n",
       "      <td>0.804919</td>\n",
       "      <td>0.152085</td>\n",
       "      <td>2.20</td>\n",
       "    </tr>\n",
       "    <tr>\n",
       "      <th>732987</th>\n",
       "      <td>35788.0</td>\n",
       "      <td>0.368885</td>\n",
       "      <td>0.342547</td>\n",
       "      <td>0.0</td>\n",
       "      <td>35792.0</td>\n",
       "      <td>0.369623</td>\n",
       "      <td>0.342151</td>\n",
       "      <td>8.16</td>\n",
       "    </tr>\n",
       "    <tr>\n",
       "      <th>734746</th>\n",
       "      <td>27918.0</td>\n",
       "      <td>0.353437</td>\n",
       "      <td>0.634457</td>\n",
       "      <td>0.0</td>\n",
       "      <td>27926.0</td>\n",
       "      <td>0.355882</td>\n",
       "      <td>0.634051</td>\n",
       "      <td>12.66</td>\n",
       "    </tr>\n",
       "    <tr>\n",
       "      <th>768193</th>\n",
       "      <td>35527.0</td>\n",
       "      <td>0.426951</td>\n",
       "      <td>0.180745</td>\n",
       "      <td>0.0</td>\n",
       "      <td>35529.0</td>\n",
       "      <td>0.426764</td>\n",
       "      <td>0.180604</td>\n",
       "      <td>3.87</td>\n",
       "    </tr>\n",
       "    <tr>\n",
       "      <th>769414</th>\n",
       "      <td>26109.0</td>\n",
       "      <td>0.807968</td>\n",
       "      <td>0.218472</td>\n",
       "      <td>0.0</td>\n",
       "      <td>26140.0</td>\n",
       "      <td>0.803520</td>\n",
       "      <td>0.223229</td>\n",
       "      <td>10.60</td>\n",
       "    </tr>\n",
       "  </tbody>\n",
       "</table>\n",
       "<p>174623 rows × 8 columns</p>\n",
       "</div>"
      ],
      "text/plain": [
       "         orig time    orig x    orig y  orig spd  dest time    dest x  \\\n",
       "trip_id                                                                 \n",
       "1000007    26798.0  0.684278  0.570806       0.0    26804.0  0.685274   \n",
       "1000011    23414.0  0.505815  0.250499       0.0    23417.0  0.505366   \n",
       "1000015    23689.0  0.554151  0.161940       0.0    23734.0  0.554292   \n",
       "1000020    26928.0  0.389398  0.389645       0.0    26935.0  0.390773   \n",
       "1000024    25380.0  0.420249  0.567624       0.0    25396.0  0.421578   \n",
       "...            ...       ...       ...       ...        ...       ...   \n",
       "73013      29902.0  0.804917  0.152156       0.0    29903.0  0.804919   \n",
       "732987     35788.0  0.368885  0.342547       0.0    35792.0  0.369623   \n",
       "734746     27918.0  0.353437  0.634457       0.0    27926.0  0.355882   \n",
       "768193     35527.0  0.426951  0.180745       0.0    35529.0  0.426764   \n",
       "769414     26109.0  0.807968  0.218472       0.0    26140.0  0.803520   \n",
       "\n",
       "           dest y  dest spd  \n",
       "trip_id                      \n",
       "1000007  0.571578      9.74  \n",
       "1000011  0.250347      6.08  \n",
       "1000015  0.161518     10.15  \n",
       "1000020  0.390996     13.07  \n",
       "1000024  0.562920      8.20  \n",
       "...           ...       ...  \n",
       "73013    0.152085      2.20  \n",
       "732987   0.342151      8.16  \n",
       "734746   0.634051     12.66  \n",
       "768193   0.180604      3.87  \n",
       "769414   0.223229     10.60  \n",
       "\n",
       "[174623 rows x 8 columns]"
      ]
     },
     "execution_count": 4,
     "metadata": {},
     "output_type": "execute_result"
    }
   ],
   "source": [
    "ODdf"
   ]
  },
  {
   "cell_type": "code",
   "execution_count": 5,
   "metadata": {},
   "outputs": [],
   "source": [
    "tmin = ODdf['orig time'].min()\n",
    "tmax = ODdf['dest time'].max()"
   ]
  },
  {
   "cell_type": "code",
   "execution_count": 6,
   "metadata": {
    "scrolled": true
   },
   "outputs": [],
   "source": [
    "ODdf['orig time'] -= tmin\n",
    "ODdf['orig time'] /= tmax\n",
    "ODdf['dest time'] -= tmin\n",
    "ODdf['dest time'] /= tmax"
   ]
  },
  {
   "cell_type": "code",
   "execution_count": 7,
   "metadata": {},
   "outputs": [
    {
     "data": {
      "text/html": [
       "<div>\n",
       "<style scoped>\n",
       "    .dataframe tbody tr th:only-of-type {\n",
       "        vertical-align: middle;\n",
       "    }\n",
       "\n",
       "    .dataframe tbody tr th {\n",
       "        vertical-align: top;\n",
       "    }\n",
       "\n",
       "    .dataframe thead th {\n",
       "        text-align: right;\n",
       "    }\n",
       "</style>\n",
       "<table border=\"1\" class=\"dataframe\">\n",
       "  <thead>\n",
       "    <tr style=\"text-align: right;\">\n",
       "      <th></th>\n",
       "      <th>orig time</th>\n",
       "      <th>orig x</th>\n",
       "      <th>orig y</th>\n",
       "      <th>orig spd</th>\n",
       "      <th>dest time</th>\n",
       "      <th>dest x</th>\n",
       "      <th>dest y</th>\n",
       "      <th>dest spd</th>\n",
       "    </tr>\n",
       "    <tr>\n",
       "      <th>trip_id</th>\n",
       "      <th></th>\n",
       "      <th></th>\n",
       "      <th></th>\n",
       "      <th></th>\n",
       "      <th></th>\n",
       "      <th></th>\n",
       "      <th></th>\n",
       "      <th></th>\n",
       "    </tr>\n",
       "  </thead>\n",
       "  <tbody>\n",
       "    <tr>\n",
       "      <th>1000007</th>\n",
       "      <td>0.145421</td>\n",
       "      <td>0.684278</td>\n",
       "      <td>0.570806</td>\n",
       "      <td>0.0</td>\n",
       "      <td>0.145588</td>\n",
       "      <td>0.685274</td>\n",
       "      <td>0.571578</td>\n",
       "      <td>9.74</td>\n",
       "    </tr>\n",
       "    <tr>\n",
       "      <th>1000011</th>\n",
       "      <td>0.051274</td>\n",
       "      <td>0.505815</td>\n",
       "      <td>0.250499</td>\n",
       "      <td>0.0</td>\n",
       "      <td>0.051358</td>\n",
       "      <td>0.505366</td>\n",
       "      <td>0.250347</td>\n",
       "      <td>6.08</td>\n",
       "    </tr>\n",
       "    <tr>\n",
       "      <th>1000015</th>\n",
       "      <td>0.058925</td>\n",
       "      <td>0.554151</td>\n",
       "      <td>0.161940</td>\n",
       "      <td>0.0</td>\n",
       "      <td>0.060177</td>\n",
       "      <td>0.554292</td>\n",
       "      <td>0.161518</td>\n",
       "      <td>10.15</td>\n",
       "    </tr>\n",
       "    <tr>\n",
       "      <th>1000020</th>\n",
       "      <td>0.149037</td>\n",
       "      <td>0.389398</td>\n",
       "      <td>0.389645</td>\n",
       "      <td>0.0</td>\n",
       "      <td>0.149232</td>\n",
       "      <td>0.390773</td>\n",
       "      <td>0.390996</td>\n",
       "      <td>13.07</td>\n",
       "    </tr>\n",
       "    <tr>\n",
       "      <th>1000024</th>\n",
       "      <td>0.105970</td>\n",
       "      <td>0.420249</td>\n",
       "      <td>0.567624</td>\n",
       "      <td>0.0</td>\n",
       "      <td>0.106416</td>\n",
       "      <td>0.421578</td>\n",
       "      <td>0.562920</td>\n",
       "      <td>8.20</td>\n",
       "    </tr>\n",
       "    <tr>\n",
       "      <th>...</th>\n",
       "      <td>...</td>\n",
       "      <td>...</td>\n",
       "      <td>...</td>\n",
       "      <td>...</td>\n",
       "      <td>...</td>\n",
       "      <td>...</td>\n",
       "      <td>...</td>\n",
       "      <td>...</td>\n",
       "    </tr>\n",
       "    <tr>\n",
       "      <th>73013</th>\n",
       "      <td>0.231777</td>\n",
       "      <td>0.804917</td>\n",
       "      <td>0.152156</td>\n",
       "      <td>0.0</td>\n",
       "      <td>0.231805</td>\n",
       "      <td>0.804919</td>\n",
       "      <td>0.152085</td>\n",
       "      <td>2.20</td>\n",
       "    </tr>\n",
       "    <tr>\n",
       "      <th>732987</th>\n",
       "      <td>0.395532</td>\n",
       "      <td>0.368885</td>\n",
       "      <td>0.342547</td>\n",
       "      <td>0.0</td>\n",
       "      <td>0.395643</td>\n",
       "      <td>0.369623</td>\n",
       "      <td>0.342151</td>\n",
       "      <td>8.16</td>\n",
       "    </tr>\n",
       "    <tr>\n",
       "      <th>734746</th>\n",
       "      <td>0.176580</td>\n",
       "      <td>0.353437</td>\n",
       "      <td>0.634457</td>\n",
       "      <td>0.0</td>\n",
       "      <td>0.176803</td>\n",
       "      <td>0.355882</td>\n",
       "      <td>0.634051</td>\n",
       "      <td>12.66</td>\n",
       "    </tr>\n",
       "    <tr>\n",
       "      <th>768193</th>\n",
       "      <td>0.388271</td>\n",
       "      <td>0.426951</td>\n",
       "      <td>0.180745</td>\n",
       "      <td>0.0</td>\n",
       "      <td>0.388326</td>\n",
       "      <td>0.426764</td>\n",
       "      <td>0.180604</td>\n",
       "      <td>3.87</td>\n",
       "    </tr>\n",
       "    <tr>\n",
       "      <th>769414</th>\n",
       "      <td>0.126252</td>\n",
       "      <td>0.807968</td>\n",
       "      <td>0.218472</td>\n",
       "      <td>0.0</td>\n",
       "      <td>0.127114</td>\n",
       "      <td>0.803520</td>\n",
       "      <td>0.223229</td>\n",
       "      <td>10.60</td>\n",
       "    </tr>\n",
       "  </tbody>\n",
       "</table>\n",
       "<p>174623 rows × 8 columns</p>\n",
       "</div>"
      ],
      "text/plain": [
       "         orig time    orig x    orig y  orig spd  dest time    dest x  \\\n",
       "trip_id                                                                 \n",
       "1000007   0.145421  0.684278  0.570806       0.0   0.145588  0.685274   \n",
       "1000011   0.051274  0.505815  0.250499       0.0   0.051358  0.505366   \n",
       "1000015   0.058925  0.554151  0.161940       0.0   0.060177  0.554292   \n",
       "1000020   0.149037  0.389398  0.389645       0.0   0.149232  0.390773   \n",
       "1000024   0.105970  0.420249  0.567624       0.0   0.106416  0.421578   \n",
       "...            ...       ...       ...       ...        ...       ...   \n",
       "73013     0.231777  0.804917  0.152156       0.0   0.231805  0.804919   \n",
       "732987    0.395532  0.368885  0.342547       0.0   0.395643  0.369623   \n",
       "734746    0.176580  0.353437  0.634457       0.0   0.176803  0.355882   \n",
       "768193    0.388271  0.426951  0.180745       0.0   0.388326  0.426764   \n",
       "769414    0.126252  0.807968  0.218472       0.0   0.127114  0.803520   \n",
       "\n",
       "           dest y  dest spd  \n",
       "trip_id                      \n",
       "1000007  0.571578      9.74  \n",
       "1000011  0.250347      6.08  \n",
       "1000015  0.161518     10.15  \n",
       "1000020  0.390996     13.07  \n",
       "1000024  0.562920      8.20  \n",
       "...           ...       ...  \n",
       "73013    0.152085      2.20  \n",
       "732987   0.342151      8.16  \n",
       "734746   0.634051     12.66  \n",
       "768193   0.180604      3.87  \n",
       "769414   0.223229     10.60  \n",
       "\n",
       "[174623 rows x 8 columns]"
      ]
     },
     "execution_count": 7,
     "metadata": {},
     "output_type": "execute_result"
    }
   ],
   "source": [
    "ODdf"
   ]
  },
  {
   "cell_type": "markdown",
   "metadata": {},
   "source": [
    "#### Parameters"
   ]
  },
  {
   "cell_type": "code",
   "execution_count": 8,
   "metadata": {},
   "outputs": [],
   "source": [
    "spatial_threshold = 0.035 #area is roughly 20x20km so roughly 28km is the diameter so 0.035 * 28km = 1 km\n",
    "\n",
    "time_threshold = 600/(tmax - tmin) #600 seconds\n",
    "\n",
    "w_t = 0.5\n",
    "w_x = 1 - w_t"
   ]
  },
  {
   "cell_type": "markdown",
   "metadata": {},
   "source": [
    "##### We get a sample of  size 20000 rides to match."
   ]
  },
  {
   "cell_type": "code",
   "execution_count": 9,
   "metadata": {},
   "outputs": [],
   "source": [
    "ridersDF = ODdf.sample(n=20000,random_state=1234)\n",
    "\n",
    "ridesDF = ODdf[~ ODdf.index.isin(ridersDF.index)]\n",
    "\n",
    "# reqDF = otherDF.sample(n=2000,random_state=1234)"
   ]
  },
  {
   "cell_type": "code",
   "execution_count": 10,
   "metadata": {},
   "outputs": [
    {
     "data": {
      "text/html": [
       "<div>\n",
       "<style scoped>\n",
       "    .dataframe tbody tr th:only-of-type {\n",
       "        vertical-align: middle;\n",
       "    }\n",
       "\n",
       "    .dataframe tbody tr th {\n",
       "        vertical-align: top;\n",
       "    }\n",
       "\n",
       "    .dataframe thead th {\n",
       "        text-align: right;\n",
       "    }\n",
       "</style>\n",
       "<table border=\"1\" class=\"dataframe\">\n",
       "  <thead>\n",
       "    <tr style=\"text-align: right;\">\n",
       "      <th></th>\n",
       "      <th>orig time</th>\n",
       "      <th>orig x</th>\n",
       "      <th>orig y</th>\n",
       "      <th>orig spd</th>\n",
       "      <th>dest time</th>\n",
       "      <th>dest x</th>\n",
       "      <th>dest y</th>\n",
       "      <th>dest spd</th>\n",
       "    </tr>\n",
       "    <tr>\n",
       "      <th>trip_id</th>\n",
       "      <th></th>\n",
       "      <th></th>\n",
       "      <th></th>\n",
       "      <th></th>\n",
       "      <th></th>\n",
       "      <th></th>\n",
       "      <th></th>\n",
       "      <th></th>\n",
       "    </tr>\n",
       "  </thead>\n",
       "  <tbody>\n",
       "    <tr>\n",
       "      <th>1086458</th>\n",
       "      <td>0.157940</td>\n",
       "      <td>0.851826</td>\n",
       "      <td>0.212828</td>\n",
       "      <td>0.0</td>\n",
       "      <td>0.158051</td>\n",
       "      <td>0.851750</td>\n",
       "      <td>0.212210</td>\n",
       "      <td>7.940000</td>\n",
       "    </tr>\n",
       "    <tr>\n",
       "      <th>1384942</th>\n",
       "      <td>0.056393</td>\n",
       "      <td>0.358746</td>\n",
       "      <td>0.474148</td>\n",
       "      <td>0.0</td>\n",
       "      <td>0.056449</td>\n",
       "      <td>0.358929</td>\n",
       "      <td>0.474337</td>\n",
       "      <td>4.930000</td>\n",
       "    </tr>\n",
       "    <tr>\n",
       "      <th>1333980</th>\n",
       "      <td>0.213777</td>\n",
       "      <td>0.432013</td>\n",
       "      <td>0.445753</td>\n",
       "      <td>0.0</td>\n",
       "      <td>0.214111</td>\n",
       "      <td>0.433421</td>\n",
       "      <td>0.443710</td>\n",
       "      <td>10.970000</td>\n",
       "    </tr>\n",
       "    <tr>\n",
       "      <th>1457610</th>\n",
       "      <td>0.303889</td>\n",
       "      <td>0.596405</td>\n",
       "      <td>0.575477</td>\n",
       "      <td>0.0</td>\n",
       "      <td>0.303973</td>\n",
       "      <td>0.596781</td>\n",
       "      <td>0.575750</td>\n",
       "      <td>6.230000</td>\n",
       "    </tr>\n",
       "    <tr>\n",
       "      <th>1090549</th>\n",
       "      <td>0.096734</td>\n",
       "      <td>0.158854</td>\n",
       "      <td>0.704734</td>\n",
       "      <td>0.0</td>\n",
       "      <td>0.096762</td>\n",
       "      <td>0.158928</td>\n",
       "      <td>0.704699</td>\n",
       "      <td>2.130000</td>\n",
       "    </tr>\n",
       "    <tr>\n",
       "      <th>...</th>\n",
       "      <td>...</td>\n",
       "      <td>...</td>\n",
       "      <td>...</td>\n",
       "      <td>...</td>\n",
       "      <td>...</td>\n",
       "      <td>...</td>\n",
       "      <td>...</td>\n",
       "      <td>...</td>\n",
       "    </tr>\n",
       "    <tr>\n",
       "      <th>1068489</th>\n",
       "      <td>0.044625</td>\n",
       "      <td>0.323014</td>\n",
       "      <td>0.507674</td>\n",
       "      <td>0.0</td>\n",
       "      <td>0.044764</td>\n",
       "      <td>0.322543</td>\n",
       "      <td>0.506821</td>\n",
       "      <td>9.460000</td>\n",
       "    </tr>\n",
       "    <tr>\n",
       "      <th>1059871</th>\n",
       "      <td>0.352270</td>\n",
       "      <td>0.867736</td>\n",
       "      <td>0.092523</td>\n",
       "      <td>0.0</td>\n",
       "      <td>0.352326</td>\n",
       "      <td>0.867652</td>\n",
       "      <td>0.092723</td>\n",
       "      <td>4.240000</td>\n",
       "    </tr>\n",
       "    <tr>\n",
       "      <th>1479067</th>\n",
       "      <td>0.129006</td>\n",
       "      <td>0.340803</td>\n",
       "      <td>0.455770</td>\n",
       "      <td>0.0</td>\n",
       "      <td>0.129451</td>\n",
       "      <td>0.338729</td>\n",
       "      <td>0.456699</td>\n",
       "      <td>0.000000</td>\n",
       "    </tr>\n",
       "    <tr>\n",
       "      <th>1031129</th>\n",
       "      <td>0.169569</td>\n",
       "      <td>0.566896</td>\n",
       "      <td>0.324643</td>\n",
       "      <td>0.0</td>\n",
       "      <td>0.170237</td>\n",
       "      <td>0.554558</td>\n",
       "      <td>0.313054</td>\n",
       "      <td>33.259998</td>\n",
       "    </tr>\n",
       "    <tr>\n",
       "      <th>1270467</th>\n",
       "      <td>0.051552</td>\n",
       "      <td>0.717007</td>\n",
       "      <td>0.541503</td>\n",
       "      <td>0.0</td>\n",
       "      <td>0.051914</td>\n",
       "      <td>0.712644</td>\n",
       "      <td>0.542732</td>\n",
       "      <td>19.520000</td>\n",
       "    </tr>\n",
       "  </tbody>\n",
       "</table>\n",
       "<p>20000 rows × 8 columns</p>\n",
       "</div>"
      ],
      "text/plain": [
       "         orig time    orig x    orig y  orig spd  dest time    dest x  \\\n",
       "trip_id                                                                 \n",
       "1086458   0.157940  0.851826  0.212828       0.0   0.158051  0.851750   \n",
       "1384942   0.056393  0.358746  0.474148       0.0   0.056449  0.358929   \n",
       "1333980   0.213777  0.432013  0.445753       0.0   0.214111  0.433421   \n",
       "1457610   0.303889  0.596405  0.575477       0.0   0.303973  0.596781   \n",
       "1090549   0.096734  0.158854  0.704734       0.0   0.096762  0.158928   \n",
       "...            ...       ...       ...       ...        ...       ...   \n",
       "1068489   0.044625  0.323014  0.507674       0.0   0.044764  0.322543   \n",
       "1059871   0.352270  0.867736  0.092523       0.0   0.352326  0.867652   \n",
       "1479067   0.129006  0.340803  0.455770       0.0   0.129451  0.338729   \n",
       "1031129   0.169569  0.566896  0.324643       0.0   0.170237  0.554558   \n",
       "1270467   0.051552  0.717007  0.541503       0.0   0.051914  0.712644   \n",
       "\n",
       "           dest y   dest spd  \n",
       "trip_id                       \n",
       "1086458  0.212210   7.940000  \n",
       "1384942  0.474337   4.930000  \n",
       "1333980  0.443710  10.970000  \n",
       "1457610  0.575750   6.230000  \n",
       "1090549  0.704699   2.130000  \n",
       "...           ...        ...  \n",
       "1068489  0.506821   9.460000  \n",
       "1059871  0.092723   4.240000  \n",
       "1479067  0.456699   0.000000  \n",
       "1031129  0.313054  33.259998  \n",
       "1270467  0.542732  19.520000  \n",
       "\n",
       "[20000 rows x 8 columns]"
      ]
     },
     "execution_count": 10,
     "metadata": {},
     "output_type": "execute_result"
    }
   ],
   "source": [
    "ridersDF"
   ]
  },
  {
   "cell_type": "code",
   "execution_count": 11,
   "metadata": {},
   "outputs": [
    {
     "data": {
      "text/html": [
       "<div>\n",
       "<style scoped>\n",
       "    .dataframe tbody tr th:only-of-type {\n",
       "        vertical-align: middle;\n",
       "    }\n",
       "\n",
       "    .dataframe tbody tr th {\n",
       "        vertical-align: top;\n",
       "    }\n",
       "\n",
       "    .dataframe thead th {\n",
       "        text-align: right;\n",
       "    }\n",
       "</style>\n",
       "<table border=\"1\" class=\"dataframe\">\n",
       "  <thead>\n",
       "    <tr style=\"text-align: right;\">\n",
       "      <th></th>\n",
       "      <th>orig time</th>\n",
       "      <th>orig x</th>\n",
       "      <th>orig y</th>\n",
       "      <th>orig spd</th>\n",
       "      <th>dest time</th>\n",
       "      <th>dest x</th>\n",
       "      <th>dest y</th>\n",
       "      <th>dest spd</th>\n",
       "    </tr>\n",
       "    <tr>\n",
       "      <th>trip_id</th>\n",
       "      <th></th>\n",
       "      <th></th>\n",
       "      <th></th>\n",
       "      <th></th>\n",
       "      <th></th>\n",
       "      <th></th>\n",
       "      <th></th>\n",
       "      <th></th>\n",
       "    </tr>\n",
       "  </thead>\n",
       "  <tbody>\n",
       "    <tr>\n",
       "      <th>1000007</th>\n",
       "      <td>0.145421</td>\n",
       "      <td>0.684278</td>\n",
       "      <td>0.570806</td>\n",
       "      <td>0.0</td>\n",
       "      <td>0.145588</td>\n",
       "      <td>0.685274</td>\n",
       "      <td>0.571578</td>\n",
       "      <td>9.74</td>\n",
       "    </tr>\n",
       "    <tr>\n",
       "      <th>1000011</th>\n",
       "      <td>0.051274</td>\n",
       "      <td>0.505815</td>\n",
       "      <td>0.250499</td>\n",
       "      <td>0.0</td>\n",
       "      <td>0.051358</td>\n",
       "      <td>0.505366</td>\n",
       "      <td>0.250347</td>\n",
       "      <td>6.08</td>\n",
       "    </tr>\n",
       "    <tr>\n",
       "      <th>1000015</th>\n",
       "      <td>0.058925</td>\n",
       "      <td>0.554151</td>\n",
       "      <td>0.161940</td>\n",
       "      <td>0.0</td>\n",
       "      <td>0.060177</td>\n",
       "      <td>0.554292</td>\n",
       "      <td>0.161518</td>\n",
       "      <td>10.15</td>\n",
       "    </tr>\n",
       "    <tr>\n",
       "      <th>1000020</th>\n",
       "      <td>0.149037</td>\n",
       "      <td>0.389398</td>\n",
       "      <td>0.389645</td>\n",
       "      <td>0.0</td>\n",
       "      <td>0.149232</td>\n",
       "      <td>0.390773</td>\n",
       "      <td>0.390996</td>\n",
       "      <td>13.07</td>\n",
       "    </tr>\n",
       "    <tr>\n",
       "      <th>1000024</th>\n",
       "      <td>0.105970</td>\n",
       "      <td>0.420249</td>\n",
       "      <td>0.567624</td>\n",
       "      <td>0.0</td>\n",
       "      <td>0.106416</td>\n",
       "      <td>0.421578</td>\n",
       "      <td>0.562920</td>\n",
       "      <td>8.20</td>\n",
       "    </tr>\n",
       "    <tr>\n",
       "      <th>...</th>\n",
       "      <td>...</td>\n",
       "      <td>...</td>\n",
       "      <td>...</td>\n",
       "      <td>...</td>\n",
       "      <td>...</td>\n",
       "      <td>...</td>\n",
       "      <td>...</td>\n",
       "      <td>...</td>\n",
       "    </tr>\n",
       "    <tr>\n",
       "      <th>73013</th>\n",
       "      <td>0.231777</td>\n",
       "      <td>0.804917</td>\n",
       "      <td>0.152156</td>\n",
       "      <td>0.0</td>\n",
       "      <td>0.231805</td>\n",
       "      <td>0.804919</td>\n",
       "      <td>0.152085</td>\n",
       "      <td>2.20</td>\n",
       "    </tr>\n",
       "    <tr>\n",
       "      <th>732987</th>\n",
       "      <td>0.395532</td>\n",
       "      <td>0.368885</td>\n",
       "      <td>0.342547</td>\n",
       "      <td>0.0</td>\n",
       "      <td>0.395643</td>\n",
       "      <td>0.369623</td>\n",
       "      <td>0.342151</td>\n",
       "      <td>8.16</td>\n",
       "    </tr>\n",
       "    <tr>\n",
       "      <th>734746</th>\n",
       "      <td>0.176580</td>\n",
       "      <td>0.353437</td>\n",
       "      <td>0.634457</td>\n",
       "      <td>0.0</td>\n",
       "      <td>0.176803</td>\n",
       "      <td>0.355882</td>\n",
       "      <td>0.634051</td>\n",
       "      <td>12.66</td>\n",
       "    </tr>\n",
       "    <tr>\n",
       "      <th>768193</th>\n",
       "      <td>0.388271</td>\n",
       "      <td>0.426951</td>\n",
       "      <td>0.180745</td>\n",
       "      <td>0.0</td>\n",
       "      <td>0.388326</td>\n",
       "      <td>0.426764</td>\n",
       "      <td>0.180604</td>\n",
       "      <td>3.87</td>\n",
       "    </tr>\n",
       "    <tr>\n",
       "      <th>769414</th>\n",
       "      <td>0.126252</td>\n",
       "      <td>0.807968</td>\n",
       "      <td>0.218472</td>\n",
       "      <td>0.0</td>\n",
       "      <td>0.127114</td>\n",
       "      <td>0.803520</td>\n",
       "      <td>0.223229</td>\n",
       "      <td>10.60</td>\n",
       "    </tr>\n",
       "  </tbody>\n",
       "</table>\n",
       "<p>154623 rows × 8 columns</p>\n",
       "</div>"
      ],
      "text/plain": [
       "         orig time    orig x    orig y  orig spd  dest time    dest x  \\\n",
       "trip_id                                                                 \n",
       "1000007   0.145421  0.684278  0.570806       0.0   0.145588  0.685274   \n",
       "1000011   0.051274  0.505815  0.250499       0.0   0.051358  0.505366   \n",
       "1000015   0.058925  0.554151  0.161940       0.0   0.060177  0.554292   \n",
       "1000020   0.149037  0.389398  0.389645       0.0   0.149232  0.390773   \n",
       "1000024   0.105970  0.420249  0.567624       0.0   0.106416  0.421578   \n",
       "...            ...       ...       ...       ...        ...       ...   \n",
       "73013     0.231777  0.804917  0.152156       0.0   0.231805  0.804919   \n",
       "732987    0.395532  0.368885  0.342547       0.0   0.395643  0.369623   \n",
       "734746    0.176580  0.353437  0.634457       0.0   0.176803  0.355882   \n",
       "768193    0.388271  0.426951  0.180745       0.0   0.388326  0.426764   \n",
       "769414    0.126252  0.807968  0.218472       0.0   0.127114  0.803520   \n",
       "\n",
       "           dest y  dest spd  \n",
       "trip_id                      \n",
       "1000007  0.571578      9.74  \n",
       "1000011  0.250347      6.08  \n",
       "1000015  0.161518     10.15  \n",
       "1000020  0.390996     13.07  \n",
       "1000024  0.562920      8.20  \n",
       "...           ...       ...  \n",
       "73013    0.152085      2.20  \n",
       "732987   0.342151      8.16  \n",
       "734746   0.634051     12.66  \n",
       "768193   0.180604      3.87  \n",
       "769414   0.223229     10.60  \n",
       "\n",
       "[154623 rows x 8 columns]"
      ]
     },
     "execution_count": 11,
     "metadata": {},
     "output_type": "execute_result"
    }
   ],
   "source": [
    "ridesDF"
   ]
  },
  {
   "cell_type": "markdown",
   "metadata": {},
   "source": [
    "#### Carpooling scenario\n",
    "The ride has to be started before and end before meaning they will pick someone up and drop them off first before going to final destination!"
   ]
  },
  {
   "cell_type": "code",
   "execution_count": 12,
   "metadata": {},
   "outputs": [
    {
     "name": "stderr",
     "output_type": "stream",
     "text": [
      "C:\\Users\\Roozbeh\\Anaconda3\\envs\\similarity_matching\\lib\\site-packages\\tqdm\\std.py:658: FutureWarning: The Panel class is removed from pandas. Accessing it from the top-level namespace will also be removed in the next version\n",
      "  from pandas import Panel\n"
     ]
    }
   ],
   "source": [
    "notebook.tqdm.pandas()"
   ]
  },
  {
   "cell_type": "code",
   "execution_count": 13,
   "metadata": {},
   "outputs": [],
   "source": [
    "def threshold_filter_trips_carpool(ridesDF, start_time, start_x, start_y, end_time, end_x, end_y, time_threshold, space_threshold):\n",
    "    \n",
    "    #ride must be after rider in pick up\n",
    "    ridesDF = ridesDF[ ((start_time - ridesDF['orig time'] >= 0) & (start_time - ridesDF['orig time'] <= time_threshold)) &\n",
    "                       ((ridesDF['dest time'] - end_time   >= 0) & (ridesDF['dest time'] - end_time   <= time_threshold)) ]\n",
    "    #ride must be before rider for drop off    \n",
    "    \n",
    "    OO_distance = np.sqrt( (ridesDF['orig x'] - start_x) ** 2 + (ridesDF['orig y'] - start_y)**2 )\n",
    "    DD_distance = np.sqrt( (ridesDF['dest x'] - end_x) ** 2 + (ridesDF['dest y'] - end_y)**2 )\n",
    "    \n",
    "    ridesDF = ridesDF[(OO_distance <= space_threshold) & (DD_distance <= space_threshold)]\n",
    "    \n",
    "    if not ridesDF.empty:\n",
    "        return ridesDF.index.values    \n",
    "    "
   ]
  },
  {
   "cell_type": "code",
   "execution_count": 59,
   "metadata": {},
   "outputs": [],
   "source": []
  },
  {
   "cell_type": "code",
   "execution_count": 14,
   "metadata": {},
   "outputs": [
    {
     "data": {
      "application/vnd.jupyter.widget-view+json": {
       "model_id": "2c8ad67cc2d744749e16ff3660e84fad",
       "version_major": 2,
       "version_minor": 0
      },
      "text/plain": [
       "HBox(children=(FloatProgress(value=0.0, max=20000.0), HTML(value='')))"
      ]
     },
     "metadata": {},
     "output_type": "display_data"
    },
    {
     "name": "stdout",
     "output_type": "stream",
     "text": [
      "\n"
     ]
    },
    {
     "data": {
      "application/vnd.jupyter.widget-view+json": {
       "model_id": "87b0f3ad9ccd4c1bb79068543fcaa58f",
       "version_major": 2,
       "version_minor": 0
      },
      "text/plain": [
       "HBox(children=(FloatProgress(value=0.0, max=20000.0), HTML(value='')))"
      ]
     },
     "metadata": {},
     "output_type": "display_data"
    },
    {
     "name": "stdout",
     "output_type": "stream",
     "text": [
      "\n"
     ]
    },
    {
     "data": {
      "application/vnd.jupyter.widget-view+json": {
       "model_id": "7105234f4cac438b9ecc98a95c342231",
       "version_major": 2,
       "version_minor": 0
      },
      "text/plain": [
       "HBox(children=(FloatProgress(value=0.0, max=20000.0), HTML(value='')))"
      ]
     },
     "metadata": {},
     "output_type": "display_data"
    },
    {
     "name": "stdout",
     "output_type": "stream",
     "text": [
      "\n"
     ]
    },
    {
     "data": {
      "application/vnd.jupyter.widget-view+json": {
       "model_id": "60d14f88d5804db4a644e30a473368b8",
       "version_major": 2,
       "version_minor": 0
      },
      "text/plain": [
       "HBox(children=(FloatProgress(value=0.0, max=20000.0), HTML(value='')))"
      ]
     },
     "metadata": {},
     "output_type": "display_data"
    },
    {
     "name": "stdout",
     "output_type": "stream",
     "text": [
      "\n"
     ]
    },
    {
     "data": {
      "application/vnd.jupyter.widget-view+json": {
       "model_id": "454479f5468945aba11d48075275ff48",
       "version_major": 2,
       "version_minor": 0
      },
      "text/plain": [
       "HBox(children=(FloatProgress(value=0.0, max=20000.0), HTML(value='')))"
      ]
     },
     "metadata": {},
     "output_type": "display_data"
    },
    {
     "name": "stdout",
     "output_type": "stream",
     "text": [
      "\n"
     ]
    }
   ],
   "source": [
    "candidate_stats_per_thresh_multiplier = []\n",
    "candidates_per_thresh_multiplier = []\n",
    "for i in range(1,6):\n",
    "    t_thresh = time_threshold * i\n",
    "    s_thresh = spatial_threshold * i\n",
    "    candidates = ridersDF.progress_apply(lambda row: threshold_filter_trips_carpool(ridesDF, row[0], row[1], row[2], row[4], row[5], row[6], t_thresh, s_thresh),axis=1)\n",
    "    len_candidates = candidates.apply(lambda x: len(x) if x is not None else 0)\n",
    "    candidate_stats_per_thresh_multiplier.append((i,len_candidates.describe()))\n",
    "    candidates_per_thresh_multiplier.append((i,candidates))"
   ]
  },
  {
   "cell_type": "code",
   "execution_count": 15,
   "metadata": {},
   "outputs": [
    {
     "data": {
      "text/plain": [
       "[(1, count    20000.000000\n",
       "  mean         1.174250\n",
       "  std          1.615617\n",
       "  min          0.000000\n",
       "  25%          0.000000\n",
       "  50%          1.000000\n",
       "  75%          2.000000\n",
       "  max         18.000000\n",
       "  dtype: float64), (2, count    20000.00000\n",
       "  mean         3.92625\n",
       "  std          4.25226\n",
       "  min          0.00000\n",
       "  25%          1.00000\n",
       "  50%          3.00000\n",
       "  75%          6.00000\n",
       "  max         34.00000\n",
       "  dtype: float64), (3, count    20000.000000\n",
       "  mean         8.219650\n",
       "  std          8.139866\n",
       "  min          0.000000\n",
       "  25%          2.000000\n",
       "  50%          6.000000\n",
       "  75%         12.000000\n",
       "  max         58.000000\n",
       "  dtype: float64), (4, count    20000.000000\n",
       "  mean        13.590150\n",
       "  std         12.933601\n",
       "  min          0.000000\n",
       "  25%          4.000000\n",
       "  50%         10.000000\n",
       "  75%         20.000000\n",
       "  max         87.000000\n",
       "  dtype: float64), (5, count    20000.000000\n",
       "  mean        20.023050\n",
       "  std         18.617216\n",
       "  min          0.000000\n",
       "  25%          6.000000\n",
       "  50%         14.000000\n",
       "  75%         29.000000\n",
       "  max        120.000000\n",
       "  dtype: float64)]"
      ]
     },
     "execution_count": 15,
     "metadata": {},
     "output_type": "execute_result"
    }
   ],
   "source": [
    "candidate_stats_per_thresh_multiplier"
   ]
  },
  {
   "cell_type": "code",
   "execution_count": 17,
   "metadata": {},
   "outputs": [
    {
     "name": "stdout",
     "output_type": "stream",
     "text": [
      "1752\n",
      "8041\n",
      "12862\n",
      "15313\n",
      "16773\n"
     ]
    }
   ],
   "source": [
    "L = 4\n",
    "for mult,candidates in candidates_per_thresh_multiplier:\n",
    "    print(np.sum(candidates.apply(lambda x: len(x) >= L if x is not None else False)))"
   ]
  },
  {
   "cell_type": "code",
   "execution_count": 22,
   "metadata": {},
   "outputs": [
    {
     "name": "stderr",
     "output_type": "stream",
     "text": [
      "C:\\Users\\Roozbeh\\Anaconda3\\envs\\similarity_matching\\lib\\site-packages\\ipykernel_launcher.py:2: FutureWarning: The signature of `Series.to_csv` was aligned to that of `DataFrame.to_csv`, and argument 'header' will change its default value from False to True: please pass an explicit value to suppress this warning.\n",
      "  \n"
     ]
    }
   ],
   "source": [
    "\n",
    "for mult, candidate in candidates_per_thresh_multiplier:\n",
    "    candidate.to_csv('threshold_mult_{}_candidate_matches.csv'.format(mult))"
   ]
  },
  {
   "cell_type": "markdown",
   "metadata": {},
   "source": [
    "#### Loop below uses the found candidates and wgm function to find best four matches."
   ]
  },
  {
   "cell_type": "code",
   "execution_count": 24,
   "metadata": {},
   "outputs": [
    {
     "data": {
      "application/vnd.jupyter.widget-view+json": {
       "model_id": "268a694a3c03440ead8d3396c2031eca",
       "version_major": 2,
       "version_minor": 0
      },
      "text/plain": [
       "HBox(children=(FloatProgress(value=0.0, max=20000.0), HTML(value='')))"
      ]
     },
     "metadata": {},
     "output_type": "display_data"
    },
    {
     "name": "stdout",
     "output_type": "stream",
     "text": [
      "\n"
     ]
    }
   ],
   "source": [
    "_,candidates = candidates_per_thresh_multiplier[2]\n",
    "\n",
    "best_matches_per_ride = [] #stores (trip_id, pandas.series) where the series index our the matched trip ids and the values are similarity score\n",
    "for trip_id, trip in notebook.tqdm(ridersDF.iterrows(),total=len(ridersDF)):\n",
    "    current_candidates = candidates[trip_id]\n",
    "    if current_candidates is None or len(current_candidates) < 4:\n",
    "        best_matches_per_ride.append( (trip_id,None))\n",
    "        continue \n",
    "    candidateDF = ridesDF.loc[current_candidates,:]\n",
    "    scores = candidateDF.apply(lambda x: get_trip_similarity_wgm(trip.values, x.values, w_t, w_x),axis=1)\n",
    "    best_matches_per_ride.append( (trip_id,scores.sort_values(ascending=False)[:4]))"
   ]
  },
  {
   "cell_type": "code",
   "execution_count": 25,
   "metadata": {},
   "outputs": [
    {
     "data": {
      "text/plain": [
       "[('1086458', trip_id\n",
       "  120660     0.993438\n",
       "  238948     0.985508\n",
       "  1071074    0.985188\n",
       "  1057665    0.977543\n",
       "  dtype: float64), ('1384942', trip_id\n",
       "  114596     0.992703\n",
       "  1193767    0.988248\n",
       "  1340879    0.987817\n",
       "  110107     0.985751\n",
       "  dtype: float64)]"
      ]
     },
     "execution_count": 25,
     "metadata": {},
     "output_type": "execute_result"
    }
   ],
   "source": [
    "best_matches_per_ride[:2]"
   ]
  },
  {
   "cell_type": "markdown",
   "metadata": {},
   "source": [
    "### Now let's measure performance"
   ]
  },
  {
   "cell_type": "code",
   "execution_count": 26,
   "metadata": {},
   "outputs": [],
   "source": [
    "morningdf_no_nan = pd.read_parquet(os.path.join(data_path_base, r\"koln_morning_dataframe.parquet\"))"
   ]
  },
  {
   "cell_type": "code",
   "execution_count": 27,
   "metadata": {},
   "outputs": [],
   "source": [
    "xmax = morningdf_no_nan.x.max()\n",
    "xmin = morningdf_no_nan.x.min()\n",
    "ymax = morningdf_no_nan.y.max()\n",
    "ymin = morningdf_no_nan.y.min()\n",
    "# tmax1 = morningdf_no_nan.time.max()\n",
    "# tmin1 = morningdf_no_nan.time.min()"
   ]
  },
  {
   "cell_type": "code",
   "execution_count": 28,
   "metadata": {},
   "outputs": [],
   "source": [
    "del morningdf_no_nan"
   ]
  },
  {
   "cell_type": "markdown",
   "metadata": {},
   "source": [
    "LoL! Just needed it for the scaling factors :|"
   ]
  },
  {
   "cell_type": "markdown",
   "metadata": {},
   "source": [
    "#### The important measure is how much they go out of their way comparing to the part where they carpool"
   ]
  },
  {
   "cell_type": "code",
   "execution_count": 186,
   "metadata": {},
   "outputs": [],
   "source": [
    "xyt_columns = ['orig time','orig x','orig y','dest time','dest x','dest y']"
   ]
  },
  {
   "cell_type": "code",
   "execution_count": 30,
   "metadata": {},
   "outputs": [],
   "source": [
    "total_travel_needed_by_riders = np.sqrt( np.square(ridersDF['orig x'] - ridersDF['dest x']) + np.square(ridersDF['orig y'] - ridersDF['dest y']) ) "
   ]
  },
  {
   "cell_type": "code",
   "execution_count": null,
   "metadata": {},
   "outputs": [],
   "source": []
  },
  {
   "cell_type": "code",
   "execution_count": null,
   "metadata": {},
   "outputs": [],
   "source": []
  },
  {
   "cell_type": "code",
   "execution_count": null,
   "metadata": {},
   "outputs": [],
   "source": []
  },
  {
   "cell_type": "code",
   "execution_count": null,
   "metadata": {},
   "outputs": [],
   "source": []
  },
  {
   "cell_type": "code",
   "execution_count": null,
   "metadata": {},
   "outputs": [],
   "source": []
  },
  {
   "cell_type": "code",
   "execution_count": null,
   "metadata": {},
   "outputs": [],
   "source": []
  },
  {
   "cell_type": "code",
   "execution_count": null,
   "metadata": {},
   "outputs": [],
   "source": []
  },
  {
   "cell_type": "markdown",
   "metadata": {},
   "source": [
    "Counting km needed "
   ]
  },
  {
   "cell_type": "code",
   "execution_count": 50,
   "metadata": {},
   "outputs": [],
   "source": [
    "km_needed = np.int64(0)\n",
    "km_traveled = np.int64(0)\n",
    "\n",
    "km_needed = np.sum(np.sqrt((ongoingDF.x_begin - ongoingDF.x_end)**2 + (ongoingDF.y_begin - ongoingDF.y_end)**2))\n",
    "km_needed += np.sum(np.sqrt((reqDF.x_begin - reqDF.x_end)**2 + (reqDF.y_begin - reqDF.y_end)**2))"
   ]
  },
  {
   "cell_type": "code",
   "execution_count": 51,
   "metadata": {},
   "outputs": [],
   "source": [
    "for req , matches in results:\n",
    "    \n",
    "    req_od = np.sqrt( (req[2] - req[6]) ** 2 + (req[3] - req[7])**2 )\n",
    "    \n",
    "    if(type(matches) is list): #that is if there was no match, it has to travel completely! so nothing is saved\n",
    "        km_traveled += req_od\n",
    "        continue\n",
    "    \n",
    "    m = matches[:1]\n",
    "\n",
    "    oo = np.sqrt( (req[2] - m.x_begin)**2 + (req[3] - m.y_begin)**2 ).values[0]\n",
    "    m_od = np.sqrt((m.x_begin - m.x_end)**2 + (m.y_begin - m.y_end)**2).values[0]\n",
    "    dd = np.sqrt((m.x_end - req[6])**2 + (m.y_end - req[7])**2).values[0] \n",
    "    \n",
    "    km_traveled += oo + dd + req_od"
   ]
  },
  {
   "cell_type": "markdown",
   "metadata": {},
   "source": [
    "There are some rides that don't pick up anyone!"
   ]
  },
  {
   "cell_type": "code",
   "execution_count": 52,
   "metadata": {},
   "outputs": [],
   "source": [
    "no_passenger_rides = ongoingDF[~ ongoingDF.index.isin(ongoing_counts.keys())]"
   ]
  },
  {
   "cell_type": "code",
   "execution_count": 53,
   "metadata": {},
   "outputs": [],
   "source": [
    "km_traveled += np.sum(np.sqrt((no_passenger_rides.x_begin - no_passenger_rides.x_end)**2 + (no_passenger_rides.y_begin - no_passenger_rides.y_end)**2))"
   ]
  },
  {
   "cell_type": "code",
   "execution_count": 54,
   "metadata": {},
   "outputs": [
    {
     "data": {
      "text/plain": [
       "(50836363.678376213, 52500659.573500894, 0.96829952406988973)"
      ]
     },
     "execution_count": 54,
     "metadata": {},
     "output_type": "execute_result"
    }
   ],
   "source": [
    "km_traveled, km_needed, km_traveled / km_needed"
   ]
  },
  {
   "cell_type": "markdown",
   "metadata": {},
   "source": [
    "#### Let's just count only those that have a match and see if they don't carpool how much is used vs if they do!"
   ]
  },
  {
   "cell_type": "code",
   "execution_count": 61,
   "metadata": {},
   "outputs": [],
   "source": [
    "km_needed = np.int64(0)\n",
    "km_traveled = np.int64(0)"
   ]
  },
  {
   "cell_type": "code",
   "execution_count": 62,
   "metadata": {},
   "outputs": [],
   "source": [
    "for req , matches in results:\n",
    "    \n",
    "    if(type(matches) is list): #that is if there was no match, it has to travel completely! so nothing is saved\n",
    "        continue\n",
    "    \n",
    "    m = matches[:1]\n",
    "\n",
    "    req_od = np.sqrt( (req[2] - req[6]) ** 2 + (req[3] - req[7])**2 )\n",
    "    oo = np.sqrt( (req[2] - m.x_begin)**2 + (req[3] - m.y_begin)**2 ).values[0]\n",
    "    m_od = np.sqrt((m.x_begin - m.x_end)**2 + (m.y_begin - m.y_end)**2).values[0]\n",
    "    dd = np.sqrt((m.x_end - req[6])**2 + (m.y_end - req[7])**2).values[0] \n",
    "    \n",
    "    km_traveled += oo + dd + req_od\n",
    "    km_needed += req_od + m_od"
   ]
  },
  {
   "cell_type": "code",
   "execution_count": 63,
   "metadata": {},
   "outputs": [
    {
     "data": {
      "text/plain": [
       "(5025579.090945662, 7031415.6343580466, 0.71473218940277972)"
      ]
     },
     "execution_count": 63,
     "metadata": {},
     "output_type": "execute_result"
    }
   ],
   "source": [
    "km_traveled, km_needed, km_traveled / km_needed"
   ]
  },
  {
   "cell_type": "markdown",
   "metadata": {},
   "source": [
    "#### Let's get the distribution for trip distances and times"
   ]
  },
  {
   "cell_type": "code",
   "execution_count": 64,
   "metadata": {},
   "outputs": [],
   "source": [
    "import seaborn as sns"
   ]
  },
  {
   "cell_type": "code",
   "execution_count": 65,
   "metadata": {},
   "outputs": [],
   "source": [
    "ongoing_distances = np.sqrt((ongoingDF.x_begin - ongoingDF.x_end)**2 + (ongoingDF.y_begin - ongoingDF.y_end)**2)\n",
    "req_distances = np.sqrt((reqDF.x_begin - reqDF.x_end)**2 + (reqDF.y_begin - reqDF.y_end)**2)\n",
    "ongoing_time = ongoingDF.time_end - ongoingDF.time_begin\n",
    "req_time = reqDF.time_end - reqDF.time_begin"
   ]
  },
  {
   "cell_type": "code",
   "execution_count": 93,
   "metadata": {},
   "outputs": [],
   "source": [
    "cdf_args = dict(hist=False,hist_kws=dict(cumulative=True),kde_kws=dict(cumulative=True))"
   ]
  },
  {
   "cell_type": "code",
   "execution_count": 96,
   "metadata": {},
   "outputs": [
    {
     "data": {
      "image/png": "[encoded data removed]",
      "text/plain": [
       "<matplotlib.figure.Figure at 0x216a79644a8>"
      ]
     },
     "metadata": {},
     "output_type": "display_data"
    }
   ],
   "source": [
    "# plt.subplot(121)\n",
    "sns.distplot(ongoing_distances,**cdf_args)\n",
    "# plt.subplot(122)\n",
    "sns.distplot(req_distances,**cdf_args)\n",
    "plt.gcf().set_size_inches(6, 4, forward=True)\n"
   ]
  },
  {
   "cell_type": "code",
   "execution_count": 97,
   "metadata": {},
   "outputs": [
    {
     "data": {
      "image/png": "[encoded data removed]",
      "text/plain": [
       "<matplotlib.figure.Figure at 0x216a9456940>"
      ]
     },
     "metadata": {},
     "output_type": "display_data"
    }
   ],
   "source": [
    "# plt.subplot(121)\n",
    "sns.distplot(ongoing_time,**cdf_args)\n",
    "# plt.subplot(122)\n",
    "sns.distplot(req_time,**cdf_args)\n",
    "plt.gcf().set_size_inches(6, 4, forward=True)"
   ]
  },
  {
   "cell_type": "code",
   "execution_count": null,
   "metadata": {},
   "outputs": [],
   "source": [
    "sns.c"
   ]
  }
 ],
 "metadata": {
  "kernelspec": {
   "display_name": "Python 3",
   "language": "python",
   "name": "python3"
  },
  "language_info": {
   "codemirror_mode": {
    "name": "ipython",
    "version": 3
   },
   "file_extension": ".py",
   "mimetype": "text/x-python",
   "name": "python",
   "nbconvert_exporter": "python",
   "pygments_lexer": "ipython3",
   "version": "3.7.6"
  }
 },
 "nbformat": 4,
 "nbformat_minor": 2
}
